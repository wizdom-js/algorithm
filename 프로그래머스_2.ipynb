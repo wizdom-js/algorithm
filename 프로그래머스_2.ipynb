{
 "cells": [
  {
   "cell_type": "code",
   "execution_count": 110,
   "metadata": {},
   "outputs": [],
   "source": [
    "# 짝지어 제거하기\n",
    "\n",
    "from collections import deque\n",
    "\n",
    "def solution(s):\n",
    "    \n",
    "    if len(s) % 2 == 1 :\n",
    "        return 0\n",
    "\n",
    "    s = deque(s)\n",
    "    temp = []\n",
    "    i = s.popleft()\n",
    "\n",
    "    while s :\n",
    "        j = s.popleft()\n",
    "        \n",
    "        if i == j :\n",
    "            if not s :\n",
    "                return 1\n",
    "            else :\n",
    "                if temp :\n",
    "                    i = temp.pop()\n",
    "                else :\n",
    "                    i = s.popleft()\n",
    "                continue\n",
    "        else :\n",
    "            temp.extend(i)\n",
    "            i = j\n",
    "\n",
    "    return 0"
   ]
  },
  {
   "cell_type": "code",
   "execution_count": 112,
   "metadata": {},
   "outputs": [],
   "source": [
    "# 2\n",
    "\n",
    "def solution(s):\n",
    "    \n",
    "    answer = []\n",
    "    \n",
    "    for i in s:\n",
    "        \n",
    "        if not(answer):\n",
    "            answer.append(i)\n",
    "            \n",
    "        else:\n",
    "            if(answer[-1] == i):\n",
    "                answer.pop()\n",
    "            else:\n",
    "                answer.append(i)  \n",
    "                \n",
    "    return not(answer)\n"
   ]
  },
  {
   "cell_type": "code",
   "execution_count": 23,
   "metadata": {},
   "outputs": [],
   "source": [
    "# 약수의 개수와 덧셈\n",
    "\n",
    "def solution(left, right):\n",
    "    answer = 0\n",
    "    \n",
    "    while left <= right :\n",
    "        temp = []\n",
    "        \n",
    "        for i in range(1, left+1) :\n",
    "            if left % i == 0 :\n",
    "                temp.append(i)\n",
    "                \n",
    "        if len(temp) % 2 == 0 :\n",
    "            answer += left\n",
    "        else :\n",
    "            answer -= left\n",
    "\n",
    "        left += 1\n",
    "    return answer"
   ]
  },
  {
   "cell_type": "code",
   "execution_count": 25,
   "metadata": {},
   "outputs": [],
   "source": [
    "# 이상한 문자 만들기\n",
    "\n",
    "def solution(s):\n",
    "    \n",
    "    count = 0\n",
    "    answer = ''\n",
    "    \n",
    "    for i in s :\n",
    "        if i ==  ' ' :\n",
    "            count = 0\n",
    "            answer += i \n",
    "            continue\n",
    "            \n",
    "        if count % 2 == 0 :\n",
    "            i = i.upper()\n",
    "            answer += i\n",
    "        else :\n",
    "            i = i.lower()\n",
    "            answer += i\n",
    "        \n",
    "        count +=1\n",
    "        \n",
    "    return answer"
   ]
  },
  {
   "cell_type": "code",
   "execution_count": 50,
   "metadata": {},
   "outputs": [],
   "source": [
    "# 정수 내림차순으로 배치하기\n",
    "\n",
    "def solution(n):\n",
    "    return int(''.join(sorted(list(str(n)), reverse=True)))"
   ]
  },
  {
   "cell_type": "code",
   "execution_count": null,
   "metadata": {},
   "outputs": [],
   "source": [
    "# 타깃 넘버\n",
    "\n",
    "def solution(numbers, target):\n",
    "    answer = [0]\n",
    "    \n",
    "    for num in numbers :\n",
    "        temp = []\n",
    "        for i in answer :\n",
    "            temp.append(i+num)\n",
    "            temp.append(i-num)\n",
    "        answer = temp\n",
    "        \n",
    "    return answer.count(target)"
   ]
  },
  {
   "cell_type": "code",
   "execution_count": null,
   "metadata": {},
   "outputs": [],
   "source": [
    "# 2\n",
    "# 재귀함수, bfs\n",
    "\n",
    "def solution(numbers, target):\n",
    "    if not numbers and target == 0 :\n",
    "        return 1\n",
    "    elif not numbers:\n",
    "        return 0\n",
    "    else:\n",
    "        return solution(numbers[1:], target-numbers[0]) + solution(numbers[1:], target+numbers[0])\n"
   ]
  },
  {
   "cell_type": "code",
   "execution_count": null,
   "metadata": {},
   "outputs": [],
   "source": [
    "# 3\n",
    "# 파이썬 다운 풀이\n",
    "\n",
    "from itertools import product\n",
    "\n",
    "def solution(numbers, target):\n",
    "    l = [(x, -x) for x in numbers]\n",
    "    s = list(map(sum, product(*l)))\n",
    "    return s.count(target)"
   ]
  },
  {
   "cell_type": "code",
   "execution_count": 3,
   "metadata": {},
   "outputs": [],
   "source": [
    "# 가장 큰 수\n",
    "\n",
    "def solution(numbers):\n",
    "    numbers = sorted(map(str, numbers), key=lambda x : x*3, reverse=True)\n",
    "    \n",
    "    return str(int(''.join(numbers)))"
   ]
  },
  {
   "cell_type": "code",
   "execution_count": 1,
   "metadata": {},
   "outputs": [],
   "source": [
    "# 2\n",
    "# 좀 더 느림\n",
    "\n",
    "import functools\n",
    "\n",
    "def comparator(a,b):\n",
    "    t1 = a+b\n",
    "    t2 = b+a\n",
    "    return (int(t1) > int(t2)) - (int(t1) < int(t2)) #  t1이 크다면 1  // t2가 크다면 -1  //  같으면 0\n",
    "\n",
    "def solution(numbers):\n",
    "    n = [str(x) for x in numbers]\n",
    "    n = sorted(n, key=functools.cmp_to_key(comparator),reverse=True)\n",
    "    answer = str(int(''.join(n)))\n",
    "    return answer"
   ]
  },
  {
   "cell_type": "code",
   "execution_count": null,
   "metadata": {},
   "outputs": [],
   "source": [
    "# 더 맵게\n",
    "# heap\n",
    "\n",
    "import heapq as hq\n",
    "\n",
    "def solution(scoville, K):\n",
    "    count = 0\n",
    "    hq.heapify(scoville)\n",
    "\n",
    "    while True :\n",
    "        a = hq.heappop(scoville)\n",
    "        if a >= K :\n",
    "            return count\n",
    "        \n",
    "        if len(scoville) == 0 :\n",
    "            return -1\n",
    "        \n",
    "        b = hq.heappop(scoville)\n",
    "        hq.heappush(scoville, a + b*2)\n",
    "        count += 1"
   ]
  },
  {
   "cell_type": "code",
   "execution_count": null,
   "metadata": {},
   "outputs": [],
   "source": []
  },
  {
   "cell_type": "code",
   "execution_count": null,
   "metadata": {},
   "outputs": [],
   "source": []
  },
  {
   "cell_type": "code",
   "execution_count": null,
   "metadata": {},
   "outputs": [],
   "source": []
  },
  {
   "cell_type": "code",
   "execution_count": null,
   "metadata": {},
   "outputs": [],
   "source": []
  },
  {
   "cell_type": "code",
   "execution_count": null,
   "metadata": {},
   "outputs": [],
   "source": [
    "# int 숫자 조합해서 다시 붙여서 리스트에 담기\n",
    "\n",
    "list(map(''.join, (permutations(map(str, numbers), len(numbers)))))"
   ]
  }
 ],
 "metadata": {
  "kernelspec": {
   "display_name": "Python 3",
   "language": "python",
   "name": "python3"
  },
  "language_info": {
   "codemirror_mode": {
    "name": "ipython",
    "version": 3
   },
   "file_extension": ".py",
   "mimetype": "text/x-python",
   "name": "python",
   "nbconvert_exporter": "python",
   "pygments_lexer": "ipython3",
   "version": "3.8.5"
  }
 },
 "nbformat": 4,
 "nbformat_minor": 4
}
