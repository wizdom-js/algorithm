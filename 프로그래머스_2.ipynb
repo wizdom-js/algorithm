{
 "cells": [
  {
   "cell_type": "code",
   "execution_count": 110,
   "metadata": {},
   "outputs": [],
   "source": [
    "# 짝지어 제거하기\n",
    "\n",
    "from collections import deque\n",
    "\n",
    "def solution(s):\n",
    "    \n",
    "    if len(s) % 2 == 1 :\n",
    "        return 0\n",
    "\n",
    "    s = deque(s)\n",
    "    temp = []\n",
    "    i = s.popleft()\n",
    "\n",
    "    while s :\n",
    "        j = s.popleft()\n",
    "        \n",
    "        if i == j :\n",
    "            if not s :\n",
    "                return 1\n",
    "            else :\n",
    "                if temp :\n",
    "                    i = temp.pop()\n",
    "                else :\n",
    "                    i = s.popleft()\n",
    "                continue\n",
    "        else :\n",
    "            temp.extend(i)\n",
    "            i = j\n",
    "\n",
    "    return 0"
   ]
  },
  {
   "cell_type": "code",
   "execution_count": 112,
   "metadata": {},
   "outputs": [],
   "source": [
    "# 2\n",
    "\n",
    "def solution(s):\n",
    "    \n",
    "    answer = []\n",
    "    \n",
    "    for i in s:\n",
    "        \n",
    "        if not(answer):\n",
    "            answer.append(i)\n",
    "            \n",
    "        else:\n",
    "            if(answer[-1] == i):\n",
    "                answer.pop()\n",
    "            else:\n",
    "                answer.append(i)  \n",
    "                \n",
    "    return not(answer)\n"
   ]
  },
  {
   "cell_type": "code",
   "execution_count": 23,
   "metadata": {},
   "outputs": [],
   "source": [
    "# 약수의 개수와 덧셈\n",
    "\n",
    "def solution(left, right):\n",
    "    answer = 0\n",
    "    \n",
    "    while left <= right :\n",
    "        temp = []\n",
    "        \n",
    "        for i in range(1, left+1) :\n",
    "            if left % i == 0 :\n",
    "                temp.append(i)\n",
    "                \n",
    "        if len(temp) % 2 == 0 :\n",
    "            answer += left\n",
    "        else :\n",
    "            answer -= left\n",
    "\n",
    "        left += 1\n",
    "    return answer"
   ]
  },
  {
   "cell_type": "code",
   "execution_count": 25,
   "metadata": {},
   "outputs": [],
   "source": [
    "# 이상한 문자 만들기\n",
    "\n",
    "def solution(s):\n",
    "    \n",
    "    count = 0\n",
    "    answer = ''\n",
    "    \n",
    "    for i in s :\n",
    "        if i ==  ' ' :\n",
    "            count = 0\n",
    "            answer += i \n",
    "            continue\n",
    "            \n",
    "        if count % 2 == 0 :\n",
    "            i = i.upper()\n",
    "            answer += i\n",
    "        else :\n",
    "            i = i.lower()\n",
    "            answer += i\n",
    "        \n",
    "        count +=1\n",
    "        \n",
    "    return answer"
   ]
  },
  {
   "cell_type": "code",
   "execution_count": 36,
   "metadata": {},
   "outputs": [],
   "source": [
    "# 정수 내림차순으로 배치하기\n",
    "\n",
    "def solution(n):\n",
    "    answer = 0\n",
    "    n = sorted(list(map(int, str(n))), reverse=True)\n",
    "    for i in n :\n",
    "        answer += i * 10 * len(n)\n",
    "    return answer"
   ]
  },
  {
   "cell_type": "code",
   "execution_count": 37,
   "metadata": {
    "scrolled": false
   },
   "outputs": [
    {
     "name": "stdout",
     "output_type": "stream",
     "text": [
      "[6, 4, 3, 2, 2, 2, 1, 1, 1, 1]\n"
     ]
    },
    {
     "ename": "TypeError",
     "evalue": "sequence item 0: expected str instance, int found",
     "output_type": "error",
     "traceback": [
      "\u001b[0;31m---------------------------------------------------------------------------\u001b[0m",
      "\u001b[0;31mTypeError\u001b[0m                                 Traceback (most recent call last)",
      "\u001b[0;32m<ipython-input-37-ef8055dc9197>\u001b[0m in \u001b[0;36m<module>\u001b[0;34m\u001b[0m\n\u001b[0;32m----> 1\u001b[0;31m \u001b[0msolution\u001b[0m\u001b[0;34m(\u001b[0m\u001b[0;36m1212612341\u001b[0m\u001b[0;34m)\u001b[0m\u001b[0;34m\u001b[0m\u001b[0;34m\u001b[0m\u001b[0m\n\u001b[0m",
      "\u001b[0;32m<ipython-input-36-1f1c20094abe>\u001b[0m in \u001b[0;36msolution\u001b[0;34m(n)\u001b[0m\n\u001b[1;32m      5\u001b[0m     \u001b[0mn\u001b[0m \u001b[0;34m=\u001b[0m \u001b[0msorted\u001b[0m\u001b[0;34m(\u001b[0m\u001b[0mn\u001b[0m\u001b[0;34m,\u001b[0m \u001b[0mreverse\u001b[0m\u001b[0;34m=\u001b[0m\u001b[0;32mTrue\u001b[0m\u001b[0;34m)\u001b[0m\u001b[0;34m\u001b[0m\u001b[0;34m\u001b[0m\u001b[0m\n\u001b[1;32m      6\u001b[0m     \u001b[0mprint\u001b[0m\u001b[0;34m(\u001b[0m\u001b[0mn\u001b[0m\u001b[0;34m)\u001b[0m\u001b[0;34m\u001b[0m\u001b[0;34m\u001b[0m\u001b[0m\n\u001b[0;32m----> 7\u001b[0;31m     \u001b[0;32mreturn\u001b[0m \u001b[0;34m''\u001b[0m\u001b[0;34m.\u001b[0m\u001b[0mjoin\u001b[0m\u001b[0;34m(\u001b[0m\u001b[0mn\u001b[0m\u001b[0;34m)\u001b[0m\u001b[0;34m\u001b[0m\u001b[0;34m\u001b[0m\u001b[0m\n\u001b[0m",
      "\u001b[0;31mTypeError\u001b[0m: sequence item 0: expected str instance, int found"
     ]
    }
   ],
   "source": [
    "solution(1212612341)"
   ]
  },
  {
   "cell_type": "code",
   "execution_count": null,
   "metadata": {},
   "outputs": [],
   "source": []
  },
  {
   "cell_type": "code",
   "execution_count": null,
   "metadata": {},
   "outputs": [],
   "source": []
  },
  {
   "cell_type": "code",
   "execution_count": null,
   "metadata": {},
   "outputs": [],
   "source": []
  },
  {
   "cell_type": "code",
   "execution_count": null,
   "metadata": {},
   "outputs": [],
   "source": []
  },
  {
   "cell_type": "code",
   "execution_count": null,
   "metadata": {},
   "outputs": [],
   "source": []
  },
  {
   "cell_type": "code",
   "execution_count": null,
   "metadata": {},
   "outputs": [],
   "source": []
  }
 ],
 "metadata": {
  "kernelspec": {
   "display_name": "Python 3",
   "language": "python",
   "name": "python3"
  },
  "language_info": {
   "codemirror_mode": {
    "name": "ipython",
    "version": 3
   },
   "file_extension": ".py",
   "mimetype": "text/x-python",
   "name": "python",
   "nbconvert_exporter": "python",
   "pygments_lexer": "ipython3",
   "version": "3.8.5"
  }
 },
 "nbformat": 4,
 "nbformat_minor": 4
}
