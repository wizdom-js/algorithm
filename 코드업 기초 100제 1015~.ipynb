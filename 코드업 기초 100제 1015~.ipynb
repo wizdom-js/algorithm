{
 "cells": [
  {
   "cell_type": "code",
   "execution_count": 5,
   "metadata": {
    "scrolled": true
   },
   "outputs": [
    {
     "name": "stdout",
     "output_type": "stream",
     "text": [
      "제 나이는 25이며, 몸무게는 62.5 kg이고, 취미는 프로그래밍 입니다.\n"
     ]
    }
   ],
   "source": [
    "print(\"제 나이는 %d이며, 몸무게는 %.1f kg이고, 취미는 %s 입니다.\" %(25, 62.55,'프로그래밍'))"
   ]
  },
  {
   "cell_type": "code",
   "execution_count": 17,
   "metadata": {},
   "outputs": [],
   "source": [
    "weight = 62.534"
   ]
  },
  {
   "cell_type": "code",
   "execution_count": 18,
   "metadata": {},
   "outputs": [
    {
     "name": "stdout",
     "output_type": "stream",
     "text": [
      "몸무게: 62.5\n"
     ]
    }
   ],
   "source": [
    "print(\"몸무게:\", format(weight, '.1f'))"
   ]
  },
  {
   "cell_type": "code",
   "execution_count": 19,
   "metadata": {},
   "outputs": [],
   "source": [
    "a = 1.532343"
   ]
  },
  {
   "cell_type": "code",
   "execution_count": 20,
   "metadata": {},
   "outputs": [
    {
     "name": "stdout",
     "output_type": "stream",
     "text": [
      "1.53\n"
     ]
    }
   ],
   "source": [
    "print(format(a, '.2f'))"
   ]
  },
  {
   "cell_type": "code",
   "execution_count": 22,
   "metadata": {
    "scrolled": true
   },
   "outputs": [
    {
     "data": {
      "text/plain": [
       "'홍길동 34'"
      ]
     },
     "execution_count": 22,
     "metadata": {},
     "output_type": "execute_result"
    }
   ],
   "source": [
    "'{} {}'.format('홍길동', 34)"
   ]
  },
  {
   "cell_type": "code",
   "execution_count": 4,
   "metadata": {
    "scrolled": true
   },
   "outputs": [
    {
     "name": "stdout",
     "output_type": "stream",
     "text": [
      "1.66345\n",
      "1.66\n"
     ]
    }
   ],
   "source": [
    "# 1015\n",
    "\n",
    "f = float(input())\n",
    "\n",
    "print('%.2f' %f)"
   ]
  },
  {
   "cell_type": "code",
   "execution_count": 10,
   "metadata": {
    "scrolled": true
   },
   "outputs": [
    {
     "name": "stdout",
     "output_type": "stream",
     "text": [
      "125\n",
      "125 125 125\n"
     ]
    }
   ],
   "source": [
    "# 1017\n",
    "\n",
    "a = int(input())\n",
    "print('%d %d %d' %(a,a,a))\n",
    "\n",
    "# 더 쉬운 방법\n",
    "# n= int(input())\n",
    "# print(n, n, n)\n",
    "# 그대로 내는 방법인데 저걸 써야한다는 생각에 사로잡혀서 더 길게 써버림."
   ]
  },
  {
   "cell_type": "code",
   "execution_count": 6,
   "metadata": {},
   "outputs": [
    {
     "name": "stdout",
     "output_type": "stream",
     "text": [
      "3:16\n",
      "3:16\n"
     ]
    }
   ],
   "source": [
    "# 1018\n",
    "\n",
    "a,b = input().split(':')\n",
    "# print(a,':',b)\n",
    "# 처음 생각한 방식 근데 3 : 16 띄워져서 나왔다. 그걸 해결해야함.\n",
    "\n",
    "print(\"%s:%s\" %(a,b)) # 내가 생각한 다른 방법\n",
    "# '정수'라는 조건이 없어서 이렇게 해도 가능하지만, 정수라는 조건이 걸려 있으면 정답처럼 하는 것이 더 효율적임.\n",
    "\n",
    "#print(int(a), int(b), sep=':') # 이건 정답\n"
   ]
  },
  {
   "cell_type": "code",
   "execution_count": 7,
   "metadata": {},
   "outputs": [
    {
     "name": "stdout",
     "output_type": "stream",
     "text": [
      "2013.9.5\n",
      "2013.09.05\n"
     ]
    }
   ],
   "source": [
    "# 1019\n",
    "\n",
    "y,m,d=input().split('.')\n",
    "\n",
    "print(\"%04d.%02d.%02d\" %(int(y),int(m),int(d)))\n",
    "\n",
    "# 프린트를 이렇게 하는 것이 메모리를 좀 덜 잡아먹음.\n",
    "# print('%04d' % int(a), end='.')\n",
    "# print('%02d' % int(b), end='.')\n",
    "# print('%02d' % int(c))"
   ]
  },
  {
   "cell_type": "code",
   "execution_count": 50,
   "metadata": {},
   "outputs": [
    {
     "name": "stdout",
     "output_type": "stream",
     "text": [
      "122222-5555555\n",
      "1222225555555\n"
     ]
    }
   ],
   "source": [
    "# 1020\n",
    "\n",
    "a,b=input().split('-')\n",
    "print(\"%d%d\" %(int(a),int(b)))\n",
    "\n",
    "# 정답에서는\n",
    "# print(a+b)\n",
    "# 왜냐면 정수라는 조건을 주지 않았기 때문. 조건을 잘 봐야한다."
   ]
  },
  {
   "cell_type": "code",
   "execution_count": 8,
   "metadata": {},
   "outputs": [
    {
     "name": "stdout",
     "output_type": "stream",
     "text": [
      "very fun\n",
      "very fun\n"
     ]
    }
   ],
   "source": [
    "# 1023\n",
    "\n",
    "a=input()\n",
    "print(a)"
   ]
  },
  {
   "cell_type": "code",
   "execution_count": 14,
   "metadata": {},
   "outputs": [
    {
     "name": "stdout",
     "output_type": "stream",
     "text": [
      "1.23516\n",
      "1\n",
      "23516\n"
     ]
    }
   ],
   "source": [
    "# 1023\n",
    "\n",
    "a,b=input().split('.')\n",
    "print(\"%d\\n%d\" %(int(a),float(b)))\n",
    "\n",
    "# print(int(a))\n",
    "# print(int(b))\n",
    "# 정답에서는 print를 이렇게 풀어냈다. 단순하게 풀어내는 법도 생각하기."
   ]
  },
  {
   "cell_type": "code",
   "execution_count": 98,
   "metadata": {},
   "outputs": [
    {
     "name": "stdout",
     "output_type": "stream",
     "text": [
      "boy\n",
      "'b'\n",
      "'o'\n",
      "'y'\n"
     ]
    }
   ],
   "source": [
    "# 1024\n",
    "\n",
    "a=input()\n",
    "\n",
    "for c in a:\n",
    "    print(\"'\"+c+\"'\")"
   ]
  },
  {
   "cell_type": "code",
   "execution_count": 21,
   "metadata": {},
   "outputs": [
    {
     "name": "stdout",
     "output_type": "stream",
     "text": [
      "12356\n",
      "[10000]\n",
      "[2000]\n",
      "[300]\n",
      "[50]\n",
      "[6]\n"
     ]
    }
   ],
   "source": [
    "# 1025\n",
    "\n",
    "a=input()\n",
    "x=int(10000)\n",
    "\n",
    "for i in a :\n",
    "    y=int(i)\n",
    "    z=y*x\n",
    "    print(\"[\"+str(int(z))+\"]\")\n",
    "    x=x/10\n",
    "    if x==0 :\n",
    "        break\n",
    "        \n",
    "# 간단한 노가다는 하는 것이 좋다. 메모리를 덜 잡아먹기 위해,,\n",
    "# 괜히 간단한거 가지고 제어문 쓰지 말자,,\n",
    "# n=input()\n",
    "\n",
    "# print(\"[\"+str(int(n[0])*10000)+\"]\")\n",
    "# print(\"[\"+str(int(n[1])*1000)+\"]\")\n",
    "# print(\"[\"+str(int(n[2])*100)+\"]\")\n",
    "# print(\"[\"+str(int(n[3])*10)+\"]\")\n",
    "# print(\"[\"+str(int(n[4]))+\"]\")       "
   ]
  },
  {
   "cell_type": "code",
   "execution_count": 25,
   "metadata": {},
   "outputs": [
    {
     "name": "stdout",
     "output_type": "stream",
     "text": [
      "6:00:00\n",
      "0\n"
     ]
    }
   ],
   "source": [
    "# 1026\n",
    "\n",
    "a,b,c=input().split(':')\n",
    "\n",
    "print(int(b))"
   ]
  },
  {
   "cell_type": "code",
   "execution_count": 24,
   "metadata": {},
   "outputs": [
    {
     "name": "stdout",
     "output_type": "stream",
     "text": [
      "2015.09.15\n",
      "15-09-2015\n"
     ]
    }
   ],
   "source": [
    "# 1027\n",
    "\n",
    "y,m,d=input().split('.')\n",
    "\n",
    "print(d+\"-\"+m+\"-\"+y)"
   ]
  },
  {
   "cell_type": "code",
   "execution_count": 8,
   "metadata": {},
   "outputs": [
    {
     "name": "stdout",
     "output_type": "stream",
     "text": [
      "-9223372036854775808\n",
      "-9223372036854775808\n"
     ]
    }
   ],
   "source": [
    "# 1028, 1030\n",
    "\n",
    "a=int(input())\n",
    "print(a)"
   ]
  },
  {
   "cell_type": "code",
   "execution_count": 6,
   "metadata": {},
   "outputs": [
    {
     "name": "stdout",
     "output_type": "stream",
     "text": [
      "0.18279175723984\n",
      "0.18279175724\n"
     ]
    }
   ],
   "source": [
    "# 1029\n",
    "\n",
    "a = float(input())\n",
    "print(\"%.11f\" %a)"
   ]
  },
  {
   "cell_type": "code",
   "execution_count": 7,
   "metadata": {
    "scrolled": true
   },
   "outputs": [
    {
     "name": "stdout",
     "output_type": "stream",
     "text": [
      "12\n",
      "14\n"
     ]
    }
   ],
   "source": [
    "# 1031\n",
    "\n",
    "a = int(input())\n",
    "print(\"%o\" %a)"
   ]
  },
  {
   "cell_type": "code",
   "execution_count": 8,
   "metadata": {},
   "outputs": [
    {
     "name": "stdout",
     "output_type": "stream",
     "text": [
      "255\n",
      "ff\n"
     ]
    }
   ],
   "source": [
    "# 1032\n",
    "\n",
    "a= int(input())\n",
    "print(\"%x\" %a)"
   ]
  },
  {
   "cell_type": "code",
   "execution_count": 9,
   "metadata": {},
   "outputs": [
    {
     "name": "stdout",
     "output_type": "stream",
     "text": [
      "252\n",
      "FC\n"
     ]
    }
   ],
   "source": [
    "# 1033\n",
    "\n",
    "a= int(input())\n",
    "print(\"%X\" %a)"
   ]
  },
  {
   "cell_type": "code",
   "execution_count": 13,
   "metadata": {
    "scrolled": false
   },
   "outputs": [
    {
     "name": "stdout",
     "output_type": "stream",
     "text": [
      "13\n",
      "11\n"
     ]
    }
   ],
   "source": [
    "# 1034\n",
    "\n",
    "a=int(input(),8)\n",
    "print(\"%d\" %a)"
   ]
  },
  {
   "cell_type": "code",
   "execution_count": 14,
   "metadata": {
    "scrolled": true
   },
   "outputs": [
    {
     "name": "stdout",
     "output_type": "stream",
     "text": [
      "f\n",
      "17\n"
     ]
    }
   ],
   "source": [
    "# 1035\n",
    "\n",
    "a=int(input(),16)\n",
    "print(\"%o\" %a)"
   ]
  },
  {
   "cell_type": "code",
   "execution_count": 17,
   "metadata": {
    "scrolled": true
   },
   "outputs": [
    {
     "name": "stdout",
     "output_type": "stream",
     "text": [
      "A\n",
      "65\n"
     ]
    }
   ],
   "source": [
    "# 1036\n",
    "\n",
    "a=ord(input())\n",
    "print(a)\n",
    "\n",
    "#ord함수 : 입력된 문자의 아스키코드값을 알려줌. chr()함수와 반대의 기능을한다."
   ]
  },
  {
   "cell_type": "code",
   "execution_count": 18,
   "metadata": {
    "scrolled": true
   },
   "outputs": [
    {
     "name": "stdout",
     "output_type": "stream",
     "text": [
      "65\n",
      "A\n"
     ]
    }
   ],
   "source": [
    "# 1037\n",
    "\n",
    "a=int(input())\n",
    "print(chr(a))"
   ]
  },
  {
   "cell_type": "code",
   "execution_count": 1,
   "metadata": {
    "scrolled": true
   },
   "outputs": [
    {
     "name": "stdout",
     "output_type": "stream",
     "text": [
      "123 123\n",
      "246\n"
     ]
    }
   ],
   "source": [
    "# 1038,1039\n",
    "\n",
    "a,b=input().split()\n",
    "print(int(a)+int(b))"
   ]
  },
  {
   "cell_type": "code",
   "execution_count": 44,
   "metadata": {
    "scrolled": true
   },
   "outputs": [
    {
     "name": "stdout",
     "output_type": "stream",
     "text": [
      "1234\n",
      "-1234\n"
     ]
    }
   ],
   "source": [
    "# 1040\n",
    "\n",
    "a=int(input())\n",
    "print(-a)"
   ]
  },
  {
   "cell_type": "code",
   "execution_count": 2,
   "metadata": {},
   "outputs": [
    {
     "name": "stdout",
     "output_type": "stream",
     "text": [
      "a\n",
      "b\n"
     ]
    }
   ],
   "source": [
    "# 1041\n",
    "\n",
    "a=ord(input())\n",
    "print(chr(a+1))"
   ]
  },
  {
   "cell_type": "code",
   "execution_count": 6,
   "metadata": {
    "scrolled": true
   },
   "outputs": [
    {
     "name": "stdout",
     "output_type": "stream",
     "text": [
      "1 3\n",
      "0\n"
     ]
    }
   ],
   "source": [
    "# 1042\n",
    "\n",
    "a,b=input().split()\n",
    "c=int(a)//int(b)\n",
    "print(c)"
   ]
  },
  {
   "cell_type": "code",
   "execution_count": 6,
   "metadata": {
    "scrolled": true
   },
   "outputs": [
    {
     "name": "stdout",
     "output_type": "stream",
     "text": [
      "1 3\n",
      "0\n"
     ]
    }
   ],
   "source": [
    "# 1043\n",
    "\n",
    "a,b=input().split()\n",
    "c=int(a)%int(b)\n",
    "print(c)"
   ]
  },
  {
   "cell_type": "code",
   "execution_count": 61,
   "metadata": {
    "scrolled": true
   },
   "outputs": [
    {
     "name": "stdout",
     "output_type": "stream",
     "text": [
      "12345\n",
      "12346\n"
     ]
    }
   ],
   "source": [
    "# 1044\n",
    "\n",
    "a=int(input())\n",
    "print(a+1)"
   ]
  },
  {
   "cell_type": "code",
   "execution_count": 67,
   "metadata": {},
   "outputs": [
    {
     "name": "stdout",
     "output_type": "stream",
     "text": [
      "10 3\n",
      "13\n",
      "7\n",
      "30\n",
      "3\n",
      "1\n",
      "3.33\n"
     ]
    }
   ],
   "source": [
    "# 1045\n",
    "\n",
    "a,b=input().split()\n",
    "x=int(a)\n",
    "y=int(b)\n",
    "print(x+y)\n",
    "print(x-y)\n",
    "print(x*y)\n",
    "print(x//y)\n",
    "print(x%y)\n",
    "print(\"%.2f\" %float(x/y))"
   ]
  },
  {
   "cell_type": "code",
   "execution_count": 10,
   "metadata": {},
   "outputs": [
    {
     "name": "stdout",
     "output_type": "stream",
     "text": [
      "1 2 3\n",
      "6\n",
      "2.0\n"
     ]
    }
   ],
   "source": [
    "# 1046\n",
    "\n",
    "a,b,c = input().split()\n",
    "x=int(a)\n",
    "y=int(b)\n",
    "z=int(c)\n",
    "\n",
    "print(x+y+z)\n",
    "print(round((x+y+z)/3,1))\n",
    "#print(\"%.1f\", %((x+y+z)/3))"
   ]
  },
  {
   "cell_type": "code",
   "execution_count": 69,
   "metadata": {
    "scrolled": true
   },
   "outputs": [
    {
     "name": "stdout",
     "output_type": "stream",
     "text": [
      "1024\n",
      "2048\n"
     ]
    }
   ],
   "source": [
    "# 1047\n",
    "\n",
    "a=int(input())\n",
    "print(a<<1)"
   ]
  },
  {
   "cell_type": "code",
   "execution_count": 11,
   "metadata": {},
   "outputs": [
    {
     "name": "stdout",
     "output_type": "stream",
     "text": [
      "1 3\n",
      "8\n"
     ]
    }
   ],
   "source": [
    "# 1048\n",
    "\n",
    "a,b=input().split()\n",
    "print(int(a)<<int(b))"
   ]
  },
  {
   "cell_type": "code",
   "execution_count": 12,
   "metadata": {},
   "outputs": [
    {
     "name": "stdout",
     "output_type": "stream",
     "text": [
      "9 1\n",
      "1\n"
     ]
    }
   ],
   "source": [
    "# 1049\n",
    "\n",
    "a,b=input().split()\n",
    "if int(a)>int(b) :\n",
    "    print(1)\n",
    "else :\n",
    "    print(0)\n",
    "    \n",
    "#if문 대신 \n",
    "#print(int(int(a)>int(b)))로 써주면 더 간단하다.\n",
    "# 대소를 int 정수로 참 거짓으로 나타내니 참이면 1 아니면 0인거지."
   ]
  },
  {
   "cell_type": "code",
   "execution_count": 13,
   "metadata": {},
   "outputs": [
    {
     "name": "stdout",
     "output_type": "stream",
     "text": [
      "0 0\n",
      "1\n"
     ]
    }
   ],
   "source": [
    "# 1050\n",
    "\n",
    "a,b=input().split()\n",
    "print(int(int(a)==int(b)))"
   ]
  },
  {
   "cell_type": "code",
   "execution_count": 15,
   "metadata": {},
   "outputs": [
    {
     "name": "stdout",
     "output_type": "stream",
     "text": [
      "0 -1\n",
      "0\n"
     ]
    }
   ],
   "source": [
    "# 1051\n",
    "\n",
    "a,b=input().split()\n",
    "print(int(int(a)<=int(b)))"
   ]
  },
  {
   "cell_type": "code",
   "execution_count": 16,
   "metadata": {},
   "outputs": [
    {
     "name": "stdout",
     "output_type": "stream",
     "text": [
      "1 1\n",
      "0\n"
     ]
    }
   ],
   "source": [
    "# 1052\n",
    "\n",
    "a,b=input().split()\n",
    "print(int(int(a)!=int(b)))"
   ]
  },
  {
   "cell_type": "code",
   "execution_count": 2,
   "metadata": {},
   "outputs": [
    {
     "name": "stdout",
     "output_type": "stream",
     "text": [
      "1\n",
      "0\n"
     ]
    }
   ],
   "source": [
    "# 1053\n",
    "\n",
    "a = int(input())\n",
    "if a==0 :\n",
    "    print(1)\n",
    "else :\n",
    "    print(0)\n",
    "        \n",
    "# 정답\n",
    "# if문 말고 bool함수를 이용해 푸는 간단한 방법이 있다.\n",
    "# a = int(input())\n",
    "# b = bool(a)  --> True or False로 바꾸기\n",
    "# a = int(not b)  --> 반대로 해줘서 int로 전환\n",
    "\n",
    "# print(a)"
   ]
  },
  {
   "cell_type": "code",
   "execution_count": 8,
   "metadata": {
    "scrolled": true
   },
   "outputs": [
    {
     "name": "stdout",
     "output_type": "stream",
     "text": [
      "1 0\n",
      "0\n"
     ]
    }
   ],
   "source": [
    "# 1054\n",
    "\n",
    "a,b=input().split()\n",
    "x=bool(int(a))\n",
    "y=bool(int(b))\n",
    "z=int(x and y) # 둘다 참일때만 TRUE(1) 출력\n",
    "\n",
    "print(z)"
   ]
  },
  {
   "cell_type": "code",
   "execution_count": 8,
   "metadata": {
    "scrolled": true
   },
   "outputs": [
    {
     "name": "stdout",
     "output_type": "stream",
     "text": [
      "1 0\n",
      "0\n"
     ]
    }
   ],
   "source": [
    "# 1055\n",
    "\n",
    "a,b=input().split()\n",
    "x=bool(int(a))\n",
    "y=bool(int(b))\n",
    "z=int(x or y) \n",
    "\n",
    "print(z)"
   ]
  },
  {
   "cell_type": "code",
   "execution_count": 9,
   "metadata": {
    "scrolled": false
   },
   "outputs": [
    {
     "name": "stdout",
     "output_type": "stream",
     "text": [
      "1 0\n",
      "1\n"
     ]
    }
   ],
   "source": [
    "# 1056\n",
    "\n",
    "a,b=input().split()\n",
    "x=bool(int(a))\n",
    "y=bool(int(b))\n",
    "z=int(x is not y) \n",
    "\n",
    "print(z)"
   ]
  },
  {
   "cell_type": "code",
   "execution_count": 9,
   "metadata": {
    "scrolled": false
   },
   "outputs": [
    {
     "name": "stdout",
     "output_type": "stream",
     "text": [
      "1 0\n",
      "1\n"
     ]
    }
   ],
   "source": [
    "# 1057\n",
    "\n",
    "a,b=input().split()\n",
    "x=bool(int(a))\n",
    "y=bool(int(b))\n",
    "z=int(x is y) \n",
    "\n",
    "print(z)"
   ]
  },
  {
   "cell_type": "code",
   "execution_count": 12,
   "metadata": {},
   "outputs": [
    {
     "name": "stdout",
     "output_type": "stream",
     "text": [
      "0 0\n",
      "1\n"
     ]
    }
   ],
   "source": [
    "# 1058\n",
    "\n",
    "a,b=input().split()\n",
    "x=bool(int(a))\n",
    "y=bool(int(b))\n",
    "z=int(x==False and y==False) \n",
    "\n",
    "print(z)"
   ]
  },
  {
   "cell_type": "code",
   "execution_count": 14,
   "metadata": {},
   "outputs": [
    {
     "name": "stdout",
     "output_type": "stream",
     "text": [
      "2\n",
      "-3\n"
     ]
    }
   ],
   "source": [
    "# 1059\n",
    "\n",
    "a=int(input())\n",
    "print(\"%d\" %~a)\n",
    "# print(~a)로 해두 된다. 이미 int함수를 썼기때문에 10진수출력 안써두됨."
   ]
  },
  {
   "cell_type": "code",
   "execution_count": 17,
   "metadata": {},
   "outputs": [
    {
     "name": "stdout",
     "output_type": "stream",
     "text": [
      "3 5\n",
      "1\n"
     ]
    }
   ],
   "source": [
    "# 1060\n",
    "\n",
    "a,b=input().split()\n",
    "print(int(int(a)&int(b)))"
   ]
  },
  {
   "cell_type": "code",
   "execution_count": 21,
   "metadata": {
    "scrolled": true
   },
   "outputs": [
    {
     "name": "stdout",
     "output_type": "stream",
     "text": [
      "3 5\n",
      "7\n"
     ]
    }
   ],
   "source": [
    "# 1061\n",
    "\n",
    "a,b=input().split()\n",
    "print(int(int(a)|int(b)))"
   ]
  },
  {
   "cell_type": "code",
   "execution_count": 21,
   "metadata": {
    "scrolled": true
   },
   "outputs": [
    {
     "name": "stdout",
     "output_type": "stream",
     "text": [
      "3 5\n",
      "7\n"
     ]
    }
   ],
   "source": [
    "# 1062\n",
    "\n",
    "a,b=input().split()\n",
    "print(int(int(a)^int(b)))"
   ]
  },
  {
   "cell_type": "code",
   "execution_count": 22,
   "metadata": {},
   "outputs": [
    {
     "name": "stdout",
     "output_type": "stream",
     "text": [
      "1 0\n",
      "1\n"
     ]
    }
   ],
   "source": [
    "# 1063\n",
    "\n",
    "a,b=input().split()\n",
    "x=int(a)\n",
    "y=int(b)\n",
    "print(x if x>y else y) # 조건문대신 3항연산자 사용하기"
   ]
  },
  {
   "cell_type": "code",
   "execution_count": 25,
   "metadata": {},
   "outputs": [
    {
     "name": "stdout",
     "output_type": "stream",
     "text": [
      "1 0 2\n",
      "0\n"
     ]
    }
   ],
   "source": [
    "# 1064\n",
    "\n",
    "a,b,c=input().split()\n",
    "\n",
    "x=int(a)\n",
    "y=int(b)\n",
    "z=int(c)\n",
    "\n",
    "# 정답\n",
    "# m=x if x<y and x<z else y\n",
    "# n=y if y<z else z\n",
    "\n",
    "# print(m if m<=n else n)\n",
    "print(min(x,y,z)) # min 함수를 쓰면 더 쉽게 할 수 있음 "
   ]
  },
  {
   "cell_type": "code",
   "execution_count": 67,
   "metadata": {},
   "outputs": [
    {
     "name": "stdout",
     "output_type": "stream",
     "text": [
      "1 2 8\n",
      "odd\n",
      "even\n",
      "even\n"
     ]
    }
   ],
   "source": [
    "a,b,c=input().split()\n",
    "\n",
    "x=int(a)\n",
    "y=int(b)\n",
    "z=int(c)\n",
    "\n",
    "if x%2==0 :\n",
    "    print('even')\n",
    "else :\n",
    "    print('odd')\n",
    "    \n",
    "if y%2==0 :\n",
    "      print('even')\n",
    "else :\n",
    "    print('odd')\n",
    "    \n",
    "if z%2==0 :\n",
    "      print('even')\n",
    "else :\n",
    "    print('odd')"
   ]
  },
  {
   "cell_type": "code",
   "execution_count": 68,
   "metadata": {},
   "outputs": [
    {
     "name": "stdout",
     "output_type": "stream",
     "text": [
      "-243\n",
      "minus\n",
      "odd\n"
     ]
    }
   ],
   "source": [
    "a=int(input())\n",
    "\n",
    "if a>0 :\n",
    "    print('plus')\n",
    "else :\n",
    "    print('minus')\n",
    "\n",
    "if a%2==0 :\n",
    "    print('even')\n",
    "else :\n",
    "    print('odd')"
   ]
  },
  {
   "cell_type": "code",
   "execution_count": 71,
   "metadata": {},
   "outputs": [
    {
     "name": "stdout",
     "output_type": "stream",
     "text": [
      "73\n",
      "B\n"
     ]
    }
   ],
   "source": [
    "a=int(input())\n",
    "\n",
    "if 90<=a==100 :\n",
    "    print('A')\n",
    "elif 70<=a<90 :\n",
    "    print('B')\n",
    "elif 40<=a<70 :\n",
    "    print('C')\n",
    "else :\n",
    "    print('D')"
   ]
  },
  {
   "cell_type": "code",
   "execution_count": null,
   "metadata": {},
   "outputs": [],
   "source": [
    "a=input()\n",
    "\n",
    "if a==\"A\" :\n",
    "    print(\"best!!!\")\n",
    "elif a==\"B\" :\n",
    "    print(\"good!!\")\n",
    "elif a==\"C\" :\n",
    "    print(\"run!\")\n",
    "elif a==\"D\" :\n",
    "    print(\"slowly~\")\n",
    "else :\n",
    "    print(\"what?\")"
   ]
  },
  {
   "cell_type": "code",
   "execution_count": 84,
   "metadata": {},
   "outputs": [
    {
     "name": "stdout",
     "output_type": "stream",
     "text": [
      "1\n",
      "winter\n"
     ]
    }
   ],
   "source": [
    "a=int(input())\n",
    "\n",
    "if a==12 or a==1 or a==2  :\n",
    "    print('winter')\n",
    "elif a==3 or a==4 or a==5 :\n",
    "    print('spring')\n",
    "elif a==6 or a==7 or a==8 :\n",
    "    print('summer')\n",
    "else :\n",
    "    print('fall')"
   ]
  },
  {
   "cell_type": "code",
   "execution_count": 97,
   "metadata": {},
   "outputs": [
    {
     "name": "stdout",
     "output_type": "stream",
     "text": [
      "7 4 2 3 0 1 5\n",
      "7\n",
      "4\n",
      "2\n",
      "3\n"
     ]
    }
   ],
   "source": [
    "a = list(input().split())\n",
    "a\n",
    "n=0\n",
    "\n",
    "for a in a :\n",
    "    if a != '0' :\n",
    "        print(a)\n",
    "    else :\n",
    "        break\n",
    "    n=n+1"
   ]
  },
  {
   "cell_type": "code",
   "execution_count": 98,
   "metadata": {},
   "outputs": [
    {
     "name": "stdout",
     "output_type": "stream",
     "text": [
      "5 4 2 3 4 5\n"
     ]
    },
    {
     "data": {
      "text/plain": [
       "['5', '4', '2', '3', '4', '5']"
      ]
     },
     "execution_count": 98,
     "metadata": {},
     "output_type": "execute_result"
    }
   ],
   "source": [
    "a = input().split()\n",
    "\n",
    "a"
   ]
  },
  {
   "cell_type": "code",
   "execution_count": 126,
   "metadata": {},
   "outputs": [
    {
     "name": "stdout",
     "output_type": "stream",
     "text": [
      "3\n",
      "5 4 6 8 2\n",
      "5\n",
      "4\n",
      "6\n"
     ]
    }
   ],
   "source": [
    "a=int(input())\n",
    "l=input().split()\n",
    "n=0\n",
    "\n",
    "for i in l :\n",
    "    print(i)\n",
    "    n=n+1\n",
    "    if n==a :\n",
    "        break\n",
    "    \n",
    "    "
   ]
  },
  {
   "cell_type": "code",
   "execution_count": 129,
   "metadata": {},
   "outputs": [
    {
     "name": "stdout",
     "output_type": "stream",
     "text": [
      "3\n",
      "5 4 2\n",
      "5\n",
      "4\n",
      "2\n"
     ]
    }
   ],
   "source": [
    "n = int(input())\n",
    "a = input().split()\n",
    "for x in a:\n",
    "    print(x)"
   ]
  },
  {
   "cell_type": "code",
   "execution_count": 132,
   "metadata": {},
   "outputs": [
    {
     "name": "stdout",
     "output_type": "stream",
     "text": [
      "7 4 2 3 0 1 5\n",
      "7\n",
      "4\n",
      "2\n",
      "3\n"
     ]
    }
   ],
   "source": [
    "\n",
    "l=input().split()\n",
    "\n",
    "for i in l :\n",
    "    if i=='0' :\n",
    "        break\n",
    "    print(i)"
   ]
  },
  {
   "cell_type": "code",
   "execution_count": 134,
   "metadata": {},
   "outputs": [
    {
     "name": "stdout",
     "output_type": "stream",
     "text": [
      "5\n",
      "4\n",
      "3\n",
      "2\n",
      "1\n",
      "0\n"
     ]
    }
   ],
   "source": [
    "a=int(input())\n",
    "while a :\n",
    "    a=a-1\n",
    "    print(a)\n",
    "    if a=='0' :\n",
    "        break\n",
    "    "
   ]
  },
  {
   "cell_type": "code",
   "execution_count": null,
   "metadata": {},
   "outputs": [],
   "source": [
    "a=input()\n",
    "n=0\n",
    "\n",
    "while a :\n",
    "    print(a)\n",
    "    n=n+1\n",
    "    if a=='0' :\n",
    "        break"
   ]
  },
  {
   "cell_type": "code",
   "execution_count": 137,
   "metadata": {},
   "outputs": [
    {
     "ename": "TypeError",
     "evalue": "unsupported operand type(s) for +: 'range' and 'int'",
     "output_type": "error",
     "traceback": [
      "\u001b[0;31m---------------------------------------------------------------------------\u001b[0m",
      "\u001b[0;31mTypeError\u001b[0m                                 Traceback (most recent call last)",
      "\u001b[0;32m<ipython-input-137-98b939904c8e>\u001b[0m in \u001b[0;36m<module>\u001b[0;34m\u001b[0m\n\u001b[0;32m----> 1\u001b[0;31m \u001b[0ma\u001b[0m\u001b[0;34m+\u001b[0m\u001b[0;36m1\u001b[0m\u001b[0;34m\u001b[0m\u001b[0;34m\u001b[0m\u001b[0m\n\u001b[0m",
      "\u001b[0;31mTypeError\u001b[0m: unsupported operand type(s) for +: 'range' and 'int'"
     ]
    }
   ],
   "source": [
    "list=[a,b,c,d,e,f,g,h,i,j,k,l,m,n,o,p,q,r,s,t,u,v,w,x,y,z]\n"
   ]
  },
  {
   "cell_type": "code",
   "execution_count": 140,
   "metadata": {},
   "outputs": [
    {
     "name": "stdout",
     "output_type": "stream",
     "text": [
      "a\n"
     ]
    },
    {
     "data": {
      "text/plain": [
       "97"
      ]
     },
     "execution_count": 140,
     "metadata": {},
     "output_type": "execute_result"
    }
   ],
   "source": [
    "a=ord(input())\n",
    "a"
   ]
  },
  {
   "cell_type": "code",
   "execution_count": 145,
   "metadata": {},
   "outputs": [
    {
     "name": "stdout",
     "output_type": "stream",
     "text": [
      "f\n",
      "a b c d e f "
     ]
    }
   ],
   "source": [
    "a=ord(input())\n",
    "b=97\n",
    "\n",
    "while a :\n",
    "    print(chr(b), end=\" \")\n",
    "    \n",
    "    if b==a :\n",
    "        break\n",
    "    b=b+1\n"
   ]
  },
  {
   "cell_type": "code",
   "execution_count": 7,
   "metadata": {},
   "outputs": [
    {
     "name": "stdout",
     "output_type": "stream",
     "text": [
      "4\n",
      "0\n",
      "1\n",
      "2\n",
      "3\n",
      "4\n"
     ]
    }
   ],
   "source": [
    "a=int(input())\n",
    "b=0\n",
    "\n",
    "while 0<=a<=100 :\n",
    "    print(b)\n",
    "    \n",
    "    if a==b :\n",
    "        break\n",
    "    b=b+1\n",
    "    "
   ]
  },
  {
   "cell_type": "code",
   "execution_count": 37,
   "metadata": {},
   "outputs": [
    {
     "name": "stdout",
     "output_type": "stream",
     "text": [
      "8\n",
      "20\n"
     ]
    }
   ],
   "source": [
    "a=int(input())+1\n",
    "n=0\n",
    "\n",
    "for i in range(0,a,2):\n",
    "    n=n+i\n",
    "        \n",
    "print(n)\n",
    "    \n",
    "    "
   ]
  },
  {
   "cell_type": "code",
   "execution_count": 15,
   "metadata": {},
   "outputs": [
    {
     "name": "stdout",
     "output_type": "stream",
     "text": [
      "5\n"
     ]
    },
    {
     "ename": "TypeError",
     "evalue": "'int' object is not iterable",
     "output_type": "error",
     "traceback": [
      "\u001b[0;31m---------------------------------------------------------------------------\u001b[0m",
      "\u001b[0;31mTypeError\u001b[0m                                 Traceback (most recent call last)",
      "\u001b[0;32m<ipython-input-15-7f74017628bd>\u001b[0m in \u001b[0;36m<module>\u001b[0;34m\u001b[0m\n\u001b[1;32m      5\u001b[0m     \u001b[0mn\u001b[0m\u001b[0;34m=\u001b[0m\u001b[0mn\u001b[0m\u001b[0;34m+\u001b[0m\u001b[0;36m1\u001b[0m\u001b[0;34m\u001b[0m\u001b[0;34m\u001b[0m\u001b[0m\n\u001b[1;32m      6\u001b[0m     \u001b[0;32mif\u001b[0m \u001b[0mn\u001b[0m\u001b[0;34m%\u001b[0m\u001b[0;36m2\u001b[0m\u001b[0;34m==\u001b[0m\u001b[0;36m1\u001b[0m \u001b[0;34m:\u001b[0m \u001b[0;32mcontinue\u001b[0m\u001b[0;34m\u001b[0m\u001b[0;34m\u001b[0m\u001b[0m\n\u001b[0;32m----> 7\u001b[0;31m     \u001b[0msum\u001b[0m\u001b[0;34m(\u001b[0m\u001b[0mn\u001b[0m\u001b[0;34m)\u001b[0m\u001b[0;34m\u001b[0m\u001b[0;34m\u001b[0m\u001b[0m\n\u001b[0m\u001b[1;32m      8\u001b[0m     \u001b[0mprint\u001b[0m\u001b[0;34m(\u001b[0m\u001b[0mn\u001b[0m\u001b[0;34m)\u001b[0m\u001b[0;34m\u001b[0m\u001b[0;34m\u001b[0m\u001b[0m\n",
      "\u001b[0;31mTypeError\u001b[0m: 'int' object is not iterable"
     ]
    }
   ],
   "source": [
    "a=int(input())\n",
    "n=0\n",
    "\n",
    "while n<=a :\n",
    "    n=n+1\n",
    "    if n%2==1 : continue\n",
    "    print(n)"
   ]
  },
  {
   "cell_type": "code",
   "execution_count": 25,
   "metadata": {},
   "outputs": [
    {
     "name": "stdout",
     "output_type": "stream",
     "text": [
      "8\n"
     ]
    },
    {
     "ename": "TypeError",
     "evalue": "object of type 'int' has no len()",
     "output_type": "error",
     "traceback": [
      "\u001b[0;31m---------------------------------------------------------------------------\u001b[0m",
      "\u001b[0;31mTypeError\u001b[0m                                 Traceback (most recent call last)",
      "\u001b[0;32m<ipython-input-25-16e78d7dafb3>\u001b[0m in \u001b[0;36m<module>\u001b[0;34m\u001b[0m\n\u001b[1;32m      2\u001b[0m \u001b[0mn\u001b[0m\u001b[0;34m=\u001b[0m\u001b[0;36m0\u001b[0m\u001b[0;34m\u001b[0m\u001b[0;34m\u001b[0m\u001b[0m\n\u001b[1;32m      3\u001b[0m \u001b[0;34m\u001b[0m\u001b[0m\n\u001b[0;32m----> 4\u001b[0;31m \u001b[0mb\u001b[0m\u001b[0;34m=\u001b[0m\u001b[0mrange\u001b[0m\u001b[0;34m(\u001b[0m\u001b[0mlen\u001b[0m\u001b[0;34m(\u001b[0m\u001b[0ma\u001b[0m\u001b[0;34m)\u001b[0m\u001b[0;34m)\u001b[0m\u001b[0;34m\u001b[0m\u001b[0;34m\u001b[0m\u001b[0m\n\u001b[0m\u001b[1;32m      5\u001b[0m \u001b[0mprint\u001b[0m\u001b[0;34m(\u001b[0m\u001b[0mb\u001b[0m\u001b[0;34m)\u001b[0m\u001b[0;34m\u001b[0m\u001b[0;34m\u001b[0m\u001b[0m\n",
      "\u001b[0;31mTypeError\u001b[0m: object of type 'int' has no len()"
     ]
    }
   ],
   "source": []
  },
  {
   "cell_type": "code",
   "execution_count": 40,
   "metadata": {},
   "outputs": [
    {
     "name": "stdout",
     "output_type": "stream",
     "text": [
      "x b k d l q g a c\n",
      "x\n",
      "b\n",
      "k\n",
      "d\n",
      "l\n",
      "q\n"
     ]
    }
   ],
   "source": [
    "\n",
    "b=input().split()\n",
    "\n",
    "for i in b :\n",
    "    print(i)\n",
    "    if 'q'==i :\n",
    "        break"
   ]
  },
  {
   "cell_type": "code",
   "execution_count": 53,
   "metadata": {},
   "outputs": [
    {
     "name": "stdout",
     "output_type": "stream",
     "text": [
      "5\n",
      "3\n"
     ]
    }
   ],
   "source": [
    "a=int(input())\n",
    "n=0\n",
    "\n",
    "for i in range(1000):\n",
    "    n+=i\n",
    "    if n>=a :\n",
    "        break\n",
    "    \n",
    "print(i)\n",
    "    "
   ]
  },
  {
   "cell_type": "code",
   "execution_count": 65,
   "metadata": {},
   "outputs": [
    {
     "name": "stdout",
     "output_type": "stream",
     "text": [
      "2 3\n",
      "1 1\n",
      "1 2\n",
      "1 3\n",
      "2 1\n",
      "2 2\n",
      "2 3\n"
     ]
    }
   ],
   "source": [
    "a,b=input().split()\n",
    "x=int(a)\n",
    "y=int(b)\n",
    "\n",
    "for i in range(1,x+1) :\n",
    "    for j in range(1,y+1) :\n",
    "        print(i,j)"
   ]
  },
  {
   "cell_type": "code",
   "execution_count": 76,
   "metadata": {},
   "outputs": [
    {
     "name": "stdout",
     "output_type": "stream",
     "text": [
      "B\n",
      "B*1=B\n",
      "B*2=16\n",
      "B*3=21\n",
      "B*4=2C\n",
      "B*5=37\n",
      "B*6=42\n",
      "B*7=4D\n",
      "B*8=58\n",
      "B*9=63\n",
      "B*A=6E\n",
      "B*B=79\n",
      "B*C=84\n",
      "B*D=8F\n",
      "B*E=9A\n",
      "B*F=A5\n"
     ]
    }
   ],
   "source": [
    "a=int(input(),16)\n",
    "x=format(a,'X')\n",
    "\n",
    "list = ['1','2','3','4','5','6','7','8','9','A','B','C','D','E','F']\n",
    "\n",
    "for i in list :\n",
    "    n=int(i,16)\n",
    "    m=format(n,'X')\n",
    "    b=a*n\n",
    "    c=format(b,'X')\n",
    "    print(x,end='*')\n",
    "    print(m,end='=')\n",
    "    print(c)\n"
   ]
  },
  {
   "cell_type": "code",
   "execution_count": 82,
   "metadata": {},
   "outputs": [
    {
     "name": "stdout",
     "output_type": "stream",
     "text": [
      "3\n",
      "1 2 X "
     ]
    }
   ],
   "source": [
    "a=int(input())\n",
    "\n",
    "for i in range(1,a+1) :\n",
    "    if i%3==0 :\n",
    "        i='X'\n",
    "    print(i, end=\" \")\n",
    "    "
   ]
  },
  {
   "cell_type": "code",
   "execution_count": 91,
   "metadata": {},
   "outputs": [
    {
     "name": "stdout",
     "output_type": "stream",
     "text": [
      "2 2 2\n",
      "0 0 0\n",
      "0 0 1\n",
      "0 1 0\n",
      "0 1 1\n",
      "1 0 0\n",
      "1 0 1\n",
      "1 1 0\n",
      "1 1 1\n",
      "8\n"
     ]
    }
   ],
   "source": [
    "a,b,c=input().split()\n",
    "x=int(a)\n",
    "y=int(b)\n",
    "z=int(c)\n",
    "\n",
    "for i in range(x) :\n",
    "    for j in range(y) :\n",
    "        for o in range(z) :\n",
    "            print(i, j, o)\n",
    "print(x*y*z)"
   ]
  },
  {
   "cell_type": "code",
   "execution_count": 99,
   "metadata": {},
   "outputs": [
    {
     "name": "stdout",
     "output_type": "stream",
     "text": [
      "44100 16 2 10\n",
      "1.7 MB\n"
     ]
    }
   ],
   "source": [
    "h,b,c,s=input().split()\n",
    "H=int(h)\n",
    "B=int(b)\n",
    "C=int(c)\n",
    "S=int(s)\n",
    "pcm=H*B*C*S\n",
    "byte=pcm/8\n",
    "mb=byte/(2**20)\n",
    "print(\"%.1f MB\" %mb)"
   ]
  },
  {
   "cell_type": "code",
   "execution_count": 104,
   "metadata": {},
   "outputs": [
    {
     "name": "stdout",
     "output_type": "stream",
     "text": [
      "1024 768 24\n",
      "2.25 MB\n"
     ]
    }
   ],
   "source": [
    "w,h,b=input().split()\n",
    "W=int(w)\n",
    "H=int(h)\n",
    "B=int(b)\n",
    "\n",
    "print(\"%.2f MB\" %((W*H*B)/8/(2**20)))"
   ]
  },
  {
   "cell_type": "code",
   "execution_count": 111,
   "metadata": {},
   "outputs": [
    {
     "name": "stdout",
     "output_type": "stream",
     "text": [
      "10\n",
      "10\n"
     ]
    }
   ],
   "source": [
    "a=int(input())\n",
    "n=0\n",
    "\n",
    "for i in range(1,a+1) :\n",
    "    n=n+i\n",
    "    if n>=a :\n",
    "        break\n",
    "print(n)"
   ]
  },
  {
   "cell_type": "code",
   "execution_count": 114,
   "metadata": {},
   "outputs": [
    {
     "name": "stdout",
     "output_type": "stream",
     "text": [
      "10\n",
      "10\n"
     ]
    }
   ],
   "source": [
    "a=int(input())\n",
    "\n",
    "n=0\n",
    "i=1\n",
    "while n<a :\n",
    "    n+=i\n",
    "    i+=1\n",
    "    \n",
    "print(n)"
   ]
  },
  {
   "cell_type": "code",
   "execution_count": 118,
   "metadata": {},
   "outputs": [
    {
     "name": "stdout",
     "output_type": "stream",
     "text": [
      "10\n",
      "1 2 4 5 7 8 10 "
     ]
    }
   ],
   "source": [
    "a=int(input())\n",
    "\n",
    "\n",
    "for i in range(1,a+1) :\n",
    "    if i%3!=0 :\n",
    "        print(i, end=\" \")"
   ]
  },
  {
   "cell_type": "code",
   "execution_count": 124,
   "metadata": {},
   "outputs": [
    {
     "name": "stdout",
     "output_type": "stream",
     "text": [
      "1 3 5\n",
      "13\n"
     ]
    }
   ],
   "source": [
    "a,b,c=input().split()\n",
    "x=int(a)\n",
    "d=int(b)\n",
    "n=int(c)\n",
    "\n",
    "y=x+d\n",
    "i=1\n",
    "\n",
    "while i<n-1:\n",
    "    y+=d\n",
    "    i+=1\n",
    "      \n",
    "print(y)"
   ]
  },
  {
   "cell_type": "code",
   "execution_count": 127,
   "metadata": {},
   "outputs": [
    {
     "name": "stdout",
     "output_type": "stream",
     "text": [
      "1 1 10\n",
      "1\n"
     ]
    }
   ],
   "source": [
    "a,b,c=input().split()\n",
    "x=int(a)\n",
    "r=int(b)\n",
    "n=int(c)\n",
    "\n",
    "for i in range(n-1) :\n",
    "    x = x*r\n",
    "    \n",
    "print(x)"
   ]
  },
  {
   "cell_type": "code",
   "execution_count": 128,
   "metadata": {},
   "outputs": [
    {
     "name": "stdout",
     "output_type": "stream",
     "text": [
      "1 -2 1 8\n",
      "-85\n"
     ]
    }
   ],
   "source": [
    "a,b,c,d=input().split()\n",
    "x=int(a)\n",
    "m=int(b)\n",
    "p=int(c)\n",
    "n=int(d)\n",
    "\n",
    "for i in range(n-1) :\n",
    "    x = x*m+p\n",
    "    \n",
    "print(x)"
   ]
  },
  {
   "cell_type": "code",
   "execution_count": 152,
   "metadata": {},
   "outputs": [
    {
     "name": "stdout",
     "output_type": "stream",
     "text": [
      "3 7 9\n",
      "63\n"
     ]
    }
   ],
   "source": [
    "a,b,c=input().split()\n",
    "x=int(a)\n",
    "y=int(b)\n",
    "z=int(c)\n",
    "i=z\n",
    "\n",
    "while i>0 :\n",
    "    if i%x==0 and i%y==0 and i%z==0 :\n",
    "        break\n",
    "    i=i+z\n",
    "    \n",
    "print(i)"
   ]
  },
  {
   "cell_type": "code",
   "execution_count": 132,
   "metadata": {},
   "outputs": [
    {
     "data": {
      "text/plain": [
       "2"
      ]
     },
     "execution_count": 132,
     "metadata": {},
     "output_type": "execute_result"
    }
   ],
   "source": [
    "9%7"
   ]
  },
  {
   "cell_type": "code",
   "execution_count": null,
   "metadata": {},
   "outputs": [],
   "source": [
    "a=int(input())\n",
    "n=input().split()\n",
    "list = range(1,24)\n",
    "for n in list :\n",
    "    \n",
    "    \n",
    "    "
   ]
  }
 ],
 "metadata": {
  "kernelspec": {
   "display_name": "Python 3",
   "language": "python",
   "name": "python3"
  },
  "language_info": {
   "codemirror_mode": {
    "name": "ipython",
    "version": 3
   },
   "file_extension": ".py",
   "mimetype": "text/x-python",
   "name": "python",
   "nbconvert_exporter": "python",
   "pygments_lexer": "ipython3",
   "version": "3.8.5"
  }
 },
 "nbformat": 4,
 "nbformat_minor": 2
}
