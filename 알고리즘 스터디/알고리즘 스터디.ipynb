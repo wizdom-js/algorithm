{
 "cells": [
  {
   "cell_type": "code",
   "execution_count": 7,
   "metadata": {},
   "outputs": [
    {
     "name": "stdout",
     "output_type": "stream",
     "text": [
      "2 1 2 1 2 1\n",
      "-1 0 0 1 0 7 "
     ]
    }
   ],
   "source": [
    "# 3003번 \n",
    "# 킹, 퀸, 룩, 비숍, 나이트, 폰\n",
    "\n",
    "chess = [1, 1, 2, 2, 2, 8]\n",
    "\n",
    "found = map(int, input().split())\n",
    "\n",
    "for c, f in zip(chess, found):\n",
    "    print(c-f, end=' ')"
   ]
  },
  {
   "cell_type": "code",
   "execution_count": 31,
   "metadata": {},
   "outputs": [
    {
     "name": "stdout",
     "output_type": "stream",
     "text": [
      "10000\n",
      "2\n"
     ]
    }
   ],
   "source": [
    "# 17362번 \n",
    "# 수학은 체육과목 입니다 2\n",
    "\n",
    "n = int(input()) % 8\n",
    "\n",
    "if n == 1:\n",
    "    print(n)\n",
    "elif n in [2, 0]:\n",
    "    print(2)\n",
    "elif n in [3, 7]:\n",
    "    print(3)\n",
    "elif n in [4, 6]:\n",
    "    print(4)\n",
    "else:\n",
    "    print(5)\n",
    "\n",
    "\n",
    "\n",
    "# print(num-3 if num >4 else 5-num)"
   ]
  },
  {
   "cell_type": "code",
   "execution_count": 38,
   "metadata": {},
   "outputs": [
    {
     "name": "stdout",
     "output_type": "stream",
     "text": [
      "0\n"
     ]
    }
   ],
   "source": [
    "# 1284번\n",
    "# 집 주소\n",
    "\n",
    "space = [4, 2, 3, 3, 3, 3, 3, 3, 3, 3]\n",
    "while True:\n",
    "    n = str(input())\n",
    "    if n == '0':\n",
    "        break\n",
    "    else:\n",
    "        count_1 = n.count('1')\n",
    "        count_0 = n.count('0')\n",
    "        print(2 + len(n)-1 + count_1*2 + count_0*4 + (len(n)-count_1-count_0)*3)"
   ]
  },
  {
   "cell_type": "code",
   "execution_count": 50,
   "metadata": {},
   "outputs": [
    {
     "name": "stdout",
     "output_type": "stream",
     "text": [
      "/(\\\n",
      "1 0\n",
      "2 1\n",
      "-1 2\n",
      "-47\n",
      "?\n",
      "4 0\n",
      "4\n",
      "#\n"
     ]
    }
   ],
   "source": [
    "# 1864번\n",
    "# 문어 숫자\n",
    "\n",
    "dic = {'-':0, '\\\\':1, '(':2, '@':3, '?':4, '>':5, '&':6, '%':7, '/':-1}\n",
    "\n",
    "while True:\n",
    "    octo_lan = str(input())\n",
    "    if octo_lan == '#': break\n",
    "        \n",
    "    num = 0\n",
    "    for i, lan in enumerate(octo_lan[::-1]):\n",
    "        num += dic[lan] * (8**i)\n",
    "    print(num)"
   ]
  },
  {
   "cell_type": "code",
   "execution_count": 56,
   "metadata": {},
   "outputs": [
    {
     "name": "stdout",
     "output_type": "stream",
     "text": [
      "I live at number twenty four.\n",
      "9\n",
      "#\n"
     ]
    }
   ],
   "source": [
    "# 1264번\n",
    "# 모음의 개수\n",
    "\n",
    "vowel = ['a', 'e', 'i', 'o', 'u']\n",
    "\n",
    "while True:\n",
    "    sentence = str(input()).lower().strip()\n",
    "    if sentence == '#' : break\n",
    "    \n",
    "    total = 0\n",
    "    for v in vowel:\n",
    "        total += sentence.count(v)\n",
    "    print(total)"
   ]
  },
  {
   "cell_type": "code",
   "execution_count": 57,
   "metadata": {},
   "outputs": [
    {
     "name": "stdout",
     "output_type": "stream",
     "text": [
      "3\n",
      "29\n",
      "38\n",
      "12\n",
      "57\n",
      "74\n",
      "40\n",
      "85\n",
      "61\n",
      "85\n",
      "8\n"
     ]
    }
   ],
   "source": [
    "# 2562번\n",
    "# 최댓값\n",
    "\n",
    "n_bf = -1\n",
    "idx = 0\n",
    "for i in range(1, 10):\n",
    "    \n",
    "    n_now = int(input())\n",
    "    if n_now > n_bf :\n",
    "        n_bf = n_now\n",
    "        idx = i\n",
    "        \n",
    "print(n_bf)\n",
    "print(idx)"
   ]
  },
  {
   "cell_type": "code",
   "execution_count": 68,
   "metadata": {},
   "outputs": [
    {
     "name": "stdout",
     "output_type": "stream",
     "text": [
      "100000\n",
      "99959\n"
     ]
    }
   ],
   "source": [
    "# 2231번\n",
    "# 분해합\n",
    "\n",
    "num = int(input())\n",
    "\n",
    "answer = 0\n",
    "for n in range(num-1, num-len(str(num))*9, -1):\n",
    "    \n",
    "    split = sum(map(int, str(n)))\n",
    "    if n < 1:\n",
    "        break\n",
    "    if n + split == num:\n",
    "        answer = n\n",
    "print(answer if answer else 0)"
   ]
  },
  {
   "cell_type": "code",
   "execution_count": 77,
   "metadata": {},
   "outputs": [
    {
     "name": "stdout",
     "output_type": "stream",
     "text": [
      "20\n",
      "7\n",
      "23\n",
      "19\n",
      "10\n",
      "15\n",
      "25\n",
      "8\n",
      "13\n",
      "7\n",
      "8\n",
      "10\n",
      "13\n",
      "19\n",
      "20\n",
      "23\n"
     ]
    }
   ],
   "source": [
    "# 2309번\n",
    "# 일곱 난장이\n",
    "\n",
    "from itertools import combinations\n",
    "\n",
    "dwarf = [int(input()) for n in range(9)]\n",
    "combi = list(combinations(dwarf, 7))\n",
    "\n",
    "for com in combi:\n",
    "    if sum(com) == 100:\n",
    "        print(*sorted(com), sep='\\n')\n",
    "        break"
   ]
  },
  {
   "cell_type": "code",
   "execution_count": 84,
   "metadata": {},
   "outputs": [
    {
     "name": "stdout",
     "output_type": "stream",
     "text": [
      "8 9\n",
      "84\n"
     ]
    }
   ],
   "source": [
    "# 13410번\n",
    "# 거꾸로 구구단\n",
    "\n",
    "n, k = map(int, input().split())\n",
    "\n",
    "googoo = [n*i for i in range(1, k+1)]\n",
    "goo_reverse = [int(str(goo)[::-1]) for goo in googoo]\n",
    "print(max(goo_reverse))"
   ]
  },
  {
   "cell_type": "code",
   "execution_count": 92,
   "metadata": {},
   "outputs": [
    {
     "name": "stdout",
     "output_type": "stream",
     "text": [
      "5\n",
      "AKADTOF_IBOETATUK_IJN\n",
      "1: ACM_GREATER_NY_REGION\n",
      "PUEL\n",
      "2: PERL\n",
      "QEWOISE.EIVCAEFNRXTBELYTGD.\n",
      "3: QUOTH_THE_RAVEN,_NEVERMORE.\n",
      "?EJHUT.TSMYGW?EJHOT\n",
      "4: TO_BE_OR_NOT_TO_BE?\n",
      "DSU.XFNCJEVE.OE_UJDXNO_YHU?VIDWDHPDJIKXZT?E\n",
      "5: THE_QUICK_BROWN_FOX_JUMPS_OVER_THE_LAZY_DOG\n"
     ]
    }
   ],
   "source": [
    "# 6368번\n",
    "# P,MTHBGWB\n",
    "\n",
    "password = {\"A\" : \".-\", \"B\" : \"-...\", \"C\" : \"-.-.\", \"D\" : \"-..\", \"E\" : \".\", \"F\" : \"..-.\", \"G\" : \"--.\", \"H\" : \"....\",\n",
    "    \"I\" : \"..\", \"J\" : \".---\", \"K\" : \"-.-\", \"L\" : \".-..\", \"M\" : \"--\", \"N\" : \"-.\", \"O\" : \"---\", \"P\" : \".--.\",\n",
    "    \"Q\" : \"--.-\", \"R\" : \".-.\", \"S\" : \"...\", \"T\" : \"-\", \"U\" : \"..-\", \"V\" : \"...-\", \"W\" : \".--\", \"X\" : \"-..-\",\n",
    "    \"Y\" : \"-.--\", \"Z\" : \"--..\", \"_\" : \"..--\", \",\" : \".-.-\", \".\" : \"---.\", \"?\" : \"----\"}\n",
    "password_reverse = {v:k for k,v in password.items()}\n",
    "\n",
    "n = int(input())\n",
    "for i in range(1, n+1):\n",
    "    message = str(input())\n",
    "    morse = ''\n",
    "    morse_len = []\n",
    "    for m in message:\n",
    "        morse += password[m]\n",
    "        morse_len.append(len(password[m]))\n",
    "        \n",
    "    answer = ''\n",
    "    idx = 0\n",
    "    for j in morse_len[::-1]:\n",
    "        answer += password_reverse[morse[idx:idx+j]]\n",
    "        idx += j\n",
    "        \n",
    "    print(f'{i}: {answer}')"
   ]
  },
  {
   "cell_type": "code",
   "execution_count": 17,
   "metadata": {},
   "outputs": [
    {
     "name": "stdout",
     "output_type": "stream",
     "text": [
      "0 0\n",
      "-10 0\n",
      "8 0\n",
      "-4 0\n",
      "28\n"
     ]
    }
   ],
   "source": [
    "# 17286번\n",
    "# 유미\n",
    "\n",
    "where = [list(map(int,input().split())) for i in range(4)]\n",
    "x, y = where.pop(0)\n",
    "distance = 0\n",
    "\n",
    "\n",
    "for i in range(1, 3):\n",
    "    n_x, n_y = where.pop(0)\n",
    "    for j in range(3-i):\n",
    "        t_x, t_y = where.pop(0)\n",
    "        if abs(n_x-x)+abs(n_y-y) > abs(t_x-x)+abs(t_y-y):\n",
    "            where.append([n_x, n_y])\n",
    "            n_x, n_y = t_x, t_y\n",
    "        else:\n",
    "            where.append([t_x, t_y])\n",
    "        \n",
    "    distance += abs(n_x-x) + abs(n_y-y)\n",
    "    x, y = n_x, n_y\n",
    "\n",
    "n_x, n_y = where.pop(0)\n",
    "distance += abs(n_x-x) + abs(n_y-y)\n",
    "    \n",
    "print(distance)"
   ]
  },
  {
   "cell_type": "code",
   "execution_count": 60,
   "metadata": {
    "scrolled": true
   },
   "outputs": [
    {
     "name": "stdout",
     "output_type": "stream",
     "text": [
      "-5 -4\n",
      "-1 0\n",
      "-3 -6\n",
      "-9 -8\n",
      "[[-9, -8], [-5, -4], [-3, -6], [-1, 0]]\n",
      "a= -5 b= -4 x= -9 y= -8 16\n",
      "a= -3 b= -6 x= -5 y= -4 20\n",
      "a= -1 b= 0 x= -3 y= -6 28\n",
      "28\n"
     ]
    }
   ],
   "source": [
    "# 17286번\n",
    "# 유미\n",
    "\n",
    "def dis(a, b, x, y, distance):\n",
    "    if a*x<=0 :\n",
    "        distance += (abs(x+(-a)) if a<0 else abs(-x+a))\n",
    "    else:\n",
    "        distance += abs(x-a)\n",
    "        \n",
    "    if b*y<=0 :\n",
    "        distance += (abs(y+(-b)) if b<0 else abs(-y+b))\n",
    "    else:\n",
    "        distance += abs(y-b)\n",
    "        \n",
    "    return distance\n",
    "\n",
    "\n",
    "where = [list(map(int,input().split())) for i in range(4)]\n",
    "first_x, first_y = where[0]\n",
    "where.sort(key = lambda x:(x[0], x[1]))\n",
    "\n",
    "if [first_x, first_y] == (where[2]):\n",
    "    where = where[::-1]\n",
    "print(where)\n",
    "distance = 0\n",
    "temp = 0\n",
    "x, y = where[0]\n",
    "for a, b in where[1:]:\n",
    "    distance = dis(a, b, x, y, distance)\n",
    "        \n",
    "    if (a, b) == (first_x, first_y):\n",
    "        temp = dis(where[-1][0], where[-1][1], first_x, first_y, temp)\n",
    "        if distance < temp:\n",
    "            distance *= 2\n",
    "        else:\n",
    "            distance += temp\n",
    "    print('a=',a, 'b=',b, 'x=',x,'y=',y, distance)    \n",
    "    x, y = a, b\n",
    "\n",
    "print(distance)"
   ]
  },
  {
   "cell_type": "markdown",
   "metadata": {},
   "source": [
    "# Brute force"
   ]
  },
  {
   "cell_type": "code",
   "execution_count": 20,
   "metadata": {},
   "outputs": [
    {
     "name": "stdout",
     "output_type": "stream",
     "text": [
      "1 1\n",
      "-1 "
     ]
    }
   ],
   "source": [
    "# 17945번\n",
    "# 통학의 신\n",
    "\n",
    "a, b = map(int, input().split())\n",
    "\n",
    "for x in range(-10000, 10001):\n",
    "    if -(2*a*x) == b+x**2:\n",
    "        print(x, end=' ')"
   ]
  },
  {
   "cell_type": "code",
   "execution_count": 11,
   "metadata": {},
   "outputs": [
    {
     "name": "stdout",
     "output_type": "stream",
     "text": [
      "1 4 3 2 9 7 18 22 0\n",
      "1\n",
      "4\n",
      "3\n",
      "2\n",
      "9\n",
      "7\n",
      "18\n",
      "22\n",
      "3\n",
      "01\n",
      "0\n",
      "-1\n"
     ]
    }
   ],
   "source": [
    "# 4641번\n",
    "# Doubles\n",
    "\n",
    "while True:\n",
    "    num_list = list(map(int, input().split()))\n",
    "    if -1 in num_list : break\n",
    "        \n",
    "    count = 0\n",
    "    for num in num_list[:-1]:\n",
    "        if num == 0 :\n",
    "            break\n",
    "            \n",
    "        if num*2 in num_list:\n",
    "            count += 1\n",
    "            \n",
    "    print(count)"
   ]
  },
  {
   "cell_type": "code",
   "execution_count": 26,
   "metadata": {},
   "outputs": [
    {
     "name": "stdout",
     "output_type": "stream",
     "text": [
      "25 4\n",
      "[1, 5, 25]\n",
      "0\n"
     ]
    }
   ],
   "source": [
    "# 2501\n",
    "# 약수구하기\n",
    "\n",
    "n, k = map(int, input().split())\n",
    "\n",
    "divisors = [1]\n",
    "for i in range(2, n+1):\n",
    "    if not n % i:\n",
    "        divisors.append(i)\n",
    "        \n",
    "try: \n",
    "    print(divisors[k-1])\n",
    "except: \n",
    "    print(0)"
   ]
  },
  {
   "cell_type": "code",
   "execution_count": 40,
   "metadata": {},
   "outputs": [
    {
     "name": "stdout",
     "output_type": "stream",
     "text": [
      "15\n",
      "2\n"
     ]
    }
   ],
   "source": [
    "# 6131번\n",
    "# 완전 제곱수\n",
    "\n",
    "n = int(input())\n",
    "\n",
    "count = 0\n",
    "for b in range(1, 501):\n",
    "    for a in range(b-1, 501):\n",
    "        if a**2 == b**2+n:\n",
    "            count += 1\n",
    "            \n",
    "print(count)"
   ]
  },
  {
   "cell_type": "code",
   "execution_count": 51,
   "metadata": {},
   "outputs": [
    {
     "name": "stdout",
     "output_type": "stream",
     "text": [
      "30 42 70 35 90\n",
      "[30, 35, 42, 70, 90]\n",
      "210\n"
     ]
    }
   ],
   "source": [
    "# 1145번\n",
    "# 적어도 대부분의 배수\n",
    "\n",
    "num_list = sorted(list(map(int, input().split())))\n",
    "\n",
    "for i in range(num_list[0], 1000000):\n",
    "    ok = 0\n",
    "    for num in num_list:\n",
    "        if i % num == 0:\n",
    "            ok += 1\n",
    "    if ok >= 3:\n",
    "        print(i)\n",
    "        break\n"
   ]
  },
  {
   "cell_type": "code",
   "execution_count": 97,
   "metadata": {},
   "outputs": [
    {
     "name": "stdout",
     "output_type": "stream",
     "text": [
      "4999\n",
      "1001\n"
     ]
    }
   ],
   "source": [
    "# 2839번\n",
    "# 설탕 배달\n",
    "\n",
    "n = int(input())\n",
    "find = False\n",
    "\n",
    "for k3 in range(1700):\n",
    "    for k5 in range(1001):\n",
    "        if not k3+k5 :\n",
    "            continue\n",
    "            \n",
    "        if n == (3*k3 + 5*k5):\n",
    "            print(k3+k5)\n",
    "            find = True\n",
    "            break\n",
    "            \n",
    "    if find:\n",
    "        break\n",
    "        \n",
    "if not find:\n",
    "    print(-1)\n",
    "    "
   ]
  },
  {
   "cell_type": "code",
   "execution_count": 121,
   "metadata": {},
   "outputs": [
    {
     "name": "stdout",
     "output_type": "stream",
     "text": [
      "3\n",
      "2 3 3 2 10\n",
      "8\n",
      "7 5 5 4 9\n",
      "9\n",
      "7 5 5 4 9\n",
      "9\n",
      "3\n"
     ]
    }
   ],
   "source": [
    "# 2303번\n",
    "# 숫자게임\n",
    "\n",
    "from itertools import combinations\n",
    "\n",
    "n = int(input())\n",
    "big_num = '0'\n",
    "winner = 0\n",
    "\n",
    "for i in range(1, n+1):\n",
    "    cards = list(map(int, input().split()))\n",
    "    cards_com = list(map(lambda x: str(sum(x)), combinations(cards, 3)))\n",
    "    cards_com.sort(key=lambda x: x[-1], reverse=True)\n",
    "    \n",
    "    if cards_com[0][-1] >= big_num:\n",
    "        winner = i\n",
    "        big_num = cards_com[0][-1]\n",
    "\n",
    "print(winner)"
   ]
  },
  {
   "cell_type": "code",
   "execution_count": null,
   "metadata": {},
   "outputs": [
    {
     "name": "stdout",
     "output_type": "stream",
     "text": [
      "3 5 42101 22100 22101\n"
     ]
    },
    {
     "ename": "ValueError",
     "evalue": "too many values to unpack (expected 2)",
     "traceback": [
      "\u001b[0;31m---------------------------------------------------------------------------\u001b[0m",
      "\u001b[0;31mValueError\u001b[0m                                Traceback (most recent call last)",
      "\u001b[0;32m<ipython-input-3-645244d4fda0>\u001b[0m in \u001b[0;36m<module>\u001b[0;34m\u001b[0m\n\u001b[1;32m      2\u001b[0m \u001b[0;31m# 숫자 정사각형\u001b[0m\u001b[0;34m\u001b[0m\u001b[0;34m\u001b[0m\u001b[0;34m\u001b[0m\u001b[0m\n\u001b[1;32m      3\u001b[0m \u001b[0;34m\u001b[0m\u001b[0m\n\u001b[0;32m----> 4\u001b[0;31m \u001b[0mn\u001b[0m\u001b[0;34m,\u001b[0m \u001b[0mm\u001b[0m \u001b[0;34m=\u001b[0m \u001b[0mmap\u001b[0m\u001b[0;34m(\u001b[0m\u001b[0mint\u001b[0m\u001b[0;34m,\u001b[0m \u001b[0minput\u001b[0m\u001b[0;34m(\u001b[0m\u001b[0;34m)\u001b[0m\u001b[0;34m.\u001b[0m\u001b[0msplit\u001b[0m\u001b[0;34m(\u001b[0m\u001b[0;34m)\u001b[0m\u001b[0;34m)\u001b[0m\u001b[0;34m\u001b[0m\u001b[0;34m\u001b[0m\u001b[0m\n\u001b[0m\u001b[1;32m      5\u001b[0m \u001b[0mboard\u001b[0m \u001b[0;34m=\u001b[0m \u001b[0;34m[\u001b[0m\u001b[0minput\u001b[0m\u001b[0;34m(\u001b[0m\u001b[0;34m)\u001b[0m \u001b[0;32mfor\u001b[0m \u001b[0mi\u001b[0m \u001b[0;32min\u001b[0m \u001b[0mrange\u001b[0m\u001b[0;34m(\u001b[0m\u001b[0mn\u001b[0m\u001b[0;34m)\u001b[0m\u001b[0;34m]\u001b[0m\u001b[0;34m\u001b[0m\u001b[0;34m\u001b[0m\u001b[0m\n",
      "\u001b[0;31mValueError\u001b[0m: too many values to unpack (expected 2)"
     ],
     "output_type": "error"
    }
   ],
   "source": [
    "# 1051번\n",
    "# 숫자 정사각형\n",
    "\n",
    "n, m = map(int, input().split())\n",
    "board = [input() for i in range(n)]\n",
    "\n",
    "s = 1\n",
    "answer = 1\n",
    "while n >= s and m >= s:\n",
    "    for i in range(m-s):\n",
    "        for j in range(n-s):\n",
    "            if board[j][i] == board[j][i+s] == board[j+s][i] == board[j+s][i+s]:\n",
    "                answer = (s+1) * (s+1)\n",
    "\n",
    "    s += 1\n",
    "\n",
    "print(answer)"
   ]
  },
  {
   "cell_type": "code",
   "execution_count": null,
   "metadata": {},
   "outputs": [],
   "source": []
  },
  {
   "cell_type": "code",
   "execution_count": null,
   "metadata": {},
   "outputs": [],
   "source": []
  },
  {
   "cell_type": "code",
   "execution_count": null,
   "metadata": {},
   "outputs": [],
   "source": []
  },
  {
   "cell_type": "code",
   "execution_count": null,
   "metadata": {},
   "outputs": [],
   "source": []
  },
  {
   "cell_type": "code",
   "execution_count": null,
   "metadata": {},
   "outputs": [],
   "source": []
  },
  {
   "cell_type": "code",
   "execution_count": null,
   "metadata": {},
   "outputs": [],
   "source": []
  },
  {
   "cell_type": "code",
   "execution_count": null,
   "metadata": {},
   "outputs": [],
   "source": []
  },
  {
   "cell_type": "code",
   "execution_count": null,
   "metadata": {},
   "outputs": [],
   "source": []
  },
  {
   "cell_type": "code",
   "execution_count": null,
   "metadata": {},
   "outputs": [],
   "source": []
  },
  {
   "cell_type": "code",
   "execution_count": null,
   "metadata": {},
   "outputs": [],
   "source": []
  },
  {
   "cell_type": "code",
   "execution_count": null,
   "metadata": {},
   "outputs": [],
   "source": []
  },
  {
   "cell_type": "code",
   "execution_count": null,
   "metadata": {},
   "outputs": [],
   "source": []
  },
  {
   "cell_type": "code",
   "execution_count": null,
   "metadata": {},
   "outputs": [],
   "source": []
  },
  {
   "cell_type": "code",
   "execution_count": null,
   "metadata": {},
   "outputs": [],
   "source": []
  },
  {
   "cell_type": "code",
   "execution_count": null,
   "metadata": {},
   "outputs": [],
   "source": []
  },
  {
   "cell_type": "code",
   "execution_count": null,
   "metadata": {},
   "outputs": [],
   "source": []
  },
  {
   "cell_type": "code",
   "execution_count": null,
   "metadata": {},
   "outputs": [],
   "source": []
  },
  {
   "cell_type": "code",
   "execution_count": null,
   "metadata": {},
   "outputs": [],
   "source": []
  },
  {
   "cell_type": "code",
   "execution_count": null,
   "metadata": {},
   "outputs": [],
   "source": []
  },
  {
   "cell_type": "code",
   "execution_count": null,
   "metadata": {},
   "outputs": [],
   "source": []
  },
  {
   "cell_type": "code",
   "execution_count": null,
   "metadata": {},
   "outputs": [],
   "source": []
  },
  {
   "cell_type": "code",
   "execution_count": null,
   "metadata": {},
   "outputs": [],
   "source": []
  },
  {
   "cell_type": "code",
   "execution_count": null,
   "metadata": {},
   "outputs": [],
   "source": []
  },
  {
   "cell_type": "code",
   "execution_count": null,
   "metadata": {},
   "outputs": [],
   "source": []
  },
  {
   "cell_type": "code",
   "execution_count": null,
   "metadata": {},
   "outputs": [],
   "source": []
  },
  {
   "cell_type": "code",
   "execution_count": null,
   "metadata": {},
   "outputs": [],
   "source": []
  },
  {
   "cell_type": "code",
   "execution_count": null,
   "metadata": {},
   "outputs": [],
   "source": []
  },
  {
   "cell_type": "code",
   "execution_count": null,
   "metadata": {},
   "outputs": [],
   "source": []
  },
  {
   "cell_type": "code",
   "execution_count": null,
   "metadata": {},
   "outputs": [],
   "source": []
  },
  {
   "cell_type": "code",
   "execution_count": null,
   "metadata": {},
   "outputs": [],
   "source": []
  },
  {
   "cell_type": "code",
   "execution_count": null,
   "metadata": {},
   "outputs": [],
   "source": []
  },
  {
   "cell_type": "code",
   "execution_count": null,
   "metadata": {},
   "outputs": [],
   "source": []
  },
  {
   "cell_type": "code",
   "execution_count": null,
   "metadata": {},
   "outputs": [],
   "source": []
  }
 ],
 "metadata": {
  "kernelspec": {
   "display_name": "Python 3",
   "language": "python",
   "name": "python3"
  },
  "language_info": {
   "codemirror_mode": {
    "name": "ipython",
    "version": 3
   },
   "file_extension": ".py",
   "mimetype": "text/x-python",
   "name": "python",
   "nbconvert_exporter": "python",
   "pygments_lexer": "ipython3",
   "version": "3.8.5"
  }
 },
 "nbformat": 4,
 "nbformat_minor": 4
}
