{
 "cells": [
  {
   "cell_type": "code",
   "execution_count": null,
   "metadata": {},
   "outputs": [],
   "source": [
    "# 두개 뽑아서 더하기\n",
    "\n",
    "def solution(numbers):\n",
    "    answer = []\n",
    "    for i in range(len(numbers)-1) :\n",
    "        for j in range(i+1, len(numbers)) :\n",
    "            answer.append(numbers[i] + numbers[j])\n",
    "    return sorted(list(set(answer)))"
   ]
  },
  {
   "cell_type": "code",
   "execution_count": null,
   "metadata": {},
   "outputs": [],
   "source": [
    "# 크레인 인형 뽑기 게임 \n",
    "def solution(board, moves):\n",
    "    \n",
    "    bucket = []\n",
    "    answer = 0\n",
    "    \n",
    "    for i in range(len(moves)) :\n",
    "        # 맨 윗줄이 0 이면 그 밑의 줄로 이동\n",
    "        for j in range(len(board)) :\n",
    "            item = board[j][moves[i]-1]\n",
    "            if item != 0 :\n",
    "                break\n",
    "                \n",
    "        # 한줄 전체가 비었을 경우 맨 처음으로 돌아감\n",
    "        if item == 0 :\n",
    "            continue\n",
    "                    \n",
    "        bucket.append(item)\n",
    "        board[j][moves[i]-1] = 0\n",
    "        if len(bucket) >= 2 and item == bucket[-2] :\n",
    "            del bucket[-2:]\n",
    "            answer += 2\n",
    "    \n",
    "    return answer"
   ]
  },
  {
   "cell_type": "code",
   "execution_count": 95,
   "metadata": {},
   "outputs": [],
   "source": [
    "# 신규 아이디 추천\n",
    "\n",
    "import re\n",
    "def solution(new_id):\n",
    "    # 1. 소문자로 변환\n",
    "    new_id = new_id.lower()\n",
    "    \n",
    "    # 2. 특수문자 제거\n",
    "    new_id = re.sub('[^a-z0-9\\.\\_\\-]','',new_id) \n",
    "    \n",
    "    # 3. 마침표가 연속인 부분 치환\n",
    "    new_id = re.sub('\\.\\.+', '.', new_id)\n",
    "    \n",
    "    # 4. 마침표가 처음이나 끝에 위치하면 제거\n",
    "    new_id = re.sub('^\\.|\\.$', '', new_id)\n",
    "    \n",
    "    # 5. 빈 문자열이면 \"a\" 대입\n",
    "    if new_id == \"\" :\n",
    "        new_id = \"a\"\n",
    "    \n",
    "    # 6. 15자 이하로 맞추기\n",
    "    if len(new_id) > 15 :\n",
    "        new_id = re.sub('\\.$', '', new_id[0:15])\n",
    "    \n",
    "    # 7. 2자 이하이면 마지막 문자 반복\n",
    "    for i in range(3) :\n",
    "        if len(new_id) < 3 :\n",
    "             new_id = new_id + new_id[-1] \n",
    "            \n",
    "    answer = new_id\n",
    "    \n",
    "    return answer"
   ]
  },
  {
   "cell_type": "code",
   "execution_count": 30,
   "metadata": {},
   "outputs": [],
   "source": [
    "# 모의고사\n",
    "\n",
    "def solution(answers):\n",
    "    a = [1,2,3,4,5]\n",
    "    b = [2,1,2,3,2,4,2,5]\n",
    "    c = [3,3,1,1,2,2,4,4,5,5]\n",
    "    count_1 = 0\n",
    "    count_2 = 0\n",
    "    count_3 = 0\n",
    "    \n",
    "    for i in range(len(answers)) :\n",
    "        if a[i%len(a)] == answers[i] :\n",
    "            count_1 += 1\n",
    "        if b[i%len(b)] == answers[i] :\n",
    "            count_2 += 1\n",
    "        if c[i%len(c)] == answers[i] :\n",
    "            count_3 += 1\n",
    "\n",
    "    score_list = [count_1, count_2, count_3]\n",
    "\n",
    "    answer = []\n",
    "    for x, y in enumerate(score_list):\n",
    "        if y == max(score_list) :\n",
    "            answer.append(x+1)\n",
    "\n",
    "    return answer"
   ]
  },
  {
   "cell_type": "code",
   "execution_count": 10,
   "metadata": {},
   "outputs": [],
   "source": [
    "# 가운데 글자 가져오기\n",
    "\n",
    "def solution(s):\n",
    "    \n",
    "    if len(s) % 2 == 1 :\n",
    "        return s[int(len(s)/2)]\n",
    "        \n",
    "    else :\n",
    "        return s[int(len(s)/2-1) : int(len(s)/2+1)]"
   ]
  },
  {
   "cell_type": "code",
   "execution_count": 29,
   "metadata": {},
   "outputs": [],
   "source": [
    "# 2016년\n",
    "\n",
    "def solution(a, b):\n",
    "    days = [\"FRI\", \"SAT\", \"SUN\", \"MON\", \"TUE\", \"WED\", \"THU\"]\n",
    "    month = [31, 29, 31, 30, 31, 30, 31, 31, 30, 31, 30, 31]\n",
    "    date = (sum(month[:a-1]) + (b-1)) % 7\n",
    "    answer = days[date]\n",
    "    return answer"
   ]
  },
  {
   "cell_type": "code",
   "execution_count": 35,
   "metadata": {},
   "outputs": [],
   "source": [
    "# 같은 숫자는 싫어\n",
    "\n",
    "def solution(arr):\n",
    "    answer = []\n",
    "    for i, j in enumerate(arr) :\n",
    "        if i != 0 :\n",
    "            if j == answer[-1] :\n",
    "                continue\n",
    "            else : \n",
    "                answer.append(j)\n",
    "        else :\n",
    "            answer.append(j)\n",
    "    return answer"
   ]
  },
  {
   "cell_type": "code",
   "execution_count": null,
   "metadata": {},
   "outputs": [],
   "source": [
    "# 같은 숫자는 싫어 (쉬운 풀이)\n",
    "\n",
    "def solution(arr):\n",
    "    answer = []\n",
    "    for i in arr :\n",
    "        if i[-1:] == [i] :\n",
    "            continue\n",
    "        arr.append(i)\n",
    "    return answer"
   ]
  },
  {
   "cell_type": "code",
   "execution_count": 39,
   "metadata": {},
   "outputs": [],
   "source": [
    "# K번째 수\n",
    "\n",
    "def solution(array, commands):\n",
    "    answer = []\n",
    "    for i, j, k in commands :\n",
    "        new_array = sorted(array[i-1:j])\n",
    "        k_num = new_array[k-1]\n",
    "        answer.append(k_num)\n",
    "    return answer"
   ]
  },
  {
   "cell_type": "code",
   "execution_count": null,
   "metadata": {},
   "outputs": [],
   "source": [
    "# 두 정수 사이의 합\n",
    "\n",
    "def solution(a, b):\n",
    "    if a <= b :\n",
    "        answer = sum(range(a, b+1))\n",
    "    else :\n",
    "        answer = sum(range(b, a+1))\n",
    "    return answer"
   ]
  },
  {
   "cell_type": "code",
   "execution_count": null,
   "metadata": {},
   "outputs": [],
   "source": []
  },
  {
   "cell_type": "code",
   "execution_count": null,
   "metadata": {},
   "outputs": [],
   "source": []
  },
  {
   "cell_type": "code",
   "execution_count": null,
   "metadata": {},
   "outputs": [],
   "source": []
  },
  {
   "cell_type": "code",
   "execution_count": null,
   "metadata": {},
   "outputs": [],
   "source": []
  },
  {
   "cell_type": "code",
   "execution_count": null,
   "metadata": {},
   "outputs": [],
   "source": []
  },
  {
   "cell_type": "code",
   "execution_count": null,
   "metadata": {},
   "outputs": [],
   "source": []
  },
  {
   "cell_type": "code",
   "execution_count": null,
   "metadata": {},
   "outputs": [],
   "source": []
  },
  {
   "cell_type": "code",
   "execution_count": null,
   "metadata": {},
   "outputs": [],
   "source": []
  },
  {
   "cell_type": "code",
   "execution_count": null,
   "metadata": {},
   "outputs": [],
   "source": []
  },
  {
   "cell_type": "code",
   "execution_count": null,
   "metadata": {},
   "outputs": [],
   "source": []
  },
  {
   "cell_type": "code",
   "execution_count": null,
   "metadata": {},
   "outputs": [],
   "source": []
  },
  {
   "cell_type": "code",
   "execution_count": null,
   "metadata": {},
   "outputs": [],
   "source": []
  },
  {
   "cell_type": "code",
   "execution_count": null,
   "metadata": {},
   "outputs": [],
   "source": []
  },
  {
   "cell_type": "code",
   "execution_count": null,
   "metadata": {},
   "outputs": [],
   "source": []
  },
  {
   "cell_type": "code",
   "execution_count": null,
   "metadata": {},
   "outputs": [],
   "source": []
  },
  {
   "cell_type": "code",
   "execution_count": 46,
   "metadata": {},
   "outputs": [
    {
     "name": "stdout",
     "output_type": "stream",
     "text": [
      "['u', 'e', 'a']\n"
     ]
    }
   ],
   "source": [
    "a = [\"sun\", \"bed\", \"car\"]\n",
    "print(list(map(lambda x : x[1] , a )))"
   ]
  },
  {
   "cell_type": "code",
   "execution_count": 69,
   "metadata": {},
   "outputs": [
    {
     "name": "stdout",
     "output_type": "stream",
     "text": [
      "0 a\n",
      "1 e\n",
      "2 u\n",
      "0 a\n",
      "1 e\n",
      "2 u\n",
      "0 a\n",
      "1 e\n",
      "2 u\n",
      "['sun', 'bed', 'car']\n"
     ]
    }
   ],
   "source": [
    "a = [\"sun\", \"bed\", \"car\"]\n",
    "\n",
    "after = sorted(list(map(lambda x : x[1] , a )))\n",
    "answer = []\n",
    "\n",
    "for i in a :\n",
    "    for x, y in enumerate(after) :\n",
    "        z = x\n",
    "        print(x, y)\n",
    "    answer.insert(x, i)\n",
    "\n",
    "\n",
    "print(answer)"
   ]
  },
  {
   "cell_type": "code",
   "execution_count": null,
   "metadata": {},
   "outputs": [],
   "source": [
    "0, sun / 1, bed/ 2, car\n",
    "0, a / 1, e / 2, u\n",
    "\n"
   ]
  },
  {
   "cell_type": "code",
   "execution_count": 56,
   "metadata": {},
   "outputs": [
    {
     "data": {
      "text/plain": [
       "['u', 'e', 'a']"
      ]
     },
     "execution_count": 56,
     "metadata": {},
     "output_type": "execute_result"
    }
   ],
   "source": [
    "before"
   ]
  },
  {
   "cell_type": "code",
   "execution_count": null,
   "metadata": {},
   "outputs": [],
   "source": []
  },
  {
   "cell_type": "code",
   "execution_count": null,
   "metadata": {},
   "outputs": [],
   "source": []
  },
  {
   "cell_type": "code",
   "execution_count": null,
   "metadata": {},
   "outputs": [],
   "source": []
  },
  {
   "cell_type": "code",
   "execution_count": null,
   "metadata": {},
   "outputs": [],
   "source": []
  },
  {
   "cell_type": "code",
   "execution_count": null,
   "metadata": {},
   "outputs": [],
   "source": []
  },
  {
   "cell_type": "code",
   "execution_count": null,
   "metadata": {},
   "outputs": [],
   "source": []
  },
  {
   "cell_type": "code",
   "execution_count": null,
   "metadata": {},
   "outputs": [],
   "source": []
  },
  {
   "cell_type": "code",
   "execution_count": null,
   "metadata": {},
   "outputs": [],
   "source": []
  },
  {
   "cell_type": "code",
   "execution_count": null,
   "metadata": {},
   "outputs": [],
   "source": []
  },
  {
   "cell_type": "code",
   "execution_count": null,
   "metadata": {},
   "outputs": [],
   "source": []
  },
  {
   "cell_type": "code",
   "execution_count": null,
   "metadata": {},
   "outputs": [],
   "source": []
  }
 ],
 "metadata": {
  "kernelspec": {
   "display_name": "Python 3",
   "language": "python",
   "name": "python3"
  },
  "language_info": {
   "codemirror_mode": {
    "name": "ipython",
    "version": 3
   },
   "file_extension": ".py",
   "mimetype": "text/x-python",
   "name": "python",
   "nbconvert_exporter": "python",
   "pygments_lexer": "ipython3",
   "version": "3.8.5"
  }
 },
 "nbformat": 4,
 "nbformat_minor": 4
}
