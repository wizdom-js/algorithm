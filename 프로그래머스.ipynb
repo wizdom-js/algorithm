{
 "cells": [
  {
   "cell_type": "code",
   "execution_count": null,
   "metadata": {},
   "outputs": [],
   "source": [
    "# 두개 뽑아서 더하기\n",
    "\n",
    "def solution(numbers):\n",
    "    answer = []\n",
    "    for i in range(len(numbers)-1) :\n",
    "        for j in range(i+1, len(numbers)) :\n",
    "            answer.append(numbers[i] + numbers[j])\n",
    "    return sorted(list(set(answer)))"
   ]
  },
  {
   "cell_type": "code",
   "execution_count": null,
   "metadata": {},
   "outputs": [],
   "source": [
    "# 크레인 인형 뽑기 게임 \n",
    "def solution(board, moves):\n",
    "    \n",
    "    bucket = []\n",
    "    answer = 0\n",
    "    \n",
    "    for i in range(len(moves)) :\n",
    "        # 맨 윗줄이 0 이면 그 밑의 줄로 이동\n",
    "        for j in range(len(board)) :\n",
    "            item = board[j][moves[i]-1]\n",
    "            if item != 0 :\n",
    "                break\n",
    "                \n",
    "        # 한줄 전체가 비었을 경우 맨 처음으로 돌아감\n",
    "        if item == 0 :\n",
    "            continue\n",
    "                    \n",
    "        bucket.append(item)\n",
    "        board[j][moves[i]-1] = 0\n",
    "        if len(bucket) >= 2 and item == bucket[-2] :\n",
    "            del bucket[-2:]\n",
    "            answer += 2\n",
    "    \n",
    "    return answer"
   ]
  },
  {
   "cell_type": "code",
   "execution_count": 95,
   "metadata": {},
   "outputs": [],
   "source": [
    "# 신규 아이디 추천\n",
    "\n",
    "import re\n",
    "def solution(new_id):\n",
    "    # 1. 소문자로 변환\n",
    "    new_id = new_id.lower()\n",
    "    \n",
    "    # 2. 특수문자 제거\n",
    "    new_id = re.sub('[^a-z0-9\\.\\_\\-]','',new_id) \n",
    "    \n",
    "    # 3. 마침표가 연속인 부분 치환\n",
    "    new_id = re.sub('\\.\\.+', '.', new_id)\n",
    "    \n",
    "    # 4. 마침표가 처음이나 끝에 위치하면 제거\n",
    "    new_id = re.sub('^\\.|\\.$', '', new_id)\n",
    "    \n",
    "    # 5. 빈 문자열이면 \"a\" 대입\n",
    "    if new_id == \"\" :\n",
    "        new_id = \"a\"\n",
    "    \n",
    "    # 6. 15자 이하로 맞추기\n",
    "    if len(new_id) > 15 :\n",
    "        new_id = re.sub('\\.$', '', new_id[0:15])\n",
    "    \n",
    "    # 7. 2자 이하이면 마지막 문자 반복\n",
    "    for i in range(3) :\n",
    "        if len(new_id) < 3 :\n",
    "             new_id = new_id + new_id[-1] \n",
    "            \n",
    "    answer = new_id\n",
    "    \n",
    "    return answer"
   ]
  },
  {
   "cell_type": "code",
   "execution_count": 30,
   "metadata": {},
   "outputs": [],
   "source": [
    "# 모의고사\n",
    "\n",
    "def solution(answers):\n",
    "    a = [1,2,3,4,5]\n",
    "    b = [2,1,2,3,2,4,2,5]\n",
    "    c = [3,3,1,1,2,2,4,4,5,5]\n",
    "    count_1 = 0\n",
    "    count_2 = 0\n",
    "    count_3 = 0\n",
    "    \n",
    "    for i in range(len(answers)) :\n",
    "        if a[i%len(a)] == answers[i] :\n",
    "            count_1 += 1\n",
    "        if b[i%len(b)] == answers[i] :\n",
    "            count_2 += 1\n",
    "        if c[i%len(c)] == answers[i] :\n",
    "            count_3 += 1\n",
    "\n",
    "    score_list = [count_1, count_2, count_3]\n",
    "\n",
    "    answer = []\n",
    "    for x, y in enumerate(score_list):\n",
    "        if y == max(score_list) :\n",
    "            answer.append(x+1)\n",
    "\n",
    "    return answer"
   ]
  },
  {
   "cell_type": "code",
   "execution_count": 10,
   "metadata": {},
   "outputs": [],
   "source": [
    "# 가운데 글자 가져오기\n",
    "\n",
    "def solution(s):\n",
    "    \n",
    "    if len(s) % 2 == 1 :\n",
    "        return s[int(len(s)/2)]\n",
    "        \n",
    "    else :\n",
    "        return s[int(len(s)/2-1) : int(len(s)/2+1)]"
   ]
  },
  {
   "cell_type": "code",
   "execution_count": 29,
   "metadata": {},
   "outputs": [],
   "source": [
    "# 2016년\n",
    "\n",
    "def solution(a, b):\n",
    "    days = [\"FRI\", \"SAT\", \"SUN\", \"MON\", \"TUE\", \"WED\", \"THU\"]\n",
    "    month = [31, 29, 31, 30, 31, 30, 31, 31, 30, 31, 30, 31]\n",
    "    date = (sum(month[:a-1]) + (b-1)) % 7\n",
    "    answer = days[date]\n",
    "    return answer"
   ]
  },
  {
   "cell_type": "code",
   "execution_count": 35,
   "metadata": {},
   "outputs": [],
   "source": [
    "# 같은 숫자는 싫어\n",
    "\n",
    "def solution(arr):\n",
    "    answer = []\n",
    "    for i, j in enumerate(arr) :\n",
    "        if i != 0 :\n",
    "            if j == answer[-1] :\n",
    "                continue\n",
    "            else : \n",
    "                answer.append(j)\n",
    "        else :\n",
    "            answer.append(j)\n",
    "    return answer"
   ]
  },
  {
   "cell_type": "code",
   "execution_count": null,
   "metadata": {},
   "outputs": [],
   "source": [
    "# 같은 숫자는 싫어 (쉬운 풀이)\n",
    "\n",
    "def solution(arr):\n",
    "    answer = []\n",
    "    for i in arr :\n",
    "        if i[-1:] == [i] :\n",
    "            continue\n",
    "        arr.append(i)\n",
    "    return answer"
   ]
  },
  {
   "cell_type": "code",
   "execution_count": 39,
   "metadata": {},
   "outputs": [],
   "source": [
    "# K번째 수\n",
    "\n",
    "def solution(array, commands):\n",
    "    answer = []\n",
    "    for i, j, k in commands :\n",
    "        new_array = sorted(array[i-1:j])\n",
    "        k_num = new_array[k-1]\n",
    "        answer.append(k_num)\n",
    "    return answer"
   ]
  },
  {
   "cell_type": "code",
   "execution_count": null,
   "metadata": {},
   "outputs": [],
   "source": [
    "# 두 정수 사이의 합\n",
    "\n",
    "def solution(a, b):\n",
    "    if a <= b :\n",
    "        answer = sum(range(a, b+1))\n",
    "    else :\n",
    "        answer = sum(range(b, a+1))\n",
    "    return answer"
   ]
  },
  {
   "cell_type": "code",
   "execution_count": null,
   "metadata": {},
   "outputs": [],
   "source": [
    "# 나누어 떨어지는 숫자 배열\n",
    "\n",
    "def solution(arr, divisor):\n",
    "    answer = []\n",
    "    for i in arr :\n",
    "        if (i % divisor) == 0 :\n",
    "            answer.append(i)\n",
    "    if answer == [] :\n",
    "        answer.append(-1)\n",
    "        \n",
    "    return sorted(answer)"
   ]
  },
  {
   "cell_type": "code",
   "execution_count": null,
   "metadata": {},
   "outputs": [],
   "source": [
    "# 문자열 내 p와 y의 개수\n",
    "\n",
    "def solution(s):\n",
    "    s = s.lower()\n",
    "    return s.count('p') == s.count('y')"
   ]
  },
  {
   "cell_type": "code",
   "execution_count": null,
   "metadata": {},
   "outputs": [],
   "source": [
    "# 문자열 내 마음대로 정렬하기\n",
    "\n",
    "def solution(strings, n):\n",
    "    answer = sorted(sorted(strings), key = lambda x : x[n])\n",
    "    return answer"
   ]
  },
  {
   "cell_type": "code",
   "execution_count": 83,
   "metadata": {},
   "outputs": [
    {
     "name": "stdout",
     "output_type": "stream",
     "text": [
      "['abce', 'abcd', 'cdx']\n"
     ]
    }
   ],
   "source": [
    "# sorted 한 번 해줬을 경우.\n",
    "\n",
    "strings = [\"abce\", \"abcd\", \"cdx\"]\n",
    "\n",
    "strings = sorted(strings, key=lambda x : x[2] )\n",
    "print(strings)\n"
   ]
  },
  {
   "cell_type": "markdown",
   "metadata": {},
   "source": [
    "답 [\"abcd\", \"abce\", \"cdx\"]와는 다르다.  문자열 2번째 기준으로 정렬되었으나, 2번째 문자열이 같을 경우, 사전 순으로 정렬되어야 하는데 그것이 적용 되어 있지 않다.  \n",
    "\n",
    "(abce와 abcd 중 사전적으로는 abcd가 앞) 따라서 sorted를 한 번 더 해준다.\n"
   ]
  },
  {
   "cell_type": "code",
   "execution_count": 115,
   "metadata": {},
   "outputs": [
    {
     "name": "stdout",
     "output_type": "stream",
     "text": [
      "['c', 'c', 'b', 'a', 'a', 'S', 'G', 'F', 'D']\n"
     ]
    }
   ],
   "source": [
    "# 문자열 내림차순으로 정렬하기\n",
    "\n",
    "def solution(s):\n",
    "    answer = sorted(s, reverse=True)\n",
    "    return ''.join(answer)"
   ]
  },
  {
   "cell_type": "code",
   "execution_count": null,
   "metadata": {},
   "outputs": [],
   "source": [
    "# 완주하지 못한 선수\n",
    "# 풀이 1\n",
    "\n",
    "def solution(participant, completion):\n",
    "    participant.sort()\n",
    "    completion.sort()\n",
    "    \n",
    "    for i in range(len(completion)) :\n",
    "        if participant[i] != completion[i] :\n",
    "            return participant[i]\n",
    "    \n",
    "    return participant[-1]"
   ]
  },
  {
   "cell_type": "code",
   "execution_count": null,
   "metadata": {},
   "outputs": [],
   "source": [
    "# 풀이 2\n",
    "\n",
    "def solution(participant, completion):\n",
    "    participant.sort()\n",
    "    completion.sort()\n",
    "    for p, c in zip(participant, completion):\n",
    "        if p != c:\n",
    "            return p\n",
    "    return participant[-1]"
   ]
  },
  {
   "cell_type": "code",
   "execution_count": null,
   "metadata": {},
   "outputs": [],
   "source": [
    "# 풀이 3\n",
    "\n",
    "def solution(participant, completion):\n",
    "    temp = 0\n",
    "    dic = {}\n",
    "    \n",
    "    for part in participant:\n",
    "        dic[hash(part)] = part\n",
    "        temp += hash(part)\n",
    "        \n",
    "    for com in completion:\n",
    "        temp -= hash(com)\n",
    "\n",
    "    return dic[temp]"
   ]
  },
  {
   "cell_type": "code",
   "execution_count": 15,
   "metadata": {},
   "outputs": [
    {
     "name": "stdout",
     "output_type": "stream",
     "text": [
      "{-5573264781246741621: 'marina'} marina -5573264781246741621 -5573264781246741621 \n",
      "\n",
      "{-5573264781246741621: 'marina', 8213106724631526766: 'josipa'} josipa 8213106724631526766 2639841943384785145 \n",
      "\n",
      "{-5573264781246741621: 'marina', 8213106724631526766: 'josipa', -4918243869642159336: 'nikola'} nikola -4918243869642159336 -2278401926257374191 \n",
      "\n",
      "{-5573264781246741621: 'marina', 8213106724631526766: 'josipa', -4918243869642159336: 'nikola', -3485247044775856667: 'vinko'} vinko -3485247044775856667 -5763648971033230858 \n",
      "\n",
      "{-5573264781246741621: 'marina', 8213106724631526766: 'josipa', -4918243869642159336: 'nikola', -3485247044775856667: 'vinko', 468727725938741037: 'filipa'} filipa 468727725938741037 -5294921245094489821 \n",
      "\n",
      "josipa 8213106724631526766 -13508027969726016587\n",
      "filipa 468727725938741037 -13976755695664757624\n",
      "marina -5573264781246741621 -8403490914418016003\n",
      "nikola -4918243869642159336 -3485247044775856667\n",
      "vinko -3485247044775856667\n"
     ]
    }
   ],
   "source": [
    "participant = [\"marina\", \"josipa\", \"nikola\", \"vinko\", \"filipa\"]\n",
    "completion = [\"josipa\", \"filipa\", \"marina\", \"nikola\"]\n",
    "\n",
    "temp = 0\n",
    "dic = {}\n",
    "    \n",
    "for part in participant:\n",
    "    dic[hash(part)] = part\n",
    "    temp += hash(part)\n",
    "    print(dic, part, hash(part), temp, \"\\n\")\n",
    "        \n",
    "for com in completion:\n",
    "    temp -= hash(com)\n",
    "    print(com, hash(com), temp)\n",
    "\n",
    "print(dic[temp], temp)\n"
   ]
  },
  {
   "cell_type": "code",
   "execution_count": null,
   "metadata": {},
   "outputs": [],
   "source": [
    "# 풀이 4\n",
    "\n",
    "import collections\n",
    "\n",
    "def solution(participant, completion):\n",
    "    answer = collections.Counter(participant) - collections.Counter(completion)\n",
    "    return list(answer.keys())[0]"
   ]
  },
  {
   "cell_type": "code",
   "execution_count": 16,
   "metadata": {
    "scrolled": true
   },
   "outputs": [
    {
     "name": "stdout",
     "output_type": "stream",
     "text": [
      "participant: Counter({'marina': 1, 'josipa': 1, 'nikola': 1, 'vinko': 1, 'filipa': 1})\n",
      "completion: Counter({'josipa': 1, 'filipa': 1, 'marina': 1, 'nikola': 1})\n",
      "answer값 Counter({'vinko': 1})\n",
      "dict_keys(['vinko'])\n",
      "vinko\n"
     ]
    }
   ],
   "source": [
    "participant = [\"marina\", \"josipa\", \"nikola\", \"vinko\", \"filipa\"]\n",
    "completion = [\"josipa\", \"filipa\", \"marina\", \"nikola\"]\n",
    "\n",
    "import collections\n",
    "\n",
    "print(\"participant:\", collections.Counter(participant))\n",
    "print(\"completion:\", collections.Counter(completion))\n",
    "\n",
    "answer = collections.Counter(participant) - collections.Counter(completion)\n",
    "print(\"answer값\",answer)\n",
    "\n",
    "print(answer.keys())\n",
    "print(list(answer.keys())[0])"
   ]
  },
  {
   "cell_type": "markdown",
   "metadata": {},
   "source": [
    "테스트 1 〉\t통과 (33.77ms, 18.2MB)\n",
    "테스트 2 〉\t통과 (57.08ms, 22.1MB)\n",
    "테스트 3 〉\t통과 (75.98ms, 24.8MB)\n",
    "테스트 4 〉\t통과 (80.16ms, 26.4MB)\n",
    "테스트 5 〉\t통과 (77.21ms, 26.4MB)"
   ]
  },
  {
   "cell_type": "markdown",
   "metadata": {},
   "source": [
    "테스트 1 〉\t통과 (36.24ms, 18.1MB)\n",
    "테스트 2 〉\t통과 (59.26ms, 22.2MB)\n",
    "테스트 3 〉\t통과 (77.80ms, 24.8MB)\n",
    "테스트 4 〉\t통과 (77.15ms, 26.4MB)\n",
    "테스트 5 〉\t통과 (76.36ms, 26.4MB)"
   ]
  },
  {
   "cell_type": "markdown",
   "metadata": {},
   "source": [
    "테스트 1 〉\t통과 (21.90ms, 23.9MB)\n",
    "테스트 2 〉\t통과 (31.62ms, 28.4MB)\n",
    "테스트 3 〉\t통과 (39.31ms, 31.5MB)\n",
    "테스트 4 〉\t통과 (47.54ms, 37.7MB)\n",
    "테스트 5 〉\t통과 (54.29ms, 37.6MB)"
   ]
  },
  {
   "cell_type": "markdown",
   "metadata": {},
   "source": [
    "테스트 1 〉\t통과 (31.01ms, 24.4MB)\n",
    "테스트 2 〉\t통과 (56.60ms, 27.8MB)\n",
    "테스트 3 〉\t통과 (59.25ms, 30MB)\n",
    "테스트 4 〉\t통과 (84.85ms, 39.2MB)\n",
    "테스트 5 〉\t통과 (83.93ms, 39.1MB)"
   ]
  },
  {
   "cell_type": "code",
   "execution_count": null,
   "metadata": {},
   "outputs": [],
   "source": [
    "# 수박수박수박수박수박수?\n",
    "# 풀이 1\n",
    "\n",
    "def solution(n):\n",
    "    answer = \"수박\"\n",
    "    if n % 2 == 0 :\n",
    "        return answer * int(n/2)\n",
    "    else :\n",
    "        return answer * int((n-1)/2) + \"수\""
   ]
  },
  {
   "cell_type": "code",
   "execution_count": null,
   "metadata": {},
   "outputs": [],
   "source": [
    "# 풀이 2\n",
    "\n",
    "def water_melon(n):\n",
    "    return \"수박\"*(n//2) + \"수\"*(n%2)"
   ]
  },
  {
   "cell_type": "code",
   "execution_count": null,
   "metadata": {},
   "outputs": [],
   "source": [
    "# 문자열 다루기 기본\n",
    "\n",
    "def solution(s):\n",
    "    return s.isdigit() and len(s) == 4 or len(s) == 6"
   ]
  },
  {
   "cell_type": "code",
   "execution_count": null,
   "metadata": {},
   "outputs": [],
   "source": [
    "# 서울에서 김서방 찾기\n",
    "\n",
    "def solution(seoul):\n",
    "    n = seoul.index('Kim')\n",
    "    return \"김서방은 {}에 있다\".format(n)"
   ]
  },
  {
   "cell_type": "code",
   "execution_count": 15,
   "metadata": {},
   "outputs": [
    {
     "name": "stdout",
     "output_type": "stream",
     "text": [
      "[5, 4, 3, 2, 1]\n"
     ]
    }
   ],
   "source": [
    "# 자연수 뒤집어 배열로 만들기\n",
    "# 풀이 1\n",
    "\n",
    "def solution(n):\n",
    "    answer=[]\n",
    "    a = str(n)\n",
    "    for i in a :\n",
    "        answer.append(int(i))\n",
    "    answer.reverse()\n",
    "    \n",
    "    return answer"
   ]
  },
  {
   "cell_type": "code",
   "execution_count": 16,
   "metadata": {},
   "outputs": [
    {
     "name": "stdout",
     "output_type": "stream",
     "text": [
      "[5, 4, 3, 2, 1]\n"
     ]
    }
   ],
   "source": [
    "# 풀이 2\n",
    "\n",
    "def solution(n):\n",
    "    return list(map(int, reversed(str(n))))"
   ]
  },
  {
   "cell_type": "code",
   "execution_count": 5,
   "metadata": {},
   "outputs": [],
   "source": [
    "# 124 나라의 숫자\n",
    "# 풀이 1\n",
    "\n",
    "def solution(n):\n",
    "    answer = ''\n",
    "    number = \"124\"\n",
    "    while n>0 :\n",
    "        n -= 1\n",
    "        answer = number[n%3] + answer\n",
    "        n = n // 3\n",
    "        \n",
    "    return answer"
   ]
  },
  {
   "cell_type": "code",
   "execution_count": 7,
   "metadata": {},
   "outputs": [],
   "source": [
    "# 풀이 2\n",
    "# 재귀함수\n",
    "\n",
    "def solution(n):\n",
    "    if n<=3:\n",
    "        return '124'[n-1]\n",
    "    else:\n",
    "        q, r = divmod(n-1, 3) \n",
    "        return solution(q) + '124'[r]"
   ]
  },
  {
   "cell_type": "code",
   "execution_count": 22,
   "metadata": {},
   "outputs": [],
   "source": [
    "# 다음 큰 수\n",
    "\n",
    "def solution(n):\n",
    "    one_1 = bin(n).count('1')\n",
    "    \n",
    "    while True :\n",
    "        n += 1\n",
    "        one_2 = bin(n).count('1')\n",
    "        if one_1 == one_2 :\n",
    "            break\n",
    "    return n"
   ]
  },
  {
   "cell_type": "code",
   "execution_count": null,
   "metadata": {},
   "outputs": [],
   "source": [
    "# 프린터\n",
    "\n",
    "def solution(priorities, location):\n",
    "    answer = 0\n",
    "    printer = [(i, j) for i, j in enumerate(priorities)] \n",
    "    \n",
    "    while True :\n",
    "        x = printer.pop(0)\n",
    "        if any(x[1] < q[1] for q in printer) :\n",
    "            printer.append(x)\n",
    "        else :\n",
    "            answer += 1\n",
    "            if x[0] == location :\n",
    "                return answer"
   ]
  },
  {
   "cell_type": "code",
   "execution_count": 37,
   "metadata": {
    "scrolled": true
   },
   "outputs": [
    {
     "name": "stdout",
     "output_type": "stream",
     "text": [
      "1번 (0, 2)\n",
      "queue [(1, 5), (2, 3), (3, 2), (4, 2), (5, 1), (6, 4), (0, 2)]\n",
      "1번 (1, 5)\n",
      "answer 1\n",
      "1번 (2, 3)\n",
      "queue [(3, 2), (4, 2), (5, 1), (6, 4), (0, 2), (2, 3)]\n",
      "1번 (3, 2)\n",
      "queue [(4, 2), (5, 1), (6, 4), (0, 2), (2, 3), (3, 2)]\n",
      "1번 (4, 2)\n",
      "queue [(5, 1), (6, 4), (0, 2), (2, 3), (3, 2), (4, 2)]\n",
      "1번 (5, 1)\n",
      "queue [(6, 4), (0, 2), (2, 3), (3, 2), (4, 2), (5, 1)]\n",
      "1번 (6, 4)\n",
      "answer 2\n",
      "1번 (0, 2)\n",
      "queue [(2, 3), (3, 2), (4, 2), (5, 1), (0, 2)]\n",
      "1번 (2, 3)\n",
      "answer 3\n",
      "1번 (3, 2)\n",
      "answer 4\n",
      "1번 (4, 2)\n",
      "answer 5\n",
      "1번 (5, 1)\n",
      "queue [(0, 2), (5, 1)]\n",
      "1번 (0, 2)\n",
      "answer 6\n",
      "6\n"
     ]
    }
   ],
   "source": [
    "priorities = [2, 5, 3, 2, 2, 1, 4]\n",
    "location = 0\n",
    "\n",
    "queue =  [(i,p) for i,p in enumerate(priorities)]\n",
    "answer = 0\n",
    "while True:\n",
    "    cur = queue.pop(0)\n",
    "    print(\"1번\", cur)\n",
    "    if any(cur[1] < q[1] for q in queue):\n",
    "        queue.append(cur)\n",
    "        print('queue', queue)\n",
    "    else:\n",
    "        answer += 1\n",
    "        print('answer', answer)\n",
    "        if cur[0] == location :\n",
    "            print(answer)\n",
    "            break\n",
    "\n",
    "\n"
   ]
  },
  {
   "cell_type": "code",
   "execution_count": null,
   "metadata": {},
   "outputs": [],
   "source": [
    "# 주식가격\n",
    "\n",
    "def solution(prices):\n",
    "    time = [0] * len(prices)\n",
    "    \n",
    "    for i in range(len(prices)-1) :\n",
    "        for j in range(i+1, len(prices)) :\n",
    "            if prices[i] > prices[j] :\n",
    "                time[i] += 1\n",
    "                break\n",
    "            else :\n",
    "                time[i] += 1\n",
    "    return time"
   ]
  },
  {
   "cell_type": "code",
   "execution_count": 3,
   "metadata": {},
   "outputs": [
    {
     "name": "stdout",
     "output_type": "stream",
     "text": [
      "<class 'int'>\n"
     ]
    }
   ],
   "source": [
    "# 문자열을 정수로 바꾸기\n",
    "\n",
    "def solution(s):\n",
    "    number = list(s)\n",
    "    if s[0] == \"-\" :\n",
    "        return int(s[1:]) * (-1)\n",
    "    elif s[0] == \"+\" :\n",
    "        return int(s[1:])\n",
    "    else :\n",
    "        return int(s[:])\n",
    "\n",
    "# 쉬운 풀이\n",
    "def solution(s) :\n",
    "    return int(s)"
   ]
  },
  {
   "cell_type": "code",
   "execution_count": 12,
   "metadata": {},
   "outputs": [],
   "source": [
    "# 시저암호 \n",
    "\n",
    "def solution(s, n):\n",
    "    result = []\n",
    "    for i in s :\n",
    "        if i == \" \" :\n",
    "            result.append(\" \")\n",
    "        else :\n",
    "            ask = ord(i) + n\n",
    "            if ask > ord(\"z\") :\n",
    "                ask_r = ord(\"a\")-1 + (ask-ord(\"z\")) \n",
    "                result.append(chr(ask_r))\n",
    "            elif i.isupper() and ask > ord(\"Z\") :\n",
    "                ask_r = ord(\"A\")-1 + (ask- ord(\"Z\"))\n",
    "                result.append(chr(ask_r))\n",
    "            else :\n",
    "                result.append(chr(ask))\n",
    "    return ''.join(result)"
   ]
  },
  {
   "cell_type": "code",
   "execution_count": null,
   "metadata": {},
   "outputs": [],
   "source": [
    "# 약수의 합\n",
    "\n",
    "def solution(n):\n",
    "    answer = []\n",
    "    for i in range(n) :\n",
    "        if n % i == 0 :\n",
    "            answer.append(i)\n",
    "    return sum(answer)"
   ]
  },
  {
   "cell_type": "code",
   "execution_count": 71,
   "metadata": {},
   "outputs": [],
   "source": [
    "# 체육복\n",
    "\n",
    "def solution(n, lost, reserve):\n",
    "    for i in lost[:] :\n",
    "        if i in reserve :\n",
    "            lost.remove(i)\n",
    "            reserve.remove(i)\n",
    "            \n",
    "    for i in lost[:] :\n",
    "        if i-1 in reserve :\n",
    "            lost.remove(i)\n",
    "            reserve.remove(i-1)\n",
    "        elif i+1 in reserve :\n",
    "            lost.remove(i)\n",
    "            reserve.remove(i+1)\n",
    "            \n",
    "    return n - len(lost)"
   ]
  },
  {
   "cell_type": "code",
   "execution_count": 63,
   "metadata": {},
   "outputs": [],
   "source": [
    "# 자릿수 더하기\n",
    "\n",
    "def solution(n):\n",
    "    number = list(str(n))\n",
    "    total = 0\n",
    "    for i in number :\n",
    "        total += int(i)\n",
    "    return total\n",
    "\n",
    "# 2\n",
    "\n",
    "def solution(n) :\n",
    "    def solution(n):\n",
    "    return sum(map(int, str(n)))"
   ]
  },
  {
   "cell_type": "code",
   "execution_count": null,
   "metadata": {},
   "outputs": [],
   "source": [
    "# 키패드 누르기\n",
    "\n",
    "def solution(numbers, hand):\n",
    "    phone = [[1, 4, 7, '*'], [2, 5, 8, 0], [3, 6, 9, '#']]\n",
    "    used = []\n",
    "    last_l = (0, 3)\n",
    "    last_r = (2, 3)\n",
    "    for i in numbers :\n",
    "        if i in phone[0] :\n",
    "            used.append(\"L\")\n",
    "            last_l = (0, phone[0].index(i))\n",
    "            \n",
    "        elif i in phone[2] :\n",
    "            used.append(\"R\")\n",
    "            last_r = (2, phone[2].index(i))\n",
    "            \n",
    "        else :\n",
    "            now = (1, phone[1].index(i))\n",
    "            d_l = abs(last_l[0] - now[0]) + abs(last_l[1] - now[1])\n",
    "            d_r = abs(last_r[0] - now[0]) + abs(last_r[1] - now[1])\n",
    "                \n",
    "            if d_l == d_r :\n",
    "                if hand == \"left\" :\n",
    "                    used.append(\"L\")\n",
    "                    last_l = (1, phone[1].index(i))\n",
    "                else :\n",
    "                    used.append(\"R\")\n",
    "                    last_r = (1, phone[1].index(i))\n",
    "                    \n",
    "            elif d_l < d_r :\n",
    "                used.append(\"L\")\n",
    "                last_l = (1, phone[1].index(i))\n",
    "                \n",
    "            else :\n",
    "                used.append(\"R\")\n",
    "                last_r = (1, phone[1].index(i))\n",
    "\n",
    "    return ''.join(used)"
   ]
  },
  {
   "cell_type": "code",
   "execution_count": null,
   "metadata": {},
   "outputs": [],
   "source": [
    "# 비밀지도\n",
    "\n",
    "def solution(n, arr1, arr2):\n",
    "    map1 = []\n",
    "    map2 = []\n",
    "    for i in arr1 :\n",
    "        b = format(i, 'b')\n",
    "        a = list(map(int, str(b)))\n",
    "        if len(a) != n :\n",
    "            while len(a) < n :\n",
    "                a.insert(0, 0)\n",
    "        map1.append(a)\n",
    "    \n",
    "    for i in arr2 :\n",
    "        b = format(i, 'b')\n",
    "        a = list(map(int, str(b)))\n",
    "        if len(a) != n :\n",
    "            while len(a) < n :\n",
    "                a.insert(0, 0)\n",
    "        map2.append(a)\n",
    "        \n",
    "    secret_map = []\n",
    "    for x, y in zip(map1, map2) :\n",
    "        s_map = []\n",
    "        for q, w in zip(x, y) :\n",
    "            if q or w == 1 :\n",
    "                s_map.append(\"#\")\n",
    "            else :\n",
    "                s_map.append(\" \")\n",
    "        secret_map.append(''.join(s_map))        \n",
    "        \n",
    "    \n",
    "    return secret_map\n",
    "\n",
    "# 2\n",
    "def solution(n, arr1, arr2):\n",
    "    answer = []\n",
    "    for i,j in zip(arr1,arr2):\n",
    "        a12 = str(bin(i|j)[2:])\n",
    "        a12=a12.rjust(n,'0')\n",
    "        a12=a12.replace('1','#')\n",
    "        a12=a12.replace('0',' ')\n",
    "        answer.append(a12)\n",
    "    return answer"
   ]
  },
  {
   "cell_type": "code",
   "execution_count": 59,
   "metadata": {},
   "outputs": [],
   "source": [
    "# 다트 게임\n",
    "\n",
    "from collections import deque\n",
    "\n",
    "def solution(dartResult):\n",
    "    dartResult = dartResult.replace('10', 'p')\n",
    "    dartResult = dartResult.replace('S', '1')\n",
    "    dartResult = dartResult.replace('D', '2')\n",
    "    dartResult = dartResult.replace('T', '3')\n",
    "    \n",
    "    \n",
    "    queue = deque(list(dartResult))\n",
    "    print(queue)\n",
    "    answer = []\n",
    "    \n",
    "    while queue : \n",
    "        x = queue.popleft()\n",
    "        if x != '*' and x !='#' :\n",
    "            y = queue.popleft()\n",
    "            if x == 'p' :\n",
    "                score = 10 ** int(y)\n",
    "            else :\n",
    "                score = int(x) ** int(y)\n",
    "            answer.append(score)\n",
    "            \n",
    "            \n",
    "        elif x == '*' :\n",
    "            if '*' in queue:\n",
    "                answer[-1] = answer[-1] * 4\n",
    "            elif '#' in queue :\n",
    "                answer[-1] = answer[-1] * -2\n",
    "            else :\n",
    "                answer[-1] = answer[-1] * 2\n",
    "                if dartResult.count('*') == 1 and '#' not in dartResult :\n",
    "                    answer[-2] = answer[-2] * 2\n",
    "        \n",
    "        else :\n",
    "            if '*' in queue :\n",
    "                answer[-1] = answer[-1] * -2\n",
    "            else :\n",
    "                answer[-1] = answer[-1] * -1\n",
    "        \n",
    "        print(answer)\n",
    "        \n",
    "    return sum(answer)"
   ]
  },
  {
   "cell_type": "code",
   "execution_count": 60,
   "metadata": {},
   "outputs": [
    {
     "name": "stdout",
     "output_type": "stream",
     "text": [
      "deque(['1', '2', '2', '1', '3', '3', '*'])\n",
      "[1]\n",
      "[1, 2]\n",
      "[1, 2, 27]\n",
      "[1, 4, 54]\n"
     ]
    },
    {
     "data": {
      "text/plain": [
       "59"
      ]
     },
     "execution_count": 60,
     "metadata": {},
     "output_type": "execute_result"
    }
   ],
   "source": [
    "solution('1D2S3T*')"
   ]
  },
  {
   "cell_type": "code",
   "execution_count": 34,
   "metadata": {},
   "outputs": [
    {
     "data": {
      "text/plain": [
       "[78, 8]"
      ]
     },
     "execution_count": 34,
     "metadata": {},
     "output_type": "execute_result"
    }
   ],
   "source": [
    "answer = [1, 2, 3,4, 5, 6, 7, 78, 8]\n",
    "answer[-2:]"
   ]
  },
  {
   "cell_type": "code",
   "execution_count": null,
   "metadata": {},
   "outputs": [],
   "source": [
    "12 * (-1) * 2 + 21 * 2 + 31"
   ]
  }
 ],
 "metadata": {
  "kernelspec": {
   "display_name": "Python 3",
   "language": "python",
   "name": "python3"
  },
  "language_info": {
   "codemirror_mode": {
    "name": "ipython",
    "version": 3
   },
   "file_extension": ".py",
   "mimetype": "text/x-python",
   "name": "python",
   "nbconvert_exporter": "python",
   "pygments_lexer": "ipython3",
   "version": "3.8.5"
  }
 },
 "nbformat": 4,
 "nbformat_minor": 4
}
