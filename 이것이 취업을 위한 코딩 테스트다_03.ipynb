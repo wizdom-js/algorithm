{
 "cells": [
  {
   "cell_type": "markdown",
   "metadata": {},
   "source": [
    "출처 : 유튜브 동빈나"
   ]
  },
  {
   "cell_type": "markdown",
   "metadata": {},
   "source": [
    "# DFS / BFS\n",
    "## 그래프 탐색 알고리즘: DFS / BFS\n",
    "- 탐색 : 많은 양의 데이터 중에서 원하는 데이터 찾는 과정\n",
    "- 대표적인 그래프 탐색 알고리즘으로는 DFS와 BFS있다."
   ]
  },
  {
   "cell_type": "markdown",
   "metadata": {},
   "source": [
    "### 스택 자료구조\n",
    "- 먼저 들어온 데이터가 나중에 나가는 형식(선입후출)\n",
    "- 입구와 출구가 동일한 형태로 스택 시각화 할 수 있다.\n",
    "- 파이썬 같은 경우는 기본적으로 제공하는 \"리스트\"를 가지고 스택을 쌓을 수 있다.\n",
    "    - < 리스트에서 사용하는 함수 >\n",
    "    - append 함수 : 가장 뒤쪽에 무언가를 추가할때. 스택의 삽입함수 느낌\n",
    "    - pop 함수 : 데이터를 빼낸다 (젤뒤쪽(오른쪽))"
   ]
  },
  {
   "cell_type": "code",
   "execution_count": 1,
   "metadata": {},
   "outputs": [
    {
     "name": "stdout",
     "output_type": "stream",
     "text": [
      "[1, 3, 2, 5]\n",
      "[5, 2, 3, 1]\n"
     ]
    }
   ],
   "source": [
    "stack = []\n",
    "\n",
    "stack.append(5)\n",
    "stack.append(2)\n",
    "stack.append(3)\n",
    "stack.append(7)\n",
    "stack.pop()\n",
    "stack.append(1)\n",
    "stack.append(4)\n",
    "stack.pop()\n",
    "\n",
    "print(stack[::-1]) #최상단 원소부터 출력\n",
    "print(stack) # 최하단 원소부터 출력"
   ]
  },
  {
   "cell_type": "markdown",
   "metadata": {},
   "source": [
    "### 큐 자료구조\n",
    "- 먼저 들어온 데이터가 먼저 나가는 형식(선입선출)\n",
    "- 입구와 출구가 모두 뚫려 있는 터널과 같은 형태로 시각화 가능 (공평한 자료구조)\n",
    "- 파이썬은 deque 라이브러리를 사용한다 !! \n",
    "    - deque 라이브러리는 스택 자료구조의 기능도 포함한다. 하지만 파이썬에서는 큐 라이브러리를 제공하거나, 적절한 자료구조형이 존재하지 않아서 덱을 사용한다.\n",
    "    - 덱을 사용하면 시간적으로 우수함 ! \n",
    "        - 일반 리스트의 pop은 제거하고 왼쪽으로 땡겨야 하기 떄문에 시간복잡도가 증가한다. 덱은 상수시간만큼 걸림 "
   ]
  },
  {
   "cell_type": "code",
   "execution_count": 4,
   "metadata": {},
   "outputs": [
    {
     "name": "stdout",
     "output_type": "stream",
     "text": [
      "deque([3, 7, 1, 4])\n",
      "deque([4, 1, 7, 3])\n"
     ]
    }
   ],
   "source": [
    "from collections import deque\n",
    "\n",
    "# 큐 구현을 위해 deque 라이브러리 사용\n",
    "queue = deque()\n",
    "\n",
    "queue.append(5)\n",
    "queue.append(2)\n",
    "queue.append(3)\n",
    "queue.append(7)\n",
    "# 꺼낼때는 왼쪽에서 꺼낸다.\n",
    "queue.popleft()\n",
    "queue.append(1)\n",
    "queue.append(4)\n",
    "queue.popleft()\n",
    "\n",
    "print(queue) # 먼저 들어온 순대로 \n",
    "queue.reverse()\n",
    "print(queue) # 나중에 들어온 원소부터 "
   ]
  },
  {
   "cell_type": "markdown",
   "metadata": {},
   "source": [
    "### 재귀 함수(Recursive Function)\n",
    ": 자기 자신을 다시 호출하는 함수\n",
    "- stack 대신에 많이 사용됨.\n",
    "    - 컴퓨터 시스템이 함수를 연속적으로 호출되었을때, 가장 마지막으로 호출된 함수가 먼저 처리가 되어야지 그 이전에 호출되었던 함수가 처리가 되기때문에 이런 점에서 !!\n",
    "    - 그래서 stack 구현하지 않고 재귀함수를 사용해서 구현하는 경우 많다.\n",
    "- 단순한 형태의 재귀 함수 예제\n",
    "    - '재귀 함수를 호출합니다.'라는 문자열을 무한히 출력\n",
    "    - 어느 정도 출력하다가 최대 재귀 깊이 초과 메시지가 출력된다.(파이썬은 재귀가 너무 깊게 들어가면 오류남. 깊이 제한이 있다.)\n",
    "    - 그럼 오류 발생하지 않도록 재귀 깊이를 더 늘려주거나 아니면 재귀 함수를 내부적으로 stack라이브러리를 사용하는 방식으로, stack영역 아니라 심영역에서 삽입 처리 되도록 매핑 해준다."
   ]
  },
  {
   "cell_type": "markdown",
   "metadata": {},
   "source": [
    "#### 재귀 함수의 종료 조건\n",
    "- 재귀 함수를 문제 풀이에서 사용할 떄는 재귀 함수의 종료 조건을 반드시 명시해야 한다.\n",
    "- 종료 조건을 제대로 명시하지 않으면 함수가 무한히 호출될 수 있다."
   ]
  },
  {
   "cell_type": "code",
   "execution_count": 5,
   "metadata": {},
   "outputs": [
    {
     "name": "stdout",
     "output_type": "stream",
     "text": [
      "1 번째 재귀함수에서 2 번째 재귀함수 호출\n",
      "2 번째 재귀함수에서 3 번째 재귀함수 호출\n",
      "3 번째 재귀함수에서 4 번째 재귀함수 호출\n",
      "4 번째 재귀함수에서 5 번째 재귀함수 호출\n",
      "5 번째 재귀함수에서 6 번째 재귀함수 호출\n",
      "6 번째 재귀함수에서 7 번째 재귀함수 호출\n",
      "7 번째 재귀함수에서 8 번째 재귀함수 호출\n",
      "8 번째 재귀함수에서 9 번째 재귀함수 호출\n",
      "9 번째 재귀함수에서 10 번째 재귀함수 호출\n",
      "10 번째 재귀함수에서 11 번째 재귀함수 호출\n",
      "11 번째 재귀함수에서 12 번째 재귀함수 호출\n",
      "12 번째 재귀함수에서 13 번째 재귀함수 호출\n",
      "13 번째 재귀함수에서 14 번째 재귀함수 호출\n",
      "14 번째 재귀함수에서 15 번째 재귀함수 호출\n",
      "15 번째 재귀함수에서 16 번째 재귀함수 호출\n",
      "16 번째 재귀함수에서 17 번째 재귀함수 호출\n",
      "17 번째 재귀함수에서 18 번째 재귀함수 호출\n",
      "18 번째 재귀함수에서 19 번째 재귀함수 호출\n",
      "19 번째 재귀함수에서 20 번째 재귀함수 호출\n",
      "20 번째 재귀함수에서 21 번째 재귀함수 호출\n",
      "21 번째 재귀함수에서 22 번째 재귀함수 호출\n",
      "22 번째 재귀함수에서 23 번째 재귀함수 호출\n",
      "23 번째 재귀함수에서 24 번째 재귀함수 호출\n",
      "24 번째 재귀함수에서 25 번째 재귀함수 호출\n",
      "25 번째 재귀함수에서 26 번째 재귀함수 호출\n",
      "26 번째 재귀함수에서 27 번째 재귀함수 호출\n",
      "27 번째 재귀함수에서 28 번째 재귀함수 호출\n",
      "28 번째 재귀함수에서 29 번째 재귀함수 호출\n",
      "29 번째 재귀함수에서 30 번째 재귀함수 호출\n",
      "30 번째 재귀함수에서 31 번째 재귀함수 호출\n",
      "31 번째 재귀함수에서 32 번째 재귀함수 호출\n",
      "32 번째 재귀함수에서 33 번째 재귀함수 호출\n",
      "33 번째 재귀함수에서 34 번째 재귀함수 호출\n",
      "34 번째 재귀함수에서 35 번째 재귀함수 호출\n",
      "35 번째 재귀함수에서 36 번째 재귀함수 호출\n",
      "36 번째 재귀함수에서 37 번째 재귀함수 호출\n",
      "37 번째 재귀함수에서 38 번째 재귀함수 호출\n",
      "38 번째 재귀함수에서 39 번째 재귀함수 호출\n",
      "39 번째 재귀함수에서 40 번째 재귀함수 호출\n",
      "40 번째 재귀함수에서 41 번째 재귀함수 호출\n",
      "41 번째 재귀함수에서 42 번째 재귀함수 호출\n",
      "42 번째 재귀함수에서 43 번째 재귀함수 호출\n",
      "43 번째 재귀함수에서 44 번째 재귀함수 호출\n",
      "44 번째 재귀함수에서 45 번째 재귀함수 호출\n",
      "45 번째 재귀함수에서 46 번째 재귀함수 호출\n",
      "46 번째 재귀함수에서 47 번째 재귀함수 호출\n",
      "47 번째 재귀함수에서 48 번째 재귀함수 호출\n",
      "48 번째 재귀함수에서 49 번째 재귀함수 호출\n",
      "49 번째 재귀함수에서 50 번째 재귀함수 호출\n",
      "50 번째 재귀함수에서 51 번째 재귀함수 호출\n",
      "51 번째 재귀함수에서 52 번째 재귀함수 호출\n",
      "52 번째 재귀함수에서 53 번째 재귀함수 호출\n",
      "53 번째 재귀함수에서 54 번째 재귀함수 호출\n",
      "54 번째 재귀함수에서 55 번째 재귀함수 호출\n",
      "55 번째 재귀함수에서 56 번째 재귀함수 호출\n",
      "56 번째 재귀함수에서 57 번째 재귀함수 호출\n",
      "57 번째 재귀함수에서 58 번째 재귀함수 호출\n",
      "58 번째 재귀함수에서 59 번째 재귀함수 호출\n",
      "59 번째 재귀함수에서 60 번째 재귀함수 호출\n",
      "60 번째 재귀함수에서 61 번째 재귀함수 호출\n",
      "61 번째 재귀함수에서 62 번째 재귀함수 호출\n",
      "62 번째 재귀함수에서 63 번째 재귀함수 호출\n",
      "63 번째 재귀함수에서 64 번째 재귀함수 호출\n",
      "64 번째 재귀함수에서 65 번째 재귀함수 호출\n",
      "65 번째 재귀함수에서 66 번째 재귀함수 호출\n",
      "66 번째 재귀함수에서 67 번째 재귀함수 호출\n",
      "67 번째 재귀함수에서 68 번째 재귀함수 호출\n",
      "68 번째 재귀함수에서 69 번째 재귀함수 호출\n",
      "69 번째 재귀함수에서 70 번째 재귀함수 호출\n",
      "70 번째 재귀함수에서 71 번째 재귀함수 호출\n",
      "71 번째 재귀함수에서 72 번째 재귀함수 호출\n",
      "72 번째 재귀함수에서 73 번째 재귀함수 호출\n",
      "73 번째 재귀함수에서 74 번째 재귀함수 호출\n",
      "74 번째 재귀함수에서 75 번째 재귀함수 호출\n",
      "75 번째 재귀함수에서 76 번째 재귀함수 호출\n",
      "76 번째 재귀함수에서 77 번째 재귀함수 호출\n",
      "77 번째 재귀함수에서 78 번째 재귀함수 호출\n",
      "78 번째 재귀함수에서 79 번째 재귀함수 호출\n",
      "79 번째 재귀함수에서 80 번째 재귀함수 호출\n",
      "80 번째 재귀함수에서 81 번째 재귀함수 호출\n",
      "81 번째 재귀함수에서 82 번째 재귀함수 호출\n",
      "82 번째 재귀함수에서 83 번째 재귀함수 호출\n",
      "83 번째 재귀함수에서 84 번째 재귀함수 호출\n",
      "84 번째 재귀함수에서 85 번째 재귀함수 호출\n",
      "85 번째 재귀함수에서 86 번째 재귀함수 호출\n",
      "86 번째 재귀함수에서 87 번째 재귀함수 호출\n",
      "87 번째 재귀함수에서 88 번째 재귀함수 호출\n",
      "88 번째 재귀함수에서 89 번째 재귀함수 호출\n",
      "89 번째 재귀함수에서 90 번째 재귀함수 호출\n",
      "90 번째 재귀함수에서 91 번째 재귀함수 호출\n",
      "91 번째 재귀함수에서 92 번째 재귀함수 호출\n",
      "92 번째 재귀함수에서 93 번째 재귀함수 호출\n",
      "93 번째 재귀함수에서 94 번째 재귀함수 호출\n",
      "94 번째 재귀함수에서 95 번째 재귀함수 호출\n",
      "95 번째 재귀함수에서 96 번째 재귀함수 호출\n",
      "96 번째 재귀함수에서 97 번째 재귀함수 호출\n",
      "97 번째 재귀함수에서 98 번째 재귀함수 호출\n",
      "98 번째 재귀함수에서 99 번째 재귀함수 호출\n",
      "99 번째 재귀함수에서 100 번째 재귀함수 호출\n",
      "99 번째 재귀함수를 종료\n",
      "98 번째 재귀함수를 종료\n",
      "97 번째 재귀함수를 종료\n",
      "96 번째 재귀함수를 종료\n",
      "95 번째 재귀함수를 종료\n",
      "94 번째 재귀함수를 종료\n",
      "93 번째 재귀함수를 종료\n",
      "92 번째 재귀함수를 종료\n",
      "91 번째 재귀함수를 종료\n",
      "90 번째 재귀함수를 종료\n",
      "89 번째 재귀함수를 종료\n",
      "88 번째 재귀함수를 종료\n",
      "87 번째 재귀함수를 종료\n",
      "86 번째 재귀함수를 종료\n",
      "85 번째 재귀함수를 종료\n",
      "84 번째 재귀함수를 종료\n",
      "83 번째 재귀함수를 종료\n",
      "82 번째 재귀함수를 종료\n",
      "81 번째 재귀함수를 종료\n",
      "80 번째 재귀함수를 종료\n",
      "79 번째 재귀함수를 종료\n",
      "78 번째 재귀함수를 종료\n",
      "77 번째 재귀함수를 종료\n",
      "76 번째 재귀함수를 종료\n",
      "75 번째 재귀함수를 종료\n",
      "74 번째 재귀함수를 종료\n",
      "73 번째 재귀함수를 종료\n",
      "72 번째 재귀함수를 종료\n",
      "71 번째 재귀함수를 종료\n",
      "70 번째 재귀함수를 종료\n",
      "69 번째 재귀함수를 종료\n",
      "68 번째 재귀함수를 종료\n",
      "67 번째 재귀함수를 종료\n",
      "66 번째 재귀함수를 종료\n",
      "65 번째 재귀함수를 종료\n",
      "64 번째 재귀함수를 종료\n",
      "63 번째 재귀함수를 종료\n",
      "62 번째 재귀함수를 종료\n",
      "61 번째 재귀함수를 종료\n",
      "60 번째 재귀함수를 종료\n",
      "59 번째 재귀함수를 종료\n",
      "58 번째 재귀함수를 종료\n",
      "57 번째 재귀함수를 종료\n",
      "56 번째 재귀함수를 종료\n",
      "55 번째 재귀함수를 종료\n",
      "54 번째 재귀함수를 종료\n",
      "53 번째 재귀함수를 종료\n",
      "52 번째 재귀함수를 종료\n",
      "51 번째 재귀함수를 종료\n",
      "50 번째 재귀함수를 종료\n",
      "49 번째 재귀함수를 종료\n",
      "48 번째 재귀함수를 종료\n",
      "47 번째 재귀함수를 종료\n",
      "46 번째 재귀함수를 종료\n",
      "45 번째 재귀함수를 종료\n",
      "44 번째 재귀함수를 종료\n",
      "43 번째 재귀함수를 종료\n",
      "42 번째 재귀함수를 종료\n",
      "41 번째 재귀함수를 종료\n",
      "40 번째 재귀함수를 종료\n",
      "39 번째 재귀함수를 종료\n",
      "38 번째 재귀함수를 종료\n",
      "37 번째 재귀함수를 종료\n",
      "36 번째 재귀함수를 종료\n",
      "35 번째 재귀함수를 종료\n",
      "34 번째 재귀함수를 종료\n",
      "33 번째 재귀함수를 종료\n",
      "32 번째 재귀함수를 종료\n",
      "31 번째 재귀함수를 종료\n",
      "30 번째 재귀함수를 종료\n",
      "29 번째 재귀함수를 종료\n",
      "28 번째 재귀함수를 종료\n",
      "27 번째 재귀함수를 종료\n",
      "26 번째 재귀함수를 종료\n",
      "25 번째 재귀함수를 종료\n",
      "24 번째 재귀함수를 종료\n",
      "23 번째 재귀함수를 종료\n",
      "22 번째 재귀함수를 종료\n",
      "21 번째 재귀함수를 종료\n",
      "20 번째 재귀함수를 종료\n",
      "19 번째 재귀함수를 종료\n",
      "18 번째 재귀함수를 종료\n",
      "17 번째 재귀함수를 종료\n",
      "16 번째 재귀함수를 종료\n",
      "15 번째 재귀함수를 종료\n",
      "14 번째 재귀함수를 종료\n",
      "13 번째 재귀함수를 종료\n",
      "12 번째 재귀함수를 종료\n",
      "11 번째 재귀함수를 종료\n",
      "10 번째 재귀함수를 종료\n",
      "9 번째 재귀함수를 종료\n",
      "8 번째 재귀함수를 종료\n",
      "7 번째 재귀함수를 종료\n",
      "6 번째 재귀함수를 종료\n",
      "5 번째 재귀함수를 종료\n",
      "4 번째 재귀함수를 종료\n",
      "3 번째 재귀함수를 종료\n",
      "2 번째 재귀함수를 종료\n",
      "1 번째 재귀함수를 종료\n"
     ]
    }
   ],
   "source": [
    "# 종료 조건을 포함한 재귀 함수 예제\n",
    "\n",
    "def recursive_function(i):\n",
    "    # 100번째 호출을 했을 때 종료되도록 종료 조건 명시\n",
    "    if i == 100:\n",
    "        return\n",
    "    print(i, '번째 재귀함수에서', i+1, '번째 재귀함수 호출')\n",
    "    recursive_function(i+1)\n",
    "    print(i, '번째 재귀함수를 종료')\n",
    "\n",
    "recursive_function(1)"
   ]
  },
  {
   "cell_type": "markdown",
   "metadata": {},
   "source": [
    "### 팩토리얼 구현 예제\n",
    "- n! = 1 * 2 * 3 * ... * (n-1) * n\n",
    "- 수학적으로 0!과 1!의 값은 1이다."
   ]
  },
  {
   "cell_type": "code",
   "execution_count": 6,
   "metadata": {},
   "outputs": [
    {
     "name": "stdout",
     "output_type": "stream",
     "text": [
      "반복적: 120\n",
      "재귀적: 120\n"
     ]
    }
   ],
   "source": [
    "# 반복적으로 구현한 n!\n",
    "def factorial_iterative(n):\n",
    "    result = 1\n",
    "    # 1부터 n까지의 수를 차례대로 곱하기\n",
    "    for i in range(1, n+1):\n",
    "        result *= i\n",
    "    return result\n",
    "\n",
    "# 재귀적으로 구현한 n! (점화식)\n",
    "def factorial_recursive(n):\n",
    "    if n <= 1 : # n이 1이하인 경우 1을 반환\n",
    "        return 1\n",
    "    # n! = n * (n-1)!을 그대로 코드로 작성\n",
    "    return n * factorial_recursive(n-1)\n",
    "\n",
    "print('반복적:', factorial_iterative(5))\n",
    "print('재귀적:', factorial_recursive(5))"
   ]
  },
  {
   "cell_type": "markdown",
   "metadata": {},
   "source": [
    "### DFS (Depth - First Search)\n",
    ": 깊이 우선 탐색. 그래프에서 깊은 부분을 우선적으로 탐색하는 알고리즘.\n",
    "- DFS는 스택자료구조(혹은 재귀 함수)를 이용하며, 구체적인 동작 과정은 다음과 같다.\n",
    "    1. 탐색 시작 노드를 스택에 삽입하고 방문 처리 한다.\n",
    "    2. 스택의 최상단 노드에 방문하지 않은 인접한 노드가 하나라도 있으면 그 노드를 스택에 넣고 방문처리를 한다. 방문하지 않은 인접노드가 없으면 스택에서 최상단 노드를 꺼낸다.\n",
    "    3. 더 이상 2번의 고ㅏ정을 수행 할 수 없을때까지 수행\n",
    "    \n",
    "    \n",
    "    \n",
    "- 어떤 문제를 풀때 반복을 쓰거나 재귀를 쓰거나 시간 복잡도는 같은데, 현실적으로 동작을 보면 (컴터 동작하는거 보면 반복문이 더 빠르다)\n",
    "    - 그래서 가능하면 bfs dfs 둘다 풀 수 있다고 하면 bfs로 푸는게 더 빠를 수 있다. \n",
    "    - 간결은 dfs.. \n",
    "    - 코드로 표현할때는 재귀함수로 많이 표현함. 일반적으로 문제 풀때는 재귀 많이 씀"
   ]
  },
  {
   "cell_type": "code",
   "execution_count": 7,
   "metadata": {},
   "outputs": [
    {
     "name": "stdout",
     "output_type": "stream",
     "text": [
      "1 2 7 6 8 3 4 5 "
     ]
    }
   ],
   "source": [
    "# DFS 메서드 정의\n",
    "def dfs(graph, v, visited):\n",
    "    # 현재 노드를 방문 처리\n",
    "    visited[v] = True\n",
    "    print(v, end=' ')\n",
    "    # 현재 노드와 연결된 다른 노드를 재귀적으로 방문\n",
    "    # 가장 마지막에 불러온 함수가 젤 먼저 처리된다.\n",
    "    for i in graph[v]:\n",
    "        if not visited[i]:\n",
    "            dfs(graph, i, visited)\n",
    "\n",
    "# 각 노드가 연결된 정보 표현 \n",
    "graph = [\n",
    "    [], # 1부터 시작이기 때문에 이거 무시되게\n",
    "    [2, 3, 8],\n",
    "    [1, 7],\n",
    "    [1, 4, 5],\n",
    "    [3, 5],\n",
    "    [3, 4],\n",
    "    [7],\n",
    "    [2, 6, 8],\n",
    "    [1, 7]\n",
    "]\n",
    "\n",
    "# 각 노드가 방문된 정보를 표현\n",
    "visited = [False] * 9\n",
    "\n",
    "# 정의된 DFS 함수 호출\n",
    "dfs(graph, 1, visited)"
   ]
  },
  {
   "cell_type": "code",
   "execution_count": null,
   "metadata": {},
   "outputs": [],
   "source": []
  },
  {
   "cell_type": "code",
   "execution_count": null,
   "metadata": {},
   "outputs": [],
   "source": []
  },
  {
   "cell_type": "code",
   "execution_count": null,
   "metadata": {},
   "outputs": [],
   "source": []
  },
  {
   "cell_type": "code",
   "execution_count": null,
   "metadata": {},
   "outputs": [],
   "source": []
  },
  {
   "cell_type": "code",
   "execution_count": null,
   "metadata": {},
   "outputs": [],
   "source": []
  },
  {
   "cell_type": "code",
   "execution_count": null,
   "metadata": {},
   "outputs": [],
   "source": []
  },
  {
   "cell_type": "code",
   "execution_count": null,
   "metadata": {},
   "outputs": [],
   "source": []
  },
  {
   "cell_type": "code",
   "execution_count": null,
   "metadata": {},
   "outputs": [],
   "source": []
  },
  {
   "cell_type": "code",
   "execution_count": null,
   "metadata": {},
   "outputs": [],
   "source": []
  },
  {
   "cell_type": "code",
   "execution_count": null,
   "metadata": {},
   "outputs": [],
   "source": []
  },
  {
   "cell_type": "code",
   "execution_count": null,
   "metadata": {},
   "outputs": [],
   "source": []
  },
  {
   "cell_type": "code",
   "execution_count": null,
   "metadata": {},
   "outputs": [],
   "source": []
  },
  {
   "cell_type": "code",
   "execution_count": null,
   "metadata": {},
   "outputs": [],
   "source": []
  },
  {
   "cell_type": "code",
   "execution_count": null,
   "metadata": {},
   "outputs": [],
   "source": []
  },
  {
   "cell_type": "code",
   "execution_count": null,
   "metadata": {},
   "outputs": [],
   "source": []
  },
  {
   "cell_type": "code",
   "execution_count": null,
   "metadata": {},
   "outputs": [],
   "source": []
  },
  {
   "cell_type": "code",
   "execution_count": null,
   "metadata": {},
   "outputs": [],
   "source": []
  },
  {
   "cell_type": "code",
   "execution_count": null,
   "metadata": {},
   "outputs": [],
   "source": []
  },
  {
   "cell_type": "code",
   "execution_count": null,
   "metadata": {},
   "outputs": [],
   "source": []
  },
  {
   "cell_type": "code",
   "execution_count": null,
   "metadata": {},
   "outputs": [],
   "source": []
  },
  {
   "cell_type": "code",
   "execution_count": null,
   "metadata": {},
   "outputs": [],
   "source": []
  },
  {
   "cell_type": "code",
   "execution_count": null,
   "metadata": {},
   "outputs": [],
   "source": []
  },
  {
   "cell_type": "code",
   "execution_count": null,
   "metadata": {},
   "outputs": [],
   "source": []
  },
  {
   "cell_type": "code",
   "execution_count": null,
   "metadata": {},
   "outputs": [],
   "source": []
  },
  {
   "cell_type": "code",
   "execution_count": null,
   "metadata": {},
   "outputs": [],
   "source": []
  },
  {
   "cell_type": "code",
   "execution_count": null,
   "metadata": {},
   "outputs": [],
   "source": []
  },
  {
   "cell_type": "code",
   "execution_count": null,
   "metadata": {},
   "outputs": [],
   "source": []
  },
  {
   "cell_type": "code",
   "execution_count": null,
   "metadata": {},
   "outputs": [],
   "source": []
  },
  {
   "cell_type": "code",
   "execution_count": null,
   "metadata": {},
   "outputs": [],
   "source": []
  },
  {
   "cell_type": "code",
   "execution_count": null,
   "metadata": {},
   "outputs": [],
   "source": []
  },
  {
   "cell_type": "code",
   "execution_count": null,
   "metadata": {},
   "outputs": [],
   "source": []
  },
  {
   "cell_type": "code",
   "execution_count": null,
   "metadata": {},
   "outputs": [],
   "source": []
  },
  {
   "cell_type": "code",
   "execution_count": null,
   "metadata": {},
   "outputs": [],
   "source": []
  },
  {
   "cell_type": "code",
   "execution_count": null,
   "metadata": {},
   "outputs": [],
   "source": []
  }
 ],
 "metadata": {
  "kernelspec": {
   "display_name": "Python 3",
   "language": "python",
   "name": "python3"
  },
  "language_info": {
   "codemirror_mode": {
    "name": "ipython",
    "version": 3
   },
   "file_extension": ".py",
   "mimetype": "text/x-python",
   "name": "python",
   "nbconvert_exporter": "python",
   "pygments_lexer": "ipython3",
   "version": "3.8.5"
  }
 },
 "nbformat": 4,
 "nbformat_minor": 4
}
