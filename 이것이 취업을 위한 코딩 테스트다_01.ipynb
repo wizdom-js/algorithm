{
 "cells": [
  {
   "cell_type": "markdown",
   "metadata": {},
   "source": [
    "# 이것이 취업을 위한 코딩 테스트다"
   ]
  },
  {
   "cell_type": "markdown",
   "metadata": {},
   "source": [
    "출처 : 유튜브 동빈나"
   ]
  },
  {
   "cell_type": "markdown",
   "metadata": {},
   "source": [
    "## 코딩테스트 개요 및 파이썬 문법"
   ]
  },
  {
   "cell_type": "markdown",
   "metadata": {},
   "source": [
    "#### 복잡도"
   ]
  },
  {
   "cell_type": "markdown",
   "metadata": {},
   "source": [
    ": 알고리즘의 성능을 나타내는 척도\n",
    "- 시간 복잡도 : 특정한 크기의 입력에 대하여 알고리즘의 수행 시간 분석\n",
    "- 공간 복잡도 : 특정한 크기의 입력에 대하여 알고리즘의 메모리 사용량 분석\n",
    "\n",
    "동일한 기능을 수행하는 알고리즘이 있다면, 일반적으로 복잡도가 낮을수록 좋은 알고리즘이다.\n"
   ]
  },
  {
   "cell_type": "markdown",
   "metadata": {},
   "source": [
    "#### 빅오표기법"
   ]
  },
  {
   "cell_type": "markdown",
   "metadata": {},
   "source": [
    ": 가장 빠르게 증가하는 항만을 고려하는 표기법이다.\n",
    "- 함수의 상한만을 나타내게 된다."
   ]
  },
  {
   "cell_type": "markdown",
   "metadata": {},
   "source": [
    "#### 알고리즘 설계 Tip"
   ]
  },
  {
   "cell_type": "markdown",
   "metadata": {},
   "source": [
    "- 코딩테스트 문제에서 시간제한은 통상 1~5초가량이라는 점에 유의하자 !\n",
    "- 혹여 문제에 명시되어 있지 않은 경우 대략 5초 정도라고 생각하고 문제를 푸는 것이 합리적이다.\n",
    "\n",
    "- 파이썬은 c보다 4-5배정도 느리다"
   ]
  },
  {
   "cell_type": "markdown",
   "metadata": {},
   "source": [
    "#### 요구사항에 따라 적절한 알고리즘 설계하기"
   ]
  },
  {
   "cell_type": "markdown",
   "metadata": {},
   "source": [
    "- 문제에서 가장 먼저 확인해야 하는 내용은 시간제한(수행시간 요구사항)이다.\n",
    "\n",
    "- 시간제한이 1초인 문제를 만났을때, 일반적인 기준은 다음과 같다.\n",
    "    - N의 범위가 500인 경우: 시간 복잡도가 O(N^3)인 알고리즘을 설계하면 된다.\n",
    "    - N의 범위가 2,000인 경우: 시간 복잡도가 O(N^2)인 알고리즘을 설계\n",
    "    - N의 범위가 100,000인 경우: 시간 복잡도가 O(NlogN)인 알고리즘을 설계\n",
    "    - N의 범위가 10,000,000인 경우: 시간 복잡도가 O(N)인 알고리즘을 설계"
   ]
  },
  {
   "cell_type": "markdown",
   "metadata": {},
   "source": [
    "#### 알고리즘 문제 해결 과정"
   ]
  },
  {
   "cell_type": "markdown",
   "metadata": {},
   "source": [
    "1. 지문읽기 및 컴퓨터적 사고\n",
    "2. 요구사항(복잡도) 분석\n",
    "3. 문제해결을 위한 아이디어 찾기\n",
    "4. 소스코드 설계 및 코딩\n",
    "- 일반적으로 대부분의 문제 출제자들은 핵심 아이디어를 캐치한다면, 간결하게 소스코드를 작성할 수 있는 형태로 문제를 출제한다.\n",
    "- 문제를 충분히 읽는 것이 중요하다 !!!!! 디테일하게 고민하기 ! 어떻게 인덱스를 설정하고 배열을 만들고까지 들어가기"
   ]
  },
  {
   "cell_type": "markdown",
   "metadata": {},
   "source": [
    "#### 자신만의 소스코드 관리하기"
   ]
  },
  {
   "cell_type": "markdown",
   "metadata": {},
   "source": [
    "- 자신만의 소스코드를 관리하는 습관을 들이면 좋다.\n",
    "- 자신이 자주 사용하는 알고리즘 코드를 라이브러리화 하면 좋다."
   ]
  },
  {
   "cell_type": "markdown",
   "metadata": {},
   "source": [
    "### 자료형"
   ]
  },
  {
   "cell_type": "markdown",
   "metadata": {},
   "source": [
    "- 모든 프로그래밍은 결국 데이터를 다루는 행위이다. 따라서 자료형에 대한 이해는 프로그래밍의 길에 있어서 첫걸음이다.\n",
    "- 정수형, 실수형, 복소수형, 문자열, 리스트, 튜플, 사전 등이 있다."
   ]
  },
  {
   "cell_type": "markdown",
   "metadata": {},
   "source": [
    "### 정수형\n",
    ": 정수를 다루는 자료형\n",
    "- 양의 정수, 음의 정수, 0\n",
    "- 코테에서 출제되는 많은 문제들은 정수형을 주로 다룬다"
   ]
  },
  {
   "cell_type": "code",
   "execution_count": 1,
   "metadata": {},
   "outputs": [
    {
     "name": "stdout",
     "output_type": "stream",
     "text": [
      "1000\n"
     ]
    }
   ],
   "source": [
    "a = 1000\n",
    "print(a)"
   ]
  },
  {
   "cell_type": "markdown",
   "metadata": {},
   "source": [
    "### 실수형\n",
    ": 소수점 아래의 데이터를 포함하는 수 자료 (.만 찍으면 실수!)\n",
    "- 소수부가 0이거나, 정수부가 0인 소수는 0을 생략하고 사용 가능."
   ]
  },
  {
   "cell_type": "code",
   "execution_count": 2,
   "metadata": {},
   "outputs": [
    {
     "name": "stdout",
     "output_type": "stream",
     "text": [
      "5.0 -0.7\n"
     ]
    }
   ],
   "source": [
    "a = 5.\n",
    "b = -.7\n",
    "print(a, b)"
   ]
  },
  {
   "cell_type": "markdown",
   "metadata": {},
   "source": [
    "### 지수 표현 방식 \n",
    ": e나 E 다음에 오는 수는 10의 지수부를 의미한다.\n",
    "- 예를 들어 1e9라고 입력하게 되면, 10의 9제곱이 된다.\n",
    "\n",
    "\n",
    "\n",
    "- 지수표현방식은 임이의 큰 수를 표현하기 위해 자주 사용된다.\n",
    "- 최단 경로 알고리즘에서는 도달할 수 없는 노드에 대하여 최단거리를 무한(INF)라고 설정한다.\n",
    "- 이때 가능한 최댓값이 10억 미만이라면 무한(INF) 값으로 1e9를 이용할 수 있다."
   ]
  },
  {
   "cell_type": "code",
   "execution_count": 4,
   "metadata": {},
   "outputs": [
    {
     "name": "stdout",
     "output_type": "stream",
     "text": [
      "1000000000\n"
     ]
    }
   ],
   "source": [
    "INF = int(1e9) \n",
    "    # int로 안하면 실수로 나오게 된다. \n",
    "    # 실수 연산을 통해서 발생하는 오류를 줄이기 위해 int로 바꿔주는 것이 좋음\n",
    "\n",
    "print(INF)"
   ]
  },
  {
   "cell_type": "markdown",
   "metadata": {},
   "source": [
    "#### 실수형 더 알아보기 \n",
    "- 가장 널리 쓰이는 IEEE754 표준에서는 실수형을 저장하기 위해 4바이트, 혹은 8바이트의 고정된 크기의 메모리를 할당하므로, 컴퓨터 시스템은 실수 정보를 표현하는 정확도에 한계를 가진다.\n",
    "- 예로 10진수 체계에는 0.3과 0.6을 더한 값이 0.9로 정확히 떨어진다.\n",
    "    - 하지만 2진수에서는 0.9를 정확히 표현할 수 있는 방법이 없음\n",
    "    - 컴퓨터는 최대한 0.9와 가깝게 표현하지만 미세한 오차가 있다."
   ]
  },
  {
   "cell_type": "code",
   "execution_count": 5,
   "metadata": {},
   "outputs": [
    {
     "name": "stdout",
     "output_type": "stream",
     "text": [
      "0.8999999999999999\n"
     ]
    }
   ],
   "source": [
    "# 그래서 보통 이를 고려하여 소수자 몇자까지만 나오게 해라 라고 출제됨\n",
    "a = 0.3+ 0.6\n",
    "print(a)"
   ]
  },
  {
   "cell_type": "markdown",
   "metadata": {},
   "source": [
    "- 그래서 round() 함수를 이용할 수 있으며, 이 방법이 권장된다.\n",
    "- 예) 235.678을 소수 셋째 자리에서 반올림 하려면 round(235.678, 2)라고 작성. 결과는 235.68이 된다."
   ]
  },
  {
   "cell_type": "code",
   "execution_count": 7,
   "metadata": {},
   "outputs": [
    {
     "name": "stdout",
     "output_type": "stream",
     "text": [
      "0.9\n"
     ]
    }
   ],
   "source": [
    "a = 0.3+ 0.6\n",
    "print(round(a, 2))"
   ]
  },
  {
   "cell_type": "markdown",
   "metadata": {},
   "source": [
    "### 수 자료형의 연산\n",
    "- 나누기 연산자(/) : 나눠진 결과를 실수형으로 반환\n",
    "- 나머지 연산자(%) : 홀수 짝수 체크할때 많이 이용\n",
    "- 몫 연산자(//) \n",
    "- 거듭제곱 연산자(**)"
   ]
  },
  {
   "cell_type": "code",
   "execution_count": 8,
   "metadata": {},
   "outputs": [
    {
     "name": "stdout",
     "output_type": "stream",
     "text": [
      "125\n",
      "2.23606797749979\n"
     ]
    }
   ],
   "source": [
    "a=5\n",
    "b=3\n",
    "\n",
    "# 거듭제곱 \n",
    "print(a **b)\n",
    "\n",
    "# 제곱근\n",
    "print(a ** 0.5)"
   ]
  },
  {
   "cell_type": "markdown",
   "metadata": {},
   "source": [
    "### 리스트 자료형\n",
    ": 여러개의 데이터를 연속적으로 담아 처리하기 위해 사용하는 자료형.\n",
    "    \n",
    "    - C나 자바의 배열(array)의 기능 뿐 아니라 연결 리스트의 기능을 지원.\n",
    "    - C++의 STL vector와 기능적으로 유사\n",
    "    - 리스트 대신에 배열 혹은 테이블이라고 부른다.\n",
    "- 리스트는 대괄호[] 안에 원소를 넣어 초기화하며, 쉼표로 원소를 구분한다.\n",
    "- 리스트의 원소에 접근할 때는 인덱스 값을 괄호에 넣는다.\n",
    "    - 인덱스는 0부터 시작 !!\n",
    "- 비어있는 리스트를 선언하고자 할 떄는 list()혹은 간단히 []를 이용할 수 있다.\n",
    "- 같은 자료형들이 들어가있는게 일반적이다. (다른게 들어가도 되긴한데 보통 그렇게! 튜플은 다른 자료형들어가도 갠춘)"
   ]
  },
  {
   "cell_type": "code",
   "execution_count": 9,
   "metadata": {},
   "outputs": [
    {
     "name": "stdout",
     "output_type": "stream",
     "text": [
      "[3, 5, 4, 3, 2]\n"
     ]
    }
   ],
   "source": [
    "a = [3, 5, 4, 3, 2]\n",
    "print(a)"
   ]
  },
  {
   "cell_type": "markdown",
   "metadata": {},
   "source": [
    "### 인덱싱과 슬라이싱\n",
    "- 인덱스 값을 입력하여 리스트의 특정한 원소에 접근하는 것.\n",
    "    - 음의 정수를 넣으면 원소를 거꾸로 탐색하게 된다."
   ]
  },
  {
   "cell_type": "code",
   "execution_count": 11,
   "metadata": {},
   "outputs": [
    {
     "data": {
      "text/plain": [
       "2"
      ]
     },
     "execution_count": 11,
     "metadata": {},
     "output_type": "execute_result"
    }
   ],
   "source": [
    "a[4]"
   ]
  },
  {
   "cell_type": "code",
   "execution_count": 13,
   "metadata": {},
   "outputs": [
    {
     "data": {
      "text/plain": [
       "2"
      ]
     },
     "execution_count": 13,
     "metadata": {},
     "output_type": "execute_result"
    }
   ],
   "source": [
    "a[-1] # 뒤쪽에서 출발할때는 -1부터 출발 !"
   ]
  },
  {
   "cell_type": "markdown",
   "metadata": {},
   "source": [
    "- 리스트에서 연속적인 위치를 갖는 원소들을 가져와야 할 때는 슬라이싱을 이용한다.\n",
    "    - 대괄호 안에 콜론(:)을 넣어서 시작 인덱스와 끝 인덱스를 설정할 수 있다.\n",
    "    - 끝 인덱스는 실제 인덱스보다 1을 더 크게 설정한다."
   ]
  },
  {
   "cell_type": "code",
   "execution_count": 14,
   "metadata": {},
   "outputs": [
    {
     "name": "stdout",
     "output_type": "stream",
     "text": [
      "[5, 4, 3, 2]\n"
     ]
    }
   ],
   "source": [
    "print(a[1:5])"
   ]
  },
  {
   "cell_type": "markdown",
   "metadata": {},
   "source": [
    "#### 리스트 컴프리헨션\n",
    ": 리스트를 초기화하는 방법 중 하나이다.\n",
    "   - 대괄호 안에 조건문과 반복문을 적용하여 리스트를 초기화 할 수 있다."
   ]
  },
  {
   "cell_type": "code",
   "execution_count": 15,
   "metadata": {},
   "outputs": [
    {
     "name": "stdout",
     "output_type": "stream",
     "text": [
      "[0, 1, 2, 3, 4, 5, 6, 7, 8, 9]\n"
     ]
    }
   ],
   "source": [
    "array = [i for i in range(10)]\n",
    "\n",
    "print(array)"
   ]
  },
  {
   "cell_type": "code",
   "execution_count": 16,
   "metadata": {},
   "outputs": [
    {
     "name": "stdout",
     "output_type": "stream",
     "text": [
      "[1, 3, 5, 7, 9, 11, 13, 15, 17, 19]\n",
      "[1, 4, 9, 16, 25, 36, 49, 64, 81]\n"
     ]
    }
   ],
   "source": [
    "# 0 부터 19까지의 수 중에서 홀수만 포함하는 리스트\n",
    "array = [i for i in range(20) if i%2==1]\n",
    "print(array)\n",
    "\n",
    "# 위에꺼랑 같은거임.\n",
    "a = []\n",
    "for i in range(1, 10) :\n",
    "    if i % 2 == 1:\n",
    "        a.append(i)\n",
    "print(a)\n",
    "\n",
    "\n",
    "# 1부터 9까지의 수들의 제곱 값을 포함하는 리스트\n",
    "array = [i * i for i in range(1, 10)]\n",
    "print(array)"
   ]
  },
  {
   "cell_type": "markdown",
   "metadata": {},
   "source": [
    "- 리스트 컴프리헨션은 2차원 리스트를 초기화할 때 효과적으로 사용될 수 있다.\n",
    "- 특히 N X M 크기의 2차원 리스ㅡ를 한번에 초기화 해야 할 때 매우 유용하다.\n",
    "    - 예) array = [[0]*m for _ in range(n)]\n",
    "    \n",
    "\n",
    "- 만약 2차원 리스트를 초기화 할때 다음과 같이 작성하면 예기치 않은 결과 나온다.\n",
    "    - 잘못된 예) array = [[0]* m] *n\n",
    "    - 리스트 안에 포함된 리스트가 모두 같은 객체로 인식된다. \n",
    "    - 그 주소 자체를 n번 반복하게 되는거임"
   ]
  },
  {
   "cell_type": "code",
   "execution_count": 20,
   "metadata": {
    "scrolled": true
   },
   "outputs": [
    {
     "name": "stdout",
     "output_type": "stream",
     "text": [
      "[[0, 0, 0], [0, 0, 0], [0, 0, 0], [0, 0, 0]]\n"
     ]
    }
   ],
   "source": [
    "array = [[0]*3 for _ in range(4)] \n",
    "print(array) "
   ]
  },
  {
   "cell_type": "code",
   "execution_count": 19,
   "metadata": {},
   "outputs": [
    {
     "name": "stdout",
     "output_type": "stream",
     "text": [
      "[[0, 0, 0], [0, 0, 0], [0, 0, 0], [0, 0, 0]]\n",
      "[[0, 5, 0], [0, 5, 0], [0, 5, 0], [0, 5, 0]]\n"
     ]
    }
   ],
   "source": [
    "# 잘못된 예\n",
    "array = [[0]*3] * 4\n",
    "print(array)\n",
    "\n",
    "array[1][1] = 5\n",
    "print(array)"
   ]
  },
  {
   "cell_type": "markdown",
   "metadata": {},
   "source": [
    "* 언더바(_)는 변수를 쓰지 않을때 사용. 그냥 간단하게 출력만 할거야 할때 ! \n",
    "내부적으로 어떤 변수를 사용하지 않겠다 라는 의미"
   ]
  },
  {
   "cell_type": "markdown",
   "metadata": {},
   "source": [
    "#### 리스트 관련 기타 메서드 (변수.메서드())\n",
    "- append() : 리스트에 원소를 하나 삽입할때 사용한다.\n",
    "- sort() : 기본 정렬 기능으로 오름차순으로 정렬한다. (안에 reverse=True 넣어주면 내림차순). 키를 가지고 있다. sorted(array, key=기준, reverse=true)\n",
    "- reverse() : 리스트의 원소의 순서를 모두 뒤집어 놓는다.\n",
    "- insert(삽입할 위치 인덱스, 삽입할 값) : 특정한 인덱스 위치에 원소를 삽입할 때 사용한다.\n",
    "- count(특정값) : 리스트에서 특정 값을 가지는 데이터의 개수를 셀 때 사용한다.\n",
    "- remove(특정 값): 특정값을 갖는 원소를 제거하는데, 값을 가진 원소가 여러개면 하나만 제거한다."
   ]
  },
  {
   "cell_type": "code",
   "execution_count": 21,
   "metadata": {},
   "outputs": [
    {
     "name": "stdout",
     "output_type": "stream",
     "text": [
      "[2, 3, 3, 4, 5]\n"
     ]
    }
   ],
   "source": [
    "a.sort() # 리스트는 클래스 형태이기 때문에 내부 메소드 가질 수 있다.\n",
    "print(a) # 그래서 가지고 있는 값을 바로 정렬한다."
   ]
  },
  {
   "cell_type": "code",
   "execution_count": 23,
   "metadata": {},
   "outputs": [
    {
     "name": "stdout",
     "output_type": "stream",
     "text": [
      "[1, 2, 3, 5, 6]\n"
     ]
    }
   ],
   "source": [
    "b = [1, 6, 3, 2, 5]\n",
    "result = sorted(b) # result 자체에는 정렬된 결과가 담겨있다.\n",
    "print(result) # 그치만 b는 바뀌지 않는다. b를 정렬한 결과를 따로 다른 객체에 담겠다 할떄 !!"
   ]
  },
  {
   "cell_type": "markdown",
   "metadata": {},
   "source": [
    "즉, sort()는 메서드 sorted()는 내장 함수 !!!"
   ]
  },
  {
   "cell_type": "code",
   "execution_count": 24,
   "metadata": {},
   "outputs": [
    {
     "name": "stdout",
     "output_type": "stream",
     "text": [
      "[1, 2, 4]\n"
     ]
    }
   ],
   "source": [
    "# remove all 이 없기때문에 이런식으로 짜준다.\n",
    "# remove_list에 포함되지 않은 값만을 저장\n",
    "a = [1, 2, 3, 4, 5, 5, 5 ,3]\n",
    "remove_set = [3, 5]\n",
    "\n",
    "result = [i for i in a if i not in remove_set]\n",
    "print(result)"
   ]
  },
  {
   "cell_type": "markdown",
   "metadata": {},
   "source": [
    "### 문자열 자료형\n",
    "- 문자열 변수를 초기화할 때는 큰따옴표(\")나 작은 따옴표(')를 이용한다.\n",
    "- 문자열 안에 큰따옴표나 작은따옴표가 포함되어야 하는 경우가 있다.\n",
    "    - 전체 문자열을 큰따옴표로 구성하는 경우, 내부적으로 작은따옴표를 포함할 수 있다.\n",
    "    - 전체 문자열을 작은따옴표로 구성하는 경우, 내부적으로 큰따옴표를 포함할 수 있다.\n",
    "    - 또는 백슬래시(\\)를 이용하면, 큰따옴표나 작은따옴표를 원하는 만큼 포함시킬 수 있다."
   ]
  },
  {
   "cell_type": "code",
   "execution_count": 25,
   "metadata": {},
   "outputs": [
    {
     "name": "stdout",
     "output_type": "stream",
     "text": [
      "Don't you know \"Python\"? \n"
     ]
    }
   ],
   "source": [
    "data = \"Don't you know \\\"Python\\\"? \"\n",
    "print(data)"
   ]
  },
  {
   "cell_type": "markdown",
   "metadata": {},
   "source": [
    "### 문자열연산\n",
    "-  문자열 변수에 덧셈(+)을 이용하면 문자열이 더해져서 연결이 된다.\n",
    "- 문자열 변수를 특정한 양의 정수와 곱하는 경우, 문자열이 그 값만큼 여러번 더해진다.\n",
    "- 파이썬은 문자열은 내부적으로 튜플과 유사하게 처리된다.\n",
    "    - 인덱싱과 슬라이싱 이용할 수 있음"
   ]
  },
  {
   "cell_type": "code",
   "execution_count": 27,
   "metadata": {},
   "outputs": [
    {
     "name": "stdout",
     "output_type": "stream",
     "text": [
      "BD\n"
     ]
    }
   ],
   "source": [
    "a=\"ANBDDHJSL\"\n",
    "print(a[2:4])"
   ]
  },
  {
   "cell_type": "markdown",
   "metadata": {},
   "source": [
    "### 튜플 자료형\n",
    "- 리스트와 유사하지만 문법적 차이가 있다.\n",
    "    - 한 번 선언된 값을 변경할 수 없다.\n",
    "    - 리스트는 []대괄호를 이용하지만, 튜플은 소괄호()를 이용한다.\n",
    "- 튜플은 리스트에 비해 상대적으로 공간 효율적이다."
   ]
  },
  {
   "cell_type": "code",
   "execution_count": 28,
   "metadata": {},
   "outputs": [
    {
     "name": "stdout",
     "output_type": "stream",
     "text": [
      "(1, 2, 3, 4)\n"
     ]
    },
    {
     "ename": "TypeError",
     "evalue": "'tuple' object does not support item assignment",
     "output_type": "error",
     "traceback": [
      "\u001b[0;31m---------------------------------------------------------------------------\u001b[0m",
      "\u001b[0;31mTypeError\u001b[0m                                 Traceback (most recent call last)",
      "\u001b[0;32m<ipython-input-28-809de69708f8>\u001b[0m in \u001b[0;36m<module>\u001b[0;34m\u001b[0m\n\u001b[1;32m      2\u001b[0m \u001b[0mprint\u001b[0m\u001b[0;34m(\u001b[0m\u001b[0ma\u001b[0m\u001b[0;34m)\u001b[0m\u001b[0;34m\u001b[0m\u001b[0;34m\u001b[0m\u001b[0m\n\u001b[1;32m      3\u001b[0m \u001b[0;34m\u001b[0m\u001b[0m\n\u001b[0;32m----> 4\u001b[0;31m \u001b[0ma\u001b[0m\u001b[0;34m[\u001b[0m\u001b[0;36m2\u001b[0m\u001b[0;34m]\u001b[0m \u001b[0;34m=\u001b[0m\u001b[0;36m7\u001b[0m\u001b[0;34m\u001b[0m\u001b[0;34m\u001b[0m\u001b[0m\n\u001b[0m",
      "\u001b[0;31mTypeError\u001b[0m: 'tuple' object does not support item assignment"
     ]
    }
   ],
   "source": [
    "a = (1, 2, 3, 4)\n",
    "print(a)\n",
    "\n",
    "a[2] =7"
   ]
  },
  {
   "cell_type": "markdown",
   "metadata": {},
   "source": [
    "### 사전 자료형\n",
    "- 사전 자료형은 키(key)와 값(value)의 쌍을 데이터로 가지는 자료형\n",
    "    - 앞서 다루었던 리스트나 튜플이 값을 순차적으로 저장하는 것과는 대비됨\n",
    "- 사전 자료형은 키와 값의 쌍을 데이터로 가지며, 원하는 '변경 불가능한 자료형'을 키로 사용할 수 있다.\n",
    "- 파이썬의 사전 자료형은 해시 테이블을 이용하므로 데이터의 검색 및 수정에 있어서 O(1)의 시간에 처리할 수 있다."
   ]
  },
  {
   "cell_type": "code",
   "execution_count": 29,
   "metadata": {},
   "outputs": [
    {
     "name": "stdout",
     "output_type": "stream",
     "text": [
      "{'사과': 'Apple', '바나나': 'Banana'}\n"
     ]
    }
   ],
   "source": [
    "data = dict() # 초기화해주기\n",
    "data['사과'] = 'Apple' # 특정 키값으로 어떤 값을 넣겠다 하면 이런식으로 할당\n",
    "data['바나나'] = 'Banana'\n",
    "\n",
    "print(data)"
   ]
  },
  {
   "cell_type": "markdown",
   "metadata": {},
   "source": [
    "### 사전자료형 관련 메서드\n",
    "- 사전자료형에서는 키와 값을 별도로 뽑아내기 위한 메서드를 지원함\n",
    "    - 키 데이터만 뽑아서 리스트로 이용할때는 keys() 함수를 이용\n",
    "    - 값 데이터만을 뽑아서 리스트로 이용할 때는 values() 함수를 이용"
   ]
  },
  {
   "cell_type": "code",
   "execution_count": 31,
   "metadata": {},
   "outputs": [
    {
     "name": "stdout",
     "output_type": "stream",
     "text": [
      "dict_keys(['사과', '바나나'])\n"
     ]
    }
   ],
   "source": [
    "print(data.keys())"
   ]
  },
  {
   "cell_type": "code",
   "execution_count": 34,
   "metadata": {},
   "outputs": [
    {
     "name": "stdout",
     "output_type": "stream",
     "text": [
      "Apple\n",
      "Banana\n"
     ]
    }
   ],
   "source": [
    "# 키 데이터만 담은 리스트\n",
    "key_list = data.keys()\n",
    "\n",
    "# 각 키에 따른 값을 하나씩 출력 (값은 해봤는데 안됨)\n",
    "for key in key_list :\n",
    "    print(data[key])"
   ]
  },
  {
   "cell_type": "markdown",
   "metadata": {},
   "source": [
    "### 집합 자료형\n",
    "- 중복 허용하지않음. 순서가 없음\n",
    "- 리스트나 튜플은 순서가 있기 때문에 인덱싱을 통해 자료형의 값을 얻을 수 있음\n",
    "- 사전 자료형과 집합 자료형은 순서가 없기 때문에 인덱싱으로 값을 얻을 수 없다.\n",
    "- 집합은 리스트 혹은 문자열을 이용해서 초기화 할 수 있다.\n",
    "    - set()함수를 이용\n",
    "    - 혹은 중괄호{} 안에 각 원소를 콤마 기준으로 구분하여 삽입함으로써 초기화 할 수 있다."
   ]
  },
  {
   "cell_type": "code",
   "execution_count": 35,
   "metadata": {},
   "outputs": [
    {
     "name": "stdout",
     "output_type": "stream",
     "text": [
      "{1, 2, 3, 4, 5}\n",
      "{1, 2, 3, 4, 5}\n"
     ]
    }
   ],
   "source": [
    "# 초기화 방법 1\n",
    "data = set([1, 1, 2, 3, 4, 4, 5])\n",
    "print(data)\n",
    "\n",
    "# 초기화 방법 2\n",
    "data = {1, 1, 2, 3, 4, 4, 5}\n",
    "print(data)"
   ]
  },
  {
   "cell_type": "markdown",
   "metadata": {},
   "source": [
    "!! 어떤 값이 나왔는지 안나왔는지 체크할때 아주 좋다. 어떤 값의 범위를 가지는 변수들이 출력된다고 했을때, 한번도 안나온 변수를 체크할때"
   ]
  },
  {
   "cell_type": "code",
   "execution_count": 36,
   "metadata": {},
   "outputs": [
    {
     "name": "stdout",
     "output_type": "stream",
     "text": [
      "True\n"
     ]
    }
   ],
   "source": [
    "a = {1, 2, 3}\n",
    "a.add(4)\n",
    "\n",
    "print(4 in a) # 4가 a에 있는가? #상수시간 이기 떄문에 아주 빠르게 확인가능"
   ]
  },
  {
   "cell_type": "markdown",
   "metadata": {},
   "source": [
    "### 집합 자료형의 연산\n",
    "- 합집합 : A U B (|)\n",
    "- 교집합 : A n B (&)\n",
    "- 차집합 : A - B (-)"
   ]
  },
  {
   "cell_type": "code",
   "execution_count": 38,
   "metadata": {},
   "outputs": [
    {
     "name": "stdout",
     "output_type": "stream",
     "text": [
      "{1, 2, 3, 4, 5, 6, 7}\n",
      "{3, 4, 5}\n",
      "{1, 2}\n"
     ]
    }
   ],
   "source": [
    "a = set([1,2,3,4,5])\n",
    "b = set([3,4,5,6,7])\n",
    "\n",
    "print(a|b)\n",
    "print(a&b)\n",
    "print(a-b)"
   ]
  },
  {
   "cell_type": "markdown",
   "metadata": {},
   "source": [
    "!!!!!!!! 리스트나 튜플은 데이터의 개수만큼 복잡도가 필요하다."
   ]
  },
  {
   "cell_type": "code",
   "execution_count": 37,
   "metadata": {},
   "outputs": [
    {
     "name": "stdout",
     "output_type": "stream",
     "text": [
      "True\n",
      "True\n"
     ]
    }
   ],
   "source": [
    "# 리스트는 데이터의 개수만큼 검사를 한다.\n",
    "# 데이터 개수가 n개면 복잡도는 O^n(튜플도 마찬가지)\n",
    "a = [1, 2, 3, 4, 5, 6]\n",
    "\n",
    "print(3 in a) \n",
    "\n",
    "# 사전이나 집합은 어떤 값의 여부를 출력하고자 할때 \n",
    "# 복잡도는 상수 시간이다. \n",
    "# 따라서 이런 경우에는 훨씬 빠르다 !!!!! \n",
    "a = {1, 2, 3, 4, 5, 6}\n",
    "\n",
    "print(3 in a)"
   ]
  },
  {
   "cell_type": "markdown",
   "metadata": {},
   "source": [
    "### 집합 자료형 관련 함수\n",
    "- .add() : 새로운 원소 추가\n",
    "- .update([ ]) : 새로운 원소 여러개 추가\n",
    "- .remove() : 특정한 값을 갖는 원소 삭제"
   ]
  },
  {
   "cell_type": "markdown",
   "metadata": {},
   "source": [
    "### 기본 입출력\n",
    "- 모든 프로그램은 적절한 입출력 양식을 가지고 있다.\n",
    "- 프로그램 동작의 첫번째 단계는 데이터를 입력 받거나 생성하는 것."
   ]
  },
  {
   "cell_type": "markdown",
   "metadata": {},
   "source": [
    "### 자주 사용되는 표준 입력 방법\n",
    "- input() : 한 줄의 '문자열'을 입력 받는 함수\n",
    "- map() : 리스트의 모든 원소에 각각 특정한 함수를 적용할 때 사용\n",
    "- 예) 공백을 기준으로 구분된 데이터를 입력 받을 때\n",
    "    - list(map(int, input().split()))\n",
    "- 예) 공백을 기준으로 구분된 데이터의 개수가 많지 않다면\n",
    "    - a, b, c = map(int, input().split())"
   ]
  },
  {
   "cell_type": "code",
   "execution_count": 39,
   "metadata": {},
   "outputs": [
    {
     "name": "stdout",
     "output_type": "stream",
     "text": [
      "1 2 3 4 5\n",
      "[1, 2, 3, 4, 5]\n"
     ]
    }
   ],
   "source": [
    "# 입력 : 1 2 3 4 5\n",
    "# input().split(): ['1', '2', '3', '4', '5']\n",
    "\n",
    "# map은 리스트가 있을때 각 원소에 어떠한 함수를 적용시킬때 사용\n",
    "# map(int, input().split()) : map(1, 2, 3, 4, 5) -> 정수로 바뀐거니까\n",
    "\n",
    "# input 받았을때 전부 정수 형태로 하나의 list에 담기겠다.\n",
    "a = list(map(int, input().split()))\n",
    "\n",
    "print(a)"
   ]
  },
  {
   "cell_type": "code",
   "execution_count": 40,
   "metadata": {},
   "outputs": [
    {
     "name": "stdout",
     "output_type": "stream",
     "text": [
      "3\n",
      "4\n",
      "0 0 0 0\n",
      "0 0 0 0\n",
      "0 0 0 0\n",
      "[[0, 0, 0, 0], [0, 0, 0, 0], [0, 0, 0, 0]]\n"
     ]
    }
   ],
   "source": [
    "# 2차원\n",
    "'''\n",
    "3\n",
    "4\n",
    "0 0 0 0\n",
    "0 0 0 0\n",
    "0 0 0 0\n",
    "'''\n",
    "n = int(input())\n",
    "m = int(input())\n",
    "\n",
    "arr = []\n",
    "for i in range(n) : # n만큼 반복\n",
    "    # 입력된 수들을 정수로 변환하여 arr 리스트를 추가\n",
    "    arr.append(list(map(int, input().split())))\n",
    "    \n",
    "print(arr)"
   ]
  },
  {
   "cell_type": "markdown",
   "metadata": {},
   "source": [
    "### 빠르게 입력 받기\n",
    "- 사용자로부터 입력을 최대한 빠르게 받아야 하는 경우\n",
    "- 파이썬의 경우 sys 라이브러리에 정의되어있는 sys.stdin.realine() 메서드를 이용\n",
    "    - 단, 입력후 엔터가 줄바꿈 기호로 입력되므로 rstrip() 메서드를 함께 사용한다."
   ]
  },
  {
   "cell_type": "code",
   "execution_count": 43,
   "metadata": {},
   "outputs": [
    {
     "name": "stdout",
     "output_type": "stream",
     "text": [
      "\n"
     ]
    }
   ],
   "source": [
    "import sys\n",
    "\n",
    "data = sys.stdin.readline().rstrip()\n",
    "print(data)\n",
    "\n",
    "# 어떤거 입력개수 천만개 되기때문에 \n",
    "# 그래프나 정렬쪽에서 많은 수가 들어올때 사용한다."
   ]
  },
  {
   "cell_type": "markdown",
   "metadata": {},
   "source": [
    "### 자주 사용되는 표준 출력 방법\n",
    "- 파이썬에서 기본 출력은 print() 함수를 이용한다.\n",
    "    - 각 변수를 콤마(,)를 이용하여 띄어쓰기로 구분하여 출력할 수 있다.\n",
    "- print()는 기본적으로 출력하고 줄바꿈이 된다.\n",
    "    - 줄 바꿈을 원치 않는 경우 'end'속성을 이용할 수 있다.\n",
    "- string 형식끼리만 + 사용가능 "
   ]
  },
  {
   "cell_type": "code",
   "execution_count": 46,
   "metadata": {},
   "outputs": [
    {
     "name": "stdout",
     "output_type": "stream",
     "text": [
      "정답은 7입니다.\n"
     ]
    }
   ],
   "source": [
    "answer = 7\n",
    "print(\"정답은 \"+str(answer)+\"입니다.\")"
   ]
  },
  {
   "cell_type": "markdown",
   "metadata": {},
   "source": [
    "### 조건문\n",
    ": 프로그램의 흐름을 제어하는 문법\n",
    "- 조건문을 이용해 조건에 따라서 프로그램의 로직을 설정할 수 있다.\n",
    "- 조건문의 기본적인 형태는 if~elif~else\n",
    "    - elif 혹은 else부분은 경우에 따라 사용하지 않아두 된다."
   ]
  },
  {
   "cell_type": "code",
   "execution_count": 52,
   "metadata": {},
   "outputs": [
    {
     "name": "stdout",
     "output_type": "stream",
     "text": [
      "B\n",
      "끝\n"
     ]
    }
   ],
   "source": [
    "score = 87\n",
    "if score >= 90:\n",
    "    print(\"A\")\n",
    "elif score >= 80:\n",
    "    print(\"B\")\n",
    "else :\n",
    "    print(\"F\")\n",
    "    \n",
    "print(\"끝\")"
   ]
  },
  {
   "cell_type": "markdown",
   "metadata": {},
   "source": [
    "#### 들여쓰기\n",
    "- 파이썬의 코드의 블록을 들여쓰기로 지정한다.\n",
    "- 위의 \"끝\" 부분은 무조건 실행됨\n",
    "- 탭을 사용하는 쪽과 공백문자를 여러번 사용하는 쪽으로 두 진영이 있는데, 상당수 파이썬 커뮤니티에서는 4개의 공백 문자를 사용하는 것이 사실상의 표준이다."
   ]
  },
  {
   "cell_type": "markdown",
   "metadata": {},
   "source": [
    "### 비교 연산자 \n",
    ": 특정한 두 값을 비교할 때 이용\n",
    "- X == Y : 서로 같을 때 참이다.\n",
    "- X != Y : 서로 다를 때 참이다.\n",
    "- X > Y : X가 Y보다 클 때 참이다.\n",
    "- X < Y : X가 Y보다 작을 때 참이다.\n",
    "- X >= Y : X가 Y보다 크거나 같을때 참이다.\n",
    "- X <= Y : X가 Y보다 작거나 같을때 참이다."
   ]
  },
  {
   "cell_type": "markdown",
   "metadata": {},
   "source": [
    "= : 할당 연산자\n",
    "- a = 5 --> a에 5를 할당하는 것."
   ]
  },
  {
   "cell_type": "code",
   "execution_count": 53,
   "metadata": {},
   "outputs": [
    {
     "name": "stdout",
     "output_type": "stream",
     "text": [
      "True\n"
     ]
    }
   ],
   "source": [
    "a = 5\n",
    "print(a==5)"
   ]
  },
  {
   "cell_type": "markdown",
   "metadata": {},
   "source": [
    "### 논리연산자\n",
    ": 논리 값 사이의 연산을 수행할때 사용\n",
    "- X and Y : 두개 모두 참일때 참이다.\n",
    "- X or Y : 둘 중 하나만 참이어도 참이다.\n",
    "- not X : X가 거짓일때 참이다."
   ]
  },
  {
   "cell_type": "markdown",
   "metadata": {},
   "source": [
    "* 파이썬은 if 0 <= a <= 10 :  # 이렇게 쓸 수 있다.\n",
    "- 이분은 if 0<= a and a<= 10 : 이렇게 쓰는걸 권장\n",
    "    - 다른 언어랑 헷갈리는거 방지하기 위해서"
   ]
  },
  {
   "cell_type": "markdown",
   "metadata": {},
   "source": [
    "### 파이썬의 기타 연산자\n",
    "- 여러개의 데이터를 담는 자료형을 위해 in 연산자와 not in 연산자가 제공\n",
    "    - 리스트, 튜플, 문자열, 딕셔너리 모두에서 사용 가능\n",
    "    \n",
    "- x in 리스트 : 리스트 안에 x가 들어가 있을 때 참\n",
    "- x not in 문자열 : 문자열 안에 x가 들어가 있지 않을 때 참"
   ]
  },
  {
   "cell_type": "markdown",
   "metadata": {},
   "source": [
    "### 파이썬의 pass 키워드\n",
    "- 조건문의 값이 참이라고 해도, 아무것도 처리하고 싶지 않을 때 pass 키워드 사용\n",
    "- 예) 디버깅 과정에서 일단 조건문의 형태만 만들어 놓고 조건문을 처리하는 부분을 비워놓고 싶을때"
   ]
  },
  {
   "cell_type": "code",
   "execution_count": 54,
   "metadata": {},
   "outputs": [],
   "source": [
    "a = 10\n",
    "\n",
    "if a>5 :\n",
    "    pass # 나중에 작성할 코드\n",
    "else:\n",
    "    print(\"else\")"
   ]
  },
  {
   "cell_type": "markdown",
   "metadata": {},
   "source": [
    "### 조건문의 간소화\n",
    "- 조건문에서 실행될 소스코드가 한 줄인 경우, 굳이 줄 바꿈을 하지 않고도 간략하게 표현할 수 있다. "
   ]
  },
  {
   "cell_type": "code",
   "execution_count": 55,
   "metadata": {},
   "outputs": [],
   "source": [
    "score = 85\n",
    "\n",
    "if score >= 80: result = \"Success\"\n",
    "else: result = \"Fail\""
   ]
  },
  {
   "cell_type": "markdown",
   "metadata": {},
   "source": [
    "- 조건부 표현식은 if~else 문을 한 줄에 작성할 수 있도록 해준다."
   ]
  },
  {
   "cell_type": "code",
   "execution_count": 56,
   "metadata": {},
   "outputs": [
    {
     "name": "stdout",
     "output_type": "stream",
     "text": [
      "Success\n"
     ]
    }
   ],
   "source": [
    "score = 85\n",
    "result = \"Success\" if score >= 80 else \"Fail\"\n",
    "\n",
    "print(result)"
   ]
  },
  {
   "cell_type": "markdown",
   "metadata": {},
   "source": [
    "### 반복문\n",
    "- 특정한 소스코드를 반복적으로 실행하고자 할 떄 사용하는 문법\n",
    "- while 문과 for문중 어던 것을 사용해도 상관 없다.\n",
    "    - 코딩테스트에서는 for문이 더 간결한 경우가 많다.\n",
    "- 무한 루프 : 계속해서 반복되는 반복 구문\n",
    "    - 코딩테스트에서는 무한 루프를 구현할 일은 거의 없으니 유의 !!"
   ]
  },
  {
   "cell_type": "markdown",
   "metadata": {},
   "source": [
    "### for문\n",
    "- for문의 구조는 다음과 같은데, 특정한 변수를 이용하여 in 뒤에 오는 자료형(리스트, 튜플 등)에 포함되어 있는 원소를 첫 번째 인덱스부터 차례대로 하나씩 방문합니다.\n",
    "- 어떤 변수가 많은 데이터를 포함하고 있는 객체에 하나씩 접근을 하고자 할때 사용\n",
    "- for 변수 in 리스트 :\n",
    "    - 실행할 소스코드 "
   ]
  },
  {
   "cell_type": "markdown",
   "metadata": {},
   "source": [
    "- for문에서 수를 차례대로 나열할 때는 range()를 주로 사용한다.\n",
    "    - 이때 range(시작 값, 끝 값, step)형태로 사용한다.\n",
    "    - 인자를 하나만 넣으면 자동으로 시작 값은 0이된다."
   ]
  },
  {
   "cell_type": "code",
   "execution_count": 57,
   "metadata": {},
   "outputs": [
    {
     "name": "stdout",
     "output_type": "stream",
     "text": [
      "1\n",
      "4\n",
      "7\n",
      "10\n",
      "13\n",
      "16\n",
      "19\n",
      "22\n",
      "25\n",
      "28\n"
     ]
    }
   ],
   "source": [
    "for i in range(1, 30, 3):\n",
    "    print(i)"
   ]
  },
  {
   "cell_type": "code",
   "execution_count": 58,
   "metadata": {},
   "outputs": [
    {
     "name": "stdout",
     "output_type": "stream",
     "text": [
      "1 번 학생은 합격입니다.\n",
      "5 번 학생은 합격입니다.\n"
     ]
    }
   ],
   "source": [
    "# 특정 번호의 학생은 제외하기\n",
    "scores = [90, 85, 77, 65, 97]\n",
    "cheating_student_list = {2, 4}\n",
    "\n",
    "for i in range(5):\n",
    "    if i+1 in cheating_student_list :\n",
    "        continue\n",
    "    if scores[i] >= 80 :\n",
    "        print(i + 1, \"번 학생은 합격입니다.\")"
   ]
  },
  {
   "cell_type": "code",
   "execution_count": 59,
   "metadata": {},
   "outputs": [
    {
     "name": "stdout",
     "output_type": "stream",
     "text": [
      "2 4 6 8 10 12 14 16 18 \n",
      "3 6 9 12 15 18 21 24 27 \n",
      "4 8 12 16 20 24 28 32 36 \n",
      "5 10 15 20 25 30 35 40 45 \n",
      "6 12 18 24 30 36 42 48 54 \n",
      "7 14 21 28 35 42 49 56 63 \n",
      "8 16 24 32 40 48 56 64 72 \n",
      "9 18 27 36 45 54 63 72 81 \n"
     ]
    }
   ],
   "source": [
    "# 구구단\n",
    "for i in range(2, 10) :\n",
    "    for j in range(1, 10) :\n",
    "        print(i*j, end=' ')\n",
    "    print()"
   ]
  },
  {
   "cell_type": "markdown",
   "metadata": {},
   "source": [
    "### 함수 \n",
    ": 특정한 작업을 하나의 단위로 묶어 놓은 것\n",
    "- 함수를 사용하면 불필요한 소스코드의 반복을 줄일 수 있다."
   ]
  },
  {
   "cell_type": "markdown",
   "metadata": {},
   "source": [
    "### 함수의 종류\n",
    "- 내장 함수 : 파이썬이 기본적으로 제공하는 함수\n",
    "- 사용자 정의 함수 : 개발자가 직접 정의하여 사용하는 함수"
   ]
  },
  {
   "cell_type": "markdown",
   "metadata": {},
   "source": [
    "### 함수\n",
    "- 프로그램에는 똑같은 코드가 반복적으로 사용되어야 할 때가 많은데, 함수를 사용하면 소스코드의 길이를 줄일 수 있다.\n",
    "    - 매개변수(파라미터) : 함수 내부에서 사용할 변수\n",
    "    - 반환 값 : 함수에서 처리된 결과를 반환"
   ]
  },
  {
   "cell_type": "code",
   "execution_count": null,
   "metadata": {},
   "outputs": [],
   "source": [
    "def 함수명(매개변수):\n",
    "    실행할 소스코드\n",
    "    return 반환 값"
   ]
  },
  {
   "cell_type": "code",
   "execution_count": 60,
   "metadata": {},
   "outputs": [
    {
     "name": "stdout",
     "output_type": "stream",
     "text": [
      "10\n"
     ]
    }
   ],
   "source": [
    "# 더하기 함수 예시\n",
    "def add(a, b) :\n",
    "    return a+b\n",
    "\n",
    "print(add(3, 7))"
   ]
  },
  {
   "cell_type": "code",
   "execution_count": 61,
   "metadata": {},
   "outputs": [
    {
     "name": "stdout",
     "output_type": "stream",
     "text": [
      "함수의 결과: 10\n"
     ]
    }
   ],
   "source": [
    "# 더하기 함수 예시 2 (return값 없어두됨)\n",
    "def add(a, b) :\n",
    "    print('함수의 결과:', a+b)\n",
    "    \n",
    "add(3, 7)"
   ]
  },
  {
   "cell_type": "markdown",
   "metadata": {},
   "source": [
    "### 파라미터 지정하기\n",
    "- 파라미터의 변수를 직접 지정할 수 있다.\n",
    "     - 이 경우 매개 변수의 순서가 달라도 상관없다."
   ]
  },
  {
   "cell_type": "code",
   "execution_count": 62,
   "metadata": {},
   "outputs": [
    {
     "name": "stdout",
     "output_type": "stream",
     "text": [
      "함수의 결과: 10\n"
     ]
    }
   ],
   "source": [
    "add(b=3, a=7)"
   ]
  },
  {
   "cell_type": "markdown",
   "metadata": {},
   "source": [
    "### global 키워드 \n",
    "- global 키워드로 변수를 지정하면 해당 함수에서는 지역 변수를 만들지 않고, \n",
    "함수 바깥에 선언된 변수를 바로 참조하게 된다."
   ]
  },
  {
   "cell_type": "code",
   "execution_count": 63,
   "metadata": {},
   "outputs": [
    {
     "name": "stdout",
     "output_type": "stream",
     "text": [
      "10\n"
     ]
    }
   ],
   "source": [
    "a = 0\n",
    "\n",
    "def func() :\n",
    "    global a\n",
    "    a += 1\n",
    "    \n",
    "for i in range(10) :\n",
    "    func()\n",
    "    \n",
    "print(a)"
   ]
  },
  {
   "cell_type": "markdown",
   "metadata": {},
   "source": [
    "### 여러 개의 반환 값\n",
    "- 파이썬에서는 함수는 여러개의 반환 값을 가질 수 있다."
   ]
  },
  {
   "cell_type": "code",
   "execution_count": 65,
   "metadata": {},
   "outputs": [
    {
     "name": "stdout",
     "output_type": "stream",
     "text": [
      "10 4 21 2.3333333333333335\n"
     ]
    }
   ],
   "source": [
    "def operator(a, b) :\n",
    "    add_var = a+b\n",
    "    subtract_var = a-b\n",
    "    multiply_var = a*b\n",
    "    divide_var = a/b\n",
    "    return add_var, subtract_var, multiply_var, divide_var\n",
    "\n",
    "a, b, c, d = operator(7, 3)\n",
    "print(a, b, c, d)"
   ]
  },
  {
   "cell_type": "code",
   "execution_count": 67,
   "metadata": {},
   "outputs": [
    {
     "name": "stdout",
     "output_type": "stream",
     "text": [
      "10 -4 21 0.42857142857142855\n"
     ]
    }
   ],
   "source": [
    "def operator(a, b) :\n",
    "    return a+b, a-b, a*b, a/b\n",
    "\n",
    "a, b, c, d = operator(3, 7)\n",
    "print(a, b, c, d)"
   ]
  },
  {
   "cell_type": "markdown",
   "metadata": {},
   "source": [
    "### 람다 표현식\n",
    "- 람다 표현식을 이용하면 함수를 매우 간단하게 작서 할 수 있다.\n",
    "    - 특정한 기능을 수행하는 함술을 한줄에 작성할 수있다는 점이 특징!!\n",
    "    - 여러번 쓰일 때 말고, 한번 쓰이고말때 주로 이용"
   ]
  },
  {
   "cell_type": "code",
   "execution_count": 70,
   "metadata": {},
   "outputs": [
    {
     "name": "stdout",
     "output_type": "stream",
     "text": [
      "10\n",
      "10\n"
     ]
    }
   ],
   "source": [
    "def add(a, b):\n",
    "    return a+b\n",
    "\n",
    "# 일반적인 add() 메서드 사용\n",
    "print(add(3, 7))\n",
    "\n",
    "# 람다 표현식으로 구현한 add() 메서드\n",
    "# a와 b를 받아서 a+b를 수행하는 함수\n",
    "print((lambda a, b: a+b)(3, 7)) "
   ]
  },
  {
   "cell_type": "code",
   "execution_count": 74,
   "metadata": {},
   "outputs": [
    {
     "name": "stdout",
     "output_type": "stream",
     "text": [
      "[('banana', 32), ('apple', 50), ('pineapple', 72)]\n",
      "[('banana', 32), ('apple', 50), ('pineapple', 72)]\n"
     ]
    }
   ],
   "source": [
    "# 람다 표현식 예시 : 내장함수에서 자주 사용되는 람다 함수\n",
    "array = [('apple', 50), ('banana', 32), ('pineapple', 72)]\n",
    "\n",
    "def my_key(x):\n",
    "    return x[1]\n",
    "\n",
    "print(sorted(array, key=my_key))\n",
    "\n",
    "print(sorted(array, key=lambda x : x[1]))\n",
    "# 숫자를 기준으로 정렬한다.(오름차순으로)"
   ]
  },
  {
   "cell_type": "code",
   "execution_count": 75,
   "metadata": {},
   "outputs": [
    {
     "name": "stdout",
     "output_type": "stream",
     "text": [
      "[7, 9, 11, 13, 15]\n"
     ]
    }
   ],
   "source": [
    "# 람다 표현식 예시 : 여러 개의 리스트에 적용\n",
    "list1 = [1, 2, 3, 4, 5]\n",
    "list2 = [6, 7, 8, 9, 10]\n",
    "result = map(lambda a, b: a+b, list1, list2)\n",
    "\n",
    "print(list(result))"
   ]
  },
  {
   "cell_type": "markdown",
   "metadata": {},
   "source": [
    "### 특히 유용한 표준 라이브러리\n",
    "- 내장함수 : print(), input()과 같은 기본 입출력 기능부터 sorted()와 같은 정렬 기능을 포함하고 있는 기본 내장 라이브러리. 필수 기능을 포함하고 있다.\n",
    "- itertools : 파이썬에서 반복되는 형태의 데이터를 처리하는 기능을 제공하는 라이브러리. (모든 경우의 수를 다 구하고자 하는경우의) 순열과 조합 라이브러리를 제공한다.\n",
    "- heepq : 힙(Heap) 기능을 제공하는 라이브러리. 우선순위 큐 기능을 구현하기 위해 사용한다. (그래프 알고리즘에서)\n",
    "- bisect : 이진탐색(binary search) 기능을 제공하는 라이브러리 (특정 리스트가 정렬되어있을때, 그 리스트에서 어떤 값들을 빠르게 찾고자 할때 사용)\n",
    "- collection : 덱(deque), 카운터(counter)등의 유용한 자료구조를 포함하고 있는 라이브러리 "
   ]
  },
  {
   "cell_type": "code",
   "execution_count": 76,
   "metadata": {},
   "outputs": [
    {
     "name": "stdout",
     "output_type": "stream",
     "text": [
      "15\n",
      "2 7\n",
      "56\n"
     ]
    }
   ],
   "source": [
    "# sum\n",
    "result = sum([1, 2, 3, 4, 5])\n",
    "print(result)\n",
    "\n",
    "# min(), max()\n",
    "min_result = min(7, 3, 5, 2)\n",
    "max_result = max(7, 3, 5, 2)\n",
    "print(min_result, max_result)\n",
    "\n",
    "# eval : 중위표기법으로 들어왔을때 결과 반환\n",
    "result = eval(\"(3+5)*7\")\n",
    "print(result)"
   ]
  },
  {
   "cell_type": "markdown",
   "metadata": {},
   "source": [
    "### 순열과 조합\n",
    "- 모든 경우의 수를 고려해야 할 떄 어떤 라이브러리를 효과적으로 사용할 수 있을까?\n"
   ]
  },
  {
   "cell_type": "markdown",
   "metadata": {},
   "source": [
    "### 순열 \n",
    ": 서로 다른 n개에서 서로 다른 r개를 선택하여 일렬로 나열하는 것\n",
    "   - {'a', 'b', 'c'}에서 세 개를 선택하여 나열하는 경우 : 'abc', 'acb', 'bac', 'cab', 'cba'\n",
    "   - 순열의 수 : nPr : n * (n-1) * (n-2) * . . . * (n-r+1)"
   ]
  },
  {
   "cell_type": "code",
   "execution_count": 77,
   "metadata": {},
   "outputs": [
    {
     "name": "stdout",
     "output_type": "stream",
     "text": [
      "[('a', 'b', 'c'), ('a', 'c', 'b'), ('b', 'a', 'c'), ('b', 'c', 'a'), ('c', 'a', 'b'), ('c', 'b', 'a')]\n"
     ]
    }
   ],
   "source": [
    "from itertools import permutations\n",
    "\n",
    "data=['a', 'b', 'c']\n",
    "\n",
    "result = list(permutations(data, 3)) # 모든 순열 구하기\n",
    "print(result)"
   ]
  },
  {
   "cell_type": "markdown",
   "metadata": {},
   "source": [
    "### 조합\n",
    ": 서로 다른 n개에서 순서에 상관 없이 서로 다른 r개를 선택하는 것\n",
    "   - {'a', 'b', 'c'}에서 순서를 고려하지 않고 두개를 뽑는 경우: 'ab', 'bc', 'ac'\n",
    "   - 조합의 수 : nCr : n * (n-1) * (n-2) * . . . * (n-r+1) /r!"
   ]
  },
  {
   "cell_type": "code",
   "execution_count": 79,
   "metadata": {},
   "outputs": [
    {
     "name": "stdout",
     "output_type": "stream",
     "text": [
      "[('a', 'b'), ('a', 'c'), ('b', 'c')]\n"
     ]
    }
   ],
   "source": [
    "from itertools import combinations\n",
    "\n",
    "data = ['a', 'b', 'c']\n",
    "\n",
    "result = list(combinations(data, 2)) # 2개를 뽑는 모든 조합 구하기\n",
    "print(result)"
   ]
  },
  {
   "cell_type": "markdown",
   "metadata": {},
   "source": [
    "#### 중복 순열"
   ]
  },
  {
   "cell_type": "code",
   "execution_count": 80,
   "metadata": {},
   "outputs": [
    {
     "name": "stdout",
     "output_type": "stream",
     "text": [
      "[('a', 'a'), ('a', 'b'), ('a', 'c'), ('b', 'a'), ('b', 'b'), ('b', 'c'), ('c', 'a'), ('c', 'b'), ('c', 'c')]\n"
     ]
    }
   ],
   "source": [
    "from itertools import product\n",
    "\n",
    "data = ['a', 'b', 'c']\n",
    "\n",
    "result = list(product(data, repeat=2)) # 2개를 뽑는 모든 순열 구하기(중복허용)\n",
    "print(result)"
   ]
  },
  {
   "cell_type": "markdown",
   "metadata": {},
   "source": [
    "#### 중복 조합"
   ]
  },
  {
   "cell_type": "code",
   "execution_count": 81,
   "metadata": {},
   "outputs": [
    {
     "name": "stdout",
     "output_type": "stream",
     "text": [
      "[('a', 'a'), ('a', 'b'), ('a', 'c'), ('b', 'b'), ('b', 'c'), ('c', 'c')]\n"
     ]
    }
   ],
   "source": [
    "from itertools import combinations_with_replacement\n",
    "\n",
    "data = ['a', 'b', 'c']\n",
    "\n",
    "result = list(combinations_with_replacement(data, 2)) # 2개를 뽑는 모든 조합 구하기(중복허용)\n",
    "print(result)"
   ]
  },
  {
   "cell_type": "code",
   "execution_count": null,
   "metadata": {},
   "outputs": [],
   "source": []
  }
 ],
 "metadata": {
  "kernelspec": {
   "display_name": "Python 3",
   "language": "python",
   "name": "python3"
  },
  "language_info": {
   "codemirror_mode": {
    "name": "ipython",
    "version": 3
   },
   "file_extension": ".py",
   "mimetype": "text/x-python",
   "name": "python",
   "nbconvert_exporter": "python",
   "pygments_lexer": "ipython3",
   "version": "3.8.5"
  }
 },
 "nbformat": 4,
 "nbformat_minor": 4
}
