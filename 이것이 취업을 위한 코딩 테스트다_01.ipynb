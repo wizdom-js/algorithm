{
 "cells": [
  {
   "cell_type": "markdown",
   "metadata": {},
   "source": [
    "# 이것이 취업을 위한 코딩 테스트다"
   ]
  },
  {
   "cell_type": "markdown",
   "metadata": {},
   "source": [
    "출처 : 유튜브 동빈나"
   ]
  },
  {
   "cell_type": "markdown",
   "metadata": {},
   "source": [
    "## 코딩테스트 개요 및 파이썬 문법"
   ]
  },
  {
   "cell_type": "markdown",
   "metadata": {},
   "source": [
    "#### 복잡도"
   ]
  },
  {
   "cell_type": "markdown",
   "metadata": {},
   "source": [
    ": 알고리즘의 성능을 나타내는 척도\n",
    "- 시간 복잡도 : 특정한 크기의 입력에 대하여 알고리즘의 수행 시간 분석\n",
    "- 공간 복잡도 : 특정한 크기의 입력에 대하여 알고리즘의 메모리 사용량 분석\n",
    "\n",
    "동일한 기능을 수행하는 알고리즘이 있다면, 일반적으로 복잡도가 낮을수록 좋은 알고리즘이다.\n"
   ]
  },
  {
   "cell_type": "markdown",
   "metadata": {},
   "source": [
    "#### 빅오표기법"
   ]
  },
  {
   "cell_type": "markdown",
   "metadata": {},
   "source": [
    ": 가장 빠르게 증가하는 항만을 고려하는 표기법이다.\n",
    "- 함수의 상한만을 나타내게 된다."
   ]
  },
  {
   "cell_type": "markdown",
   "metadata": {},
   "source": [
    "#### 알고리즘 설계 Tip"
   ]
  },
  {
   "cell_type": "markdown",
   "metadata": {},
   "source": [
    "- 코딩테스트 문제에서 시간제한은 통상 1~5초가량이라는 점에 유의하자 !\n",
    "- 혹여 문제에 명시되어 있지 않은 경우 대략 5초 정도라고 생각하고 문제를 푸는 것이 합리적이다.\n",
    "\n",
    "- 파이썬은 c보다 4-5배정도 느리다"
   ]
  },
  {
   "cell_type": "markdown",
   "metadata": {},
   "source": [
    "#### 요구사항에 따라 적절한 알고리즘 설계하기"
   ]
  },
  {
   "cell_type": "markdown",
   "metadata": {},
   "source": [
    "- 문제에서 가장 먼저 확인해야 하는 내용은 시간제한(수행시간 요구사항)이다.\n",
    "\n",
    "- 시간제한이 1초인 문제를 만났을때, 일반적인 기준은 다음과 같다.\n",
    "    - N의 범위가 500인 경우: 시간 복잡도가 O(N^3)인 알고리즘을 설계하면 된다.\n",
    "    - N의 범위가 2,000인 경우: 시간 복잡도가 O(N^2)인 알고리즘을 설계\n",
    "    - N의 범위가 100,000인 경우: 시간 복잡도가 O(NlogN)인 알고리즘을 설계\n",
    "    - N의 범위가 10,000,000인 경우: 시간 복잡도가 O(N)인 알고리즘을 설계"
   ]
  },
  {
   "cell_type": "markdown",
   "metadata": {},
   "source": [
    "#### 알고리즘 문제 해결 과정"
   ]
  },
  {
   "cell_type": "markdown",
   "metadata": {},
   "source": [
    "1. 지문읽기 및 컴퓨터적 사고\n",
    "2. 요구사항(복잡도) 분석\n",
    "3. 문제해결을 위한 아이디어 찾기\n",
    "4. 소스코드 설계 및 코딩\n",
    "- 일반적으로 대부분의 문제 출제자들은 핵심 아이디어를 캐치한다면, 간결하게 소스코드를 작성할 수 있는 형태로 문제를 출제한다.\n",
    "- 문제를 충분히 읽는 것이 중요하다 !!!!! 디테일하게 고민하기 ! 어떻게 인덱스를 설정하고 배열을 만들고까지 들어가기"
   ]
  },
  {
   "cell_type": "markdown",
   "metadata": {},
   "source": [
    "#### 자신만의 소스코드 관리하기"
   ]
  },
  {
   "cell_type": "markdown",
   "metadata": {},
   "source": [
    "- 자신만의 소스코드를 관리하는 습관을 들이면 좋다.\n",
    "- 자신이 자주 사용하는 알고리즘 코드를 라이브러리화 하면 좋다."
   ]
  },
  {
   "cell_type": "markdown",
   "metadata": {},
   "source": [
    "### 자료형"
   ]
  },
  {
   "cell_type": "markdown",
   "metadata": {},
   "source": [
    "- 모든 프로그래밍은 결국 데이터를 다루는 행위이다. 따라서 자료형에 대한 이해는 프로그래밍의 길에 있어서 첫걸음이다.\n",
    "- 정수형, 실수형, 복소수형, 문자열, 리스트, 튜플, 사전 등이 있다."
   ]
  },
  {
   "cell_type": "markdown",
   "metadata": {},
   "source": [
    "### 정수형\n",
    ": 정수를 다루는 자료형\n",
    "- 양의 정수, 음의 정수, 0\n",
    "- 코테에서 출제되는 많은 문제들은 정수형을 주로 다룬다"
   ]
  },
  {
   "cell_type": "code",
   "execution_count": 1,
   "metadata": {},
   "outputs": [
    {
     "name": "stdout",
     "output_type": "stream",
     "text": [
      "1000\n"
     ]
    }
   ],
   "source": [
    "a = 1000\n",
    "print(a)"
   ]
  },
  {
   "cell_type": "markdown",
   "metadata": {},
   "source": [
    "### 실수형\n",
    ": 소수점 아래의 데이터를 포함하는 수 자료 (.만 찍으면 실수!)\n",
    "- 소수부가 0이거나, 정수부가 0인 소수는 0을 생략하고 사용 가능."
   ]
  },
  {
   "cell_type": "code",
   "execution_count": 2,
   "metadata": {},
   "outputs": [
    {
     "name": "stdout",
     "output_type": "stream",
     "text": [
      "5.0 -0.7\n"
     ]
    }
   ],
   "source": [
    "a = 5.\n",
    "b = -.7\n",
    "print(a, b)"
   ]
  },
  {
   "cell_type": "markdown",
   "metadata": {},
   "source": [
    "### 지수 표현 방식 \n",
    ": e나 E 다음에 오는 수는 10의 지수부를 의미한다.\n",
    "- 예를 들어 1e9라고 입력하게 되면, 10의 9제곱이 된다.\n",
    "\n",
    "\n",
    "\n",
    "- 지수표현방식은 임이의 큰 수를 표현하기 위해 자주 사용된다.\n",
    "- 최단 경로 알고리즘에서는 도달할 수 없는 노드에 대하여 최단거리를 무한(INF)라고 설정한다.\n",
    "- 이때 가능한 최댓값이 10억 미만이라면 무한(INF) 값으로 1e9를 이용할 수 있다."
   ]
  },
  {
   "cell_type": "code",
   "execution_count": 4,
   "metadata": {},
   "outputs": [
    {
     "name": "stdout",
     "output_type": "stream",
     "text": [
      "1000000000\n"
     ]
    }
   ],
   "source": [
    "INF = int(1e9) \n",
    "    # int로 안하면 실수로 나오게 된다. \n",
    "    # 실수 연산을 통해서 발생하는 오류를 줄이기 위해 int로 바꿔주는 것이 좋음\n",
    "\n",
    "print(INF)"
   ]
  },
  {
   "cell_type": "markdown",
   "metadata": {},
   "source": [
    "#### 실수형 더 알아보기 \n",
    "- 가장 널리 쓰이는 IEEE754 표준에서는 실수형을 저장하기 위해 4바이트, 혹은 8바이트의 고정된 크기의 메모리를 할당하므로, 컴퓨터 시스템은 실수 정보를 표현하는 정확도에 한계를 가진다.\n",
    "- 예로 10진수 체계에는 0.3과 0.6을 더한 값이 0.9로 정확히 떨어진다.\n",
    "    - 하지만 2진수에서는 0.9를 정확히 표현할 수 있는 방법이 없음\n",
    "    - 컴퓨터는 최대한 0.9와 가깝게 표현하지만 미세한 오차가 있다."
   ]
  },
  {
   "cell_type": "code",
   "execution_count": 5,
   "metadata": {},
   "outputs": [
    {
     "name": "stdout",
     "output_type": "stream",
     "text": [
      "0.8999999999999999\n"
     ]
    }
   ],
   "source": [
    "# 그래서 보통 이를 고려하여 소수자 몇자까지만 나오게 해라 라고 출제됨\n",
    "a = 0.3+ 0.6\n",
    "print(a)"
   ]
  },
  {
   "cell_type": "markdown",
   "metadata": {},
   "source": [
    "- 그래서 round() 함수를 이용할 수 있으며, 이 방법이 권장된다.\n",
    "- 예) 235.678을 소수 셋째 자리에서 반올림 하려면 round(235.678, 2)라고 작성. 결과는 235.68이 된다."
   ]
  },
  {
   "cell_type": "code",
   "execution_count": 7,
   "metadata": {},
   "outputs": [
    {
     "name": "stdout",
     "output_type": "stream",
     "text": [
      "0.9\n"
     ]
    }
   ],
   "source": [
    "a = 0.3+ 0.6\n",
    "print(round(a, 2))"
   ]
  },
  {
   "cell_type": "markdown",
   "metadata": {},
   "source": [
    "### 수 자료형의 연산\n",
    "- 나누기 연산자(/) : 나눠진 결과를 실수형으로 반환\n",
    "- 나머지 연산자(%) : 홀수 짝수 체크할때 많이 이용\n",
    "- 몫 연산자(//) \n",
    "- 거듭제곱 연산자(**)"
   ]
  },
  {
   "cell_type": "code",
   "execution_count": 8,
   "metadata": {},
   "outputs": [
    {
     "name": "stdout",
     "output_type": "stream",
     "text": [
      "125\n",
      "2.23606797749979\n"
     ]
    }
   ],
   "source": [
    "a=5\n",
    "b=3\n",
    "\n",
    "# 거듭제곱 \n",
    "print(a **b)\n",
    "\n",
    "# 제곱근\n",
    "print(a ** 0.5)"
   ]
  },
  {
   "cell_type": "markdown",
   "metadata": {},
   "source": [
    "### 리스트 자료형\n",
    ": 여러개의 데이터를 연속적으로 담아 처리하기 위해 사용하는 자료형.\n",
    "    \n",
    "    - C나 자바의 배열(array)의 기능 뿐 아니라 연결 리스트의 기능을 지원.\n",
    "    - C++의 STL vector와 기능적으로 유사\n",
    "    - 리스트 대신에 배열 혹은 테이블이라고 부른다.\n",
    "- 리스트는 대괄호[] 안에 원소를 넣어 초기화하며, 쉼표로 원소를 구분한다.\n",
    "- 리스트의 원소에 접근할 때는 인덱스 값을 괄호에 넣는다.\n",
    "    - 인덱스는 0부터 시작 !!\n",
    "- 비어있는 리스트를 선언하고자 할 떄는 list()혹은 간단히 []를 이용할 수 있다.\n",
    "- 같은 자료형들이 들어가있는게 일반적이다. (다른게 들어가도 되긴한데 보통 그렇게! 튜플은 다른 자료형들어가도 갠춘)"
   ]
  },
  {
   "cell_type": "code",
   "execution_count": 9,
   "metadata": {},
   "outputs": [
    {
     "name": "stdout",
     "output_type": "stream",
     "text": [
      "[3, 5, 4, 3, 2]\n"
     ]
    }
   ],
   "source": [
    "a = [3, 5, 4, 3, 2]\n",
    "print(a)"
   ]
  },
  {
   "cell_type": "markdown",
   "metadata": {},
   "source": [
    "### 인덱싱과 슬라이싱\n",
    "- 인덱스 값을 입력하여 리스트의 특정한 원소에 접근하는 것.\n",
    "    - 음의 정수를 넣으면 원소를 거꾸로 탐색하게 된다."
   ]
  },
  {
   "cell_type": "code",
   "execution_count": 11,
   "metadata": {},
   "outputs": [
    {
     "data": {
      "text/plain": [
       "2"
      ]
     },
     "execution_count": 11,
     "metadata": {},
     "output_type": "execute_result"
    }
   ],
   "source": [
    "a[4]"
   ]
  },
  {
   "cell_type": "code",
   "execution_count": 13,
   "metadata": {},
   "outputs": [
    {
     "data": {
      "text/plain": [
       "2"
      ]
     },
     "execution_count": 13,
     "metadata": {},
     "output_type": "execute_result"
    }
   ],
   "source": [
    "a[-1] # 뒤쪽에서 출발할때는 -1부터 출발 !"
   ]
  },
  {
   "cell_type": "markdown",
   "metadata": {},
   "source": [
    "- 리스트에서 연속적인 위치를 갖는 원소들을 가져와야 할 때는 슬라이싱을 이용한다.\n",
    "    - 대괄호 안에 콜론(:)을 넣어서 시작 인덱스와 끝 인덱스를 설정할 수 있다.\n",
    "    - 끝 인덱스는 실제 인덱스보다 1을 더 크게 설정한다."
   ]
  },
  {
   "cell_type": "code",
   "execution_count": 14,
   "metadata": {},
   "outputs": [
    {
     "name": "stdout",
     "output_type": "stream",
     "text": [
      "[5, 4, 3, 2]\n"
     ]
    }
   ],
   "source": [
    "print(a[1:5])"
   ]
  },
  {
   "cell_type": "markdown",
   "metadata": {},
   "source": [
    "#### 리스트 컴프리헨션\n",
    ": 리스트를 초기화하는 방법 중 하나이다.\n",
    "   - 대괄호 안에 조건문과 반복문을 적용하여 리스트를 초기화 할 수 있다."
   ]
  },
  {
   "cell_type": "code",
   "execution_count": 15,
   "metadata": {},
   "outputs": [
    {
     "name": "stdout",
     "output_type": "stream",
     "text": [
      "[0, 1, 2, 3, 4, 5, 6, 7, 8, 9]\n"
     ]
    }
   ],
   "source": [
    "array = [i for i in range(10)]\n",
    "\n",
    "print(array)"
   ]
  },
  {
   "cell_type": "code",
   "execution_count": 16,
   "metadata": {},
   "outputs": [
    {
     "name": "stdout",
     "output_type": "stream",
     "text": [
      "[1, 3, 5, 7, 9, 11, 13, 15, 17, 19]\n",
      "[1, 4, 9, 16, 25, 36, 49, 64, 81]\n"
     ]
    }
   ],
   "source": [
    "# 0 부터 19까지의 수 중에서 홀수만 포함하는 리스트\n",
    "array = [i for i in range(20) if i%2==1]\n",
    "print(array)\n",
    "\n",
    "# 위에꺼랑 같은거임.\n",
    "a = []\n",
    "for i in range(1, 10) :\n",
    "    if i % 2 == 1:\n",
    "        a.append(i)\n",
    "print(a)\n",
    "\n",
    "\n",
    "# 1부터 9까지의 수들의 제곱 값을 포함하는 리스트\n",
    "array = [i * i for i in range(1, 10)]\n",
    "print(array)"
   ]
  },
  {
   "cell_type": "markdown",
   "metadata": {},
   "source": [
    "- 리스트 컴프리헨션은 2차원 리스트를 초기화할 때 효과적으로 사용될 수 있다.\n",
    "- 특히 N X M 크기의 2차원 리스ㅡ를 한번에 초기화 해야 할 때 매우 유용하다.\n",
    "    - 예) array = [[0]*m for _ in range(n)]\n",
    "    \n",
    "\n",
    "- 만약 2차원 리스트를 초기화 할때 다음과 같이 작성하면 예기치 않은 결과 나온다.\n",
    "    - 잘못된 예) array = [[0]* m] *n\n",
    "    - 리스트 안에 포함된 리스트가 모두 같은 객체로 인식된다. \n",
    "    - 그 주소 자체를 n번 반복하게 되는거임"
   ]
  },
  {
   "cell_type": "code",
   "execution_count": 20,
   "metadata": {
    "scrolled": true
   },
   "outputs": [
    {
     "name": "stdout",
     "output_type": "stream",
     "text": [
      "[[0, 0, 0], [0, 0, 0], [0, 0, 0], [0, 0, 0]]\n"
     ]
    }
   ],
   "source": [
    "array = [[0]*3 for _ in range(4)] \n",
    "print(array) "
   ]
  },
  {
   "cell_type": "code",
   "execution_count": 19,
   "metadata": {},
   "outputs": [
    {
     "name": "stdout",
     "output_type": "stream",
     "text": [
      "[[0, 0, 0], [0, 0, 0], [0, 0, 0], [0, 0, 0]]\n",
      "[[0, 5, 0], [0, 5, 0], [0, 5, 0], [0, 5, 0]]\n"
     ]
    }
   ],
   "source": [
    "# 잘못된 예\n",
    "array = [[0]*3] * 4\n",
    "print(array)\n",
    "\n",
    "array[1][1] = 5\n",
    "print(array)"
   ]
  },
  {
   "cell_type": "markdown",
   "metadata": {},
   "source": [
    "* 언더바(_)는 변수를 쓰지 않을때 사용. 그냥 간단하게 출력만 할거야 할때 ! \n",
    "내부적으로 어떤 변수를 사용하지 않겠다 라는 의미"
   ]
  },
  {
   "cell_type": "markdown",
   "metadata": {},
   "source": [
    "#### 리스트 관련 기타 메서드 (변수.메서드())\n",
    "- append() : 리스트에 원소를 하나 삽입할때 사용한다.\n",
    "- sort() : 기본 정렬 기능으로 오름차순으로 정렬한다. (안에 reverse=True 넣어주면 내림차순)\n",
    "- reverse() : 리스트의 원소의 순서를 모두 뒤집어 놓는다.\n",
    "- insert(삽입할 위치 인덱스, 삽입할 값) : 특정한 인덱스 위치에 원소를 삽입할 때 사용한다.\n",
    "- count(특정값) : 리스트에서 특정 값을 가지는 데이터의 개수를 셀 때 사용한다.\n",
    "- remove(특정 값): 특정값을 갖는 원소를 제거하는데, 값을 가진 원소가 여러개면 하나만 제거한다."
   ]
  },
  {
   "cell_type": "code",
   "execution_count": 21,
   "metadata": {},
   "outputs": [
    {
     "name": "stdout",
     "output_type": "stream",
     "text": [
      "[2, 3, 3, 4, 5]\n"
     ]
    }
   ],
   "source": [
    "a.sort() # 리스트는 클래스 형태이기 때문에 내부 메소드 가질 수 있다.\n",
    "print(a) # 그래서 가지고 있는 값을 바로 정렬한다."
   ]
  },
  {
   "cell_type": "code",
   "execution_count": 23,
   "metadata": {},
   "outputs": [
    {
     "name": "stdout",
     "output_type": "stream",
     "text": [
      "[1, 2, 3, 5, 6]\n"
     ]
    }
   ],
   "source": [
    "b = [1, 6, 3, 2, 5]\n",
    "result = sorted(b) # result 자체에는 정렬된 결과가 담겨있다.\n",
    "print(result) # 그치만 b는 바뀌지 않는다. b를 정렬한 결과를 따로 다른 객체에 담겠다 할떄 !!"
   ]
  },
  {
   "cell_type": "markdown",
   "metadata": {},
   "source": [
    "즉, sort()는 메서드 sorted()는 내장 함수 !!!"
   ]
  },
  {
   "cell_type": "code",
   "execution_count": 24,
   "metadata": {},
   "outputs": [
    {
     "name": "stdout",
     "output_type": "stream",
     "text": [
      "[1, 2, 4]\n"
     ]
    }
   ],
   "source": [
    "# remove all 이 없기때문에 이런식으로 짜준다.\n",
    "# remove_list에 포함되지 않은 값만을 저장\n",
    "a = [1, 2, 3, 4, 5, 5, 5 ,3]\n",
    "remove_set = [3, 5]\n",
    "\n",
    "result = [i for i in a if i not in remove_set]\n",
    "print(result)"
   ]
  },
  {
   "cell_type": "markdown",
   "metadata": {},
   "source": [
    "### 문자열 자료형\n",
    "- 문자열 변수를 초기화할 때는 큰따옴표(\")나 작은 따옴표(')를 이용한다.\n",
    "- 문자열 안에 큰따옴표나 작은따옴표가 포함되어야 하는 경우가 있다.\n",
    "    - 전체 문자열을 큰따옴표로 구성하는 경우, 내부적으로 작은따옴표를 포함할 수 있다.\n",
    "    - 전체 문자열을 작은따옴표로 구성하는 경우, 내부적으로 큰따옴표를 포함할 수 있다.\n",
    "    - 또는 백슬래시(\\)를 이용하면, 큰따옴표나 작은따옴표를 원하는 만큼 포함시킬 수 있다."
   ]
  },
  {
   "cell_type": "code",
   "execution_count": 25,
   "metadata": {},
   "outputs": [
    {
     "name": "stdout",
     "output_type": "stream",
     "text": [
      "Don't you know \"Python\"? \n"
     ]
    }
   ],
   "source": [
    "data = \"Don't you know \\\"Python\\\"? \"\n",
    "print(data)"
   ]
  },
  {
   "cell_type": "markdown",
   "metadata": {},
   "source": [
    "### 문자열연산\n",
    "-  문자열 변수에 덧셈(+)을 이용하면 문자열이 더해져서 연결이 된다.\n",
    "- 문자열 변수를 특정한 양의 정수와 곱하는 경우, 문자열이 그 값만큼 여러번 더해진다.\n",
    "- 파이썬은 문자열은 내부적으로 튜플과 유사하게 처리된다.\n",
    "    - 인덱싱과 슬라이싱 이용할 수 있음"
   ]
  },
  {
   "cell_type": "code",
   "execution_count": 27,
   "metadata": {},
   "outputs": [
    {
     "name": "stdout",
     "output_type": "stream",
     "text": [
      "BD\n"
     ]
    }
   ],
   "source": [
    "a=\"ANBDDHJSL\"\n",
    "print(a[2:4])"
   ]
  },
  {
   "cell_type": "code",
   "execution_count": null,
   "metadata": {},
   "outputs": [],
   "source": []
  },
  {
   "cell_type": "code",
   "execution_count": null,
   "metadata": {},
   "outputs": [],
   "source": []
  },
  {
   "cell_type": "code",
   "execution_count": null,
   "metadata": {},
   "outputs": [],
   "source": []
  },
  {
   "cell_type": "code",
   "execution_count": null,
   "metadata": {},
   "outputs": [],
   "source": []
  },
  {
   "cell_type": "code",
   "execution_count": null,
   "metadata": {},
   "outputs": [],
   "source": []
  },
  {
   "cell_type": "code",
   "execution_count": null,
   "metadata": {},
   "outputs": [],
   "source": []
  },
  {
   "cell_type": "code",
   "execution_count": null,
   "metadata": {},
   "outputs": [],
   "source": []
  },
  {
   "cell_type": "code",
   "execution_count": null,
   "metadata": {},
   "outputs": [],
   "source": []
  },
  {
   "cell_type": "code",
   "execution_count": null,
   "metadata": {},
   "outputs": [],
   "source": []
  },
  {
   "cell_type": "code",
   "execution_count": null,
   "metadata": {},
   "outputs": [],
   "source": []
  },
  {
   "cell_type": "code",
   "execution_count": null,
   "metadata": {},
   "outputs": [],
   "source": []
  },
  {
   "cell_type": "code",
   "execution_count": null,
   "metadata": {},
   "outputs": [],
   "source": []
  },
  {
   "cell_type": "code",
   "execution_count": null,
   "metadata": {},
   "outputs": [],
   "source": []
  },
  {
   "cell_type": "code",
   "execution_count": null,
   "metadata": {},
   "outputs": [],
   "source": []
  },
  {
   "cell_type": "code",
   "execution_count": null,
   "metadata": {},
   "outputs": [],
   "source": []
  },
  {
   "cell_type": "code",
   "execution_count": null,
   "metadata": {},
   "outputs": [],
   "source": []
  },
  {
   "cell_type": "code",
   "execution_count": null,
   "metadata": {},
   "outputs": [],
   "source": []
  },
  {
   "cell_type": "code",
   "execution_count": null,
   "metadata": {},
   "outputs": [],
   "source": []
  },
  {
   "cell_type": "code",
   "execution_count": null,
   "metadata": {},
   "outputs": [],
   "source": []
  },
  {
   "cell_type": "code",
   "execution_count": null,
   "metadata": {},
   "outputs": [],
   "source": []
  },
  {
   "cell_type": "code",
   "execution_count": null,
   "metadata": {},
   "outputs": [],
   "source": []
  },
  {
   "cell_type": "code",
   "execution_count": null,
   "metadata": {},
   "outputs": [],
   "source": []
  },
  {
   "cell_type": "code",
   "execution_count": null,
   "metadata": {},
   "outputs": [],
   "source": []
  },
  {
   "cell_type": "code",
   "execution_count": null,
   "metadata": {},
   "outputs": [],
   "source": []
  },
  {
   "cell_type": "code",
   "execution_count": null,
   "metadata": {},
   "outputs": [],
   "source": []
  },
  {
   "cell_type": "code",
   "execution_count": null,
   "metadata": {},
   "outputs": [],
   "source": []
  },
  {
   "cell_type": "code",
   "execution_count": null,
   "metadata": {},
   "outputs": [],
   "source": []
  },
  {
   "cell_type": "code",
   "execution_count": null,
   "metadata": {},
   "outputs": [],
   "source": []
  },
  {
   "cell_type": "code",
   "execution_count": null,
   "metadata": {},
   "outputs": [],
   "source": []
  }
 ],
 "metadata": {
  "kernelspec": {
   "display_name": "Python 3",
   "language": "python",
   "name": "python3"
  },
  "language_info": {
   "codemirror_mode": {
    "name": "ipython",
    "version": 3
   },
   "file_extension": ".py",
   "mimetype": "text/x-python",
   "name": "python",
   "nbconvert_exporter": "python",
   "pygments_lexer": "ipython3",
   "version": "3.8.5"
  }
 },
 "nbformat": 4,
 "nbformat_minor": 4
}
